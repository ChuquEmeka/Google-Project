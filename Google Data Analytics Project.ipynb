{
 "cells": [
  {
   "cell_type": "markdown",
   "id": "c4b4407d",
   "metadata": {},
   "source": [
    "---\n",
    "### Title: \"Google Data Analytics Capstone Project\"\n",
    "### Author: \"Edeh Emeka N\"\n",
    "### Date: 2021-08-26\n",
    "---"
   ]
  },
  {
   "cell_type": "markdown",
   "id": "ad139c7c",
   "metadata": {},
   "source": [
    "### Project Goal: \n",
    "I am mandated to determine how annual members and casual riders use Cyclistic bikes differently with the aim of converting casual riders into annual member.    \n",
    "\n",
    "**Key stakeholders**:            \n",
    "Lily Moreno: The director of marketing,    \n",
    "Cyclistic executive team and  \n",
    "Cyclistic marketing analytics team.    \n",
    "                          \n",
    "### Ask Phase  \n",
    "By the end of this project, i should be able to determine how annual members and casual riders use Cyclistic bikes differently, Why casual riders would want to buy Cyclistic annual memberships and how Cyclistic can use digital media to influence casual riders to become members.\n",
    "\n",
    "#### Tools Used for this project.  \n",
    "\n",
    "Excel, SQL and R-Language \n",
    "\n",
    "### Prepare Phase  \n",
    "The datasets being used for the project are 12 months of trip data owned by Motivate International Inc who have granted me a non-exclusive, royalty-free, limited, perpetual license to access, reproduce, analyze, copy, modify, distribute in my product or service and use the Data for any lawful purpose (“License”).    \n",
    "\n",
    "There are no issues of bias or credibility with these datasets. They are Reliable, Original, Comprehensive, Current and Cited.    \n",
    "\n",
    "Upon initial inspection of each of the 12 csv datasets using ISBLANK function in excel, i noticed that some of the observations are missing. This i will address subsequently using RStudio.  \n",
    "                     \n",
    "### Loading Datasets  \n",
    "\n",
    "Loading the needed 12 csv datasets, i will first load the tidyverse package which contains most of the dataframe manipulation packages needed \n",
    "for loading and cleaning the datasets for this project."
   ]
  },
  {
   "cell_type": "code",
   "execution_count": 2,
   "id": "64254b15",
   "metadata": {},
   "outputs": [
    {
     "name": "stderr",
     "output_type": "stream",
     "text": [
      "Registered S3 methods overwritten by 'ggplot2':\n",
      "  method         from \n",
      "  [.quosures     rlang\n",
      "  c.quosures     rlang\n",
      "  print.quosures rlang\n",
      "Registered S3 method overwritten by 'rvest':\n",
      "  method            from\n",
      "  read_xml.response xml2\n",
      "-- Attaching packages --------------------------------------- tidyverse 1.2.1 --\n",
      "v ggplot2 3.1.1       v purrr   0.3.2  \n",
      "v tibble  2.1.1       v dplyr   0.8.0.1\n",
      "v tidyr   0.8.3       v stringr 1.4.0  \n",
      "v readr   1.3.1       v forcats 0.4.0  \n",
      "-- Conflicts ------------------------------------------ tidyverse_conflicts() --\n",
      "x dplyr::filter() masks stats::filter()\n",
      "x dplyr::lag()    masks stats::lag()\n"
     ]
    }
   ],
   "source": [
    "library(\"tidyverse\")"
   ]
  },
  {
   "cell_type": "markdown",
   "id": "c67af269",
   "metadata": {},
   "source": [
    "### DATA COMBINATION\n",
    "I have just the needed 12 csv files for this project in my current working directory with each file representing trip  \n",
    "data for a month. read.csv function from readr package will import all the files and the rbind function will bind all the rows of these separate files into one dataframe. "
   ]
  },
  {
   "cell_type": "code",
   "execution_count": 3,
   "id": "ec4dec97",
   "metadata": {},
   "outputs": [
    {
     "data": {
      "text/html": [
       "<ol class=list-inline>\n",
       "\t<li>'April_2021_divvy_tripdata.csv'</li>\n",
       "\t<li>'August_2020_divvy_tripdata.csv'</li>\n",
       "\t<li>'December_2020_divvy_tripdata.csv'</li>\n",
       "\t<li>'February_2021_divvy_tripdata.csv'</li>\n",
       "\t<li>'January_2021_divvy_tripdata.csv'</li>\n",
       "\t<li>'July_2021_divvy_tripdata.csv'</li>\n",
       "\t<li>'June_2021_divvy_tripdata.csv'</li>\n",
       "\t<li>'March_2021_divvy_tripdata.csv'</li>\n",
       "\t<li>'May_2021_divvy_tripdata.csv'</li>\n",
       "\t<li>'November_2020_divvy_tripdata.csv'</li>\n",
       "\t<li>'October_2020_divvy_tripdata.csv'</li>\n",
       "\t<li>'September_2020_divvy_tripdata.csv'</li>\n",
       "</ol>\n"
      ],
      "text/latex": [
       "\\begin{enumerate*}\n",
       "\\item 'April\\_2021\\_divvy\\_tripdata.csv'\n",
       "\\item 'August\\_2020\\_divvy\\_tripdata.csv'\n",
       "\\item 'December\\_2020\\_divvy\\_tripdata.csv'\n",
       "\\item 'February\\_2021\\_divvy\\_tripdata.csv'\n",
       "\\item 'January\\_2021\\_divvy\\_tripdata.csv'\n",
       "\\item 'July\\_2021\\_divvy\\_tripdata.csv'\n",
       "\\item 'June\\_2021\\_divvy\\_tripdata.csv'\n",
       "\\item 'March\\_2021\\_divvy\\_tripdata.csv'\n",
       "\\item 'May\\_2021\\_divvy\\_tripdata.csv'\n",
       "\\item 'November\\_2020\\_divvy\\_tripdata.csv'\n",
       "\\item 'October\\_2020\\_divvy\\_tripdata.csv'\n",
       "\\item 'September\\_2020\\_divvy\\_tripdata.csv'\n",
       "\\end{enumerate*}\n"
      ],
      "text/markdown": [
       "1. 'April_2021_divvy_tripdata.csv'\n",
       "2. 'August_2020_divvy_tripdata.csv'\n",
       "3. 'December_2020_divvy_tripdata.csv'\n",
       "4. 'February_2021_divvy_tripdata.csv'\n",
       "5. 'January_2021_divvy_tripdata.csv'\n",
       "6. 'July_2021_divvy_tripdata.csv'\n",
       "7. 'June_2021_divvy_tripdata.csv'\n",
       "8. 'March_2021_divvy_tripdata.csv'\n",
       "9. 'May_2021_divvy_tripdata.csv'\n",
       "10. 'November_2020_divvy_tripdata.csv'\n",
       "11. 'October_2020_divvy_tripdata.csv'\n",
       "12. 'September_2020_divvy_tripdata.csv'\n",
       "\n",
       "\n"
      ],
      "text/plain": [
       " [1] \"April_2021_divvy_tripdata.csv\"     \"August_2020_divvy_tripdata.csv\"   \n",
       " [3] \"December_2020_divvy_tripdata.csv\"  \"February_2021_divvy_tripdata.csv\" \n",
       " [5] \"January_2021_divvy_tripdata.csv\"   \"July_2021_divvy_tripdata.csv\"     \n",
       " [7] \"June_2021_divvy_tripdata.csv\"      \"March_2021_divvy_tripdata.csv\"    \n",
       " [9] \"May_2021_divvy_tripdata.csv\"       \"November_2020_divvy_tripdata.csv\" \n",
       "[11] \"October_2020_divvy_tripdata.csv\"   \"September_2020_divvy_tripdata.csv\""
      ]
     },
     "metadata": {},
     "output_type": "display_data"
    },
    {
     "name": "stderr",
     "output_type": "stream",
     "text": [
      "Parsed with column specification:\n",
      "cols(\n",
      "  ride_id = col_character(),\n",
      "  rideable_type = col_character(),\n",
      "  started_at = col_datetime(format = \"\"),\n",
      "  ended_at = col_datetime(format = \"\"),\n",
      "  start_station_name = col_character(),\n",
      "  start_station_id = col_character(),\n",
      "  end_station_name = col_character(),\n",
      "  end_station_id = col_character(),\n",
      "  start_lat = col_double(),\n",
      "  start_lng = col_double(),\n",
      "  end_lat = col_double(),\n",
      "  end_lng = col_double(),\n",
      "  member_casual = col_character()\n",
      ")\n",
      "Parsed with column specification:\n",
      "cols(\n",
      "  ride_id = col_character(),\n",
      "  rideable_type = col_character(),\n",
      "  started_at = col_datetime(format = \"\"),\n",
      "  ended_at = col_datetime(format = \"\"),\n",
      "  start_station_name = col_character(),\n",
      "  start_station_id = col_double(),\n",
      "  end_station_name = col_character(),\n",
      "  end_station_id = col_double(),\n",
      "  start_lat = col_double(),\n",
      "  start_lng = col_double(),\n",
      "  end_lat = col_double(),\n",
      "  end_lng = col_double(),\n",
      "  member_casual = col_character()\n",
      ")\n",
      "Parsed with column specification:\n",
      "cols(\n",
      "  ride_id = col_character(),\n",
      "  rideable_type = col_character(),\n",
      "  started_at = col_datetime(format = \"\"),\n",
      "  ended_at = col_datetime(format = \"\"),\n",
      "  start_station_name = col_character(),\n",
      "  start_station_id = col_character(),\n",
      "  end_station_name = col_character(),\n",
      "  end_station_id = col_character(),\n",
      "  start_lat = col_double(),\n",
      "  start_lng = col_double(),\n",
      "  end_lat = col_double(),\n",
      "  end_lng = col_double(),\n",
      "  member_casual = col_character()\n",
      ")\n",
      "Parsed with column specification:\n",
      "cols(\n",
      "  ride_id = col_character(),\n",
      "  rideable_type = col_character(),\n",
      "  started_at = col_datetime(format = \"\"),\n",
      "  ended_at = col_datetime(format = \"\"),\n",
      "  start_station_name = col_character(),\n",
      "  start_station_id = col_character(),\n",
      "  end_station_name = col_character(),\n",
      "  end_station_id = col_character(),\n",
      "  start_lat = col_double(),\n",
      "  start_lng = col_double(),\n",
      "  end_lat = col_double(),\n",
      "  end_lng = col_double(),\n",
      "  member_casual = col_character()\n",
      ")\n",
      "Parsed with column specification:\n",
      "cols(\n",
      "  ride_id = col_character(),\n",
      "  rideable_type = col_character(),\n",
      "  started_at = col_datetime(format = \"\"),\n",
      "  ended_at = col_datetime(format = \"\"),\n",
      "  start_station_name = col_character(),\n",
      "  start_station_id = col_character(),\n",
      "  end_station_name = col_character(),\n",
      "  end_station_id = col_character(),\n",
      "  start_lat = col_double(),\n",
      "  start_lng = col_double(),\n",
      "  end_lat = col_double(),\n",
      "  end_lng = col_double(),\n",
      "  member_casual = col_character()\n",
      ")\n",
      "Parsed with column specification:\n",
      "cols(\n",
      "  ride_id = col_character(),\n",
      "  rideable_type = col_character(),\n",
      "  started_at = col_datetime(format = \"\"),\n",
      "  ended_at = col_datetime(format = \"\"),\n",
      "  start_station_name = col_character(),\n",
      "  start_station_id = col_character(),\n",
      "  end_station_name = col_character(),\n",
      "  end_station_id = col_character(),\n",
      "  start_lat = col_double(),\n",
      "  start_lng = col_double(),\n",
      "  end_lat = col_double(),\n",
      "  end_lng = col_double(),\n",
      "  member_casual = col_character()\n",
      ")\n",
      "Parsed with column specification:\n",
      "cols(\n",
      "  ride_id = col_character(),\n",
      "  rideable_type = col_character(),\n",
      "  started_at = col_datetime(format = \"\"),\n",
      "  ended_at = col_datetime(format = \"\"),\n",
      "  start_station_name = col_character(),\n",
      "  start_station_id = col_character(),\n",
      "  end_station_name = col_character(),\n",
      "  end_station_id = col_character(),\n",
      "  start_lat = col_double(),\n",
      "  start_lng = col_double(),\n",
      "  end_lat = col_double(),\n",
      "  end_lng = col_double(),\n",
      "  member_casual = col_character()\n",
      ")\n",
      "Parsed with column specification:\n",
      "cols(\n",
      "  ride_id = col_character(),\n",
      "  rideable_type = col_character(),\n",
      "  started_at = col_datetime(format = \"\"),\n",
      "  ended_at = col_datetime(format = \"\"),\n",
      "  start_station_name = col_character(),\n",
      "  start_station_id = col_character(),\n",
      "  end_station_name = col_character(),\n",
      "  end_station_id = col_character(),\n",
      "  start_lat = col_double(),\n",
      "  start_lng = col_double(),\n",
      "  end_lat = col_double(),\n",
      "  end_lng = col_double(),\n",
      "  member_casual = col_character()\n",
      ")\n",
      "Parsed with column specification:\n",
      "cols(\n",
      "  ride_id = col_character(),\n",
      "  rideable_type = col_character(),\n",
      "  started_at = col_datetime(format = \"\"),\n",
      "  ended_at = col_datetime(format = \"\"),\n",
      "  start_station_name = col_character(),\n",
      "  start_station_id = col_character(),\n",
      "  end_station_name = col_character(),\n",
      "  end_station_id = col_character(),\n",
      "  start_lat = col_double(),\n",
      "  start_lng = col_double(),\n",
      "  end_lat = col_double(),\n",
      "  end_lng = col_double(),\n",
      "  member_casual = col_character()\n",
      ")\n",
      "Parsed with column specification:\n",
      "cols(\n",
      "  ride_id = col_character(),\n",
      "  rideable_type = col_character(),\n",
      "  started_at = col_datetime(format = \"\"),\n",
      "  ended_at = col_datetime(format = \"\"),\n",
      "  start_station_name = col_character(),\n",
      "  start_station_id = col_double(),\n",
      "  end_station_name = col_character(),\n",
      "  end_station_id = col_double(),\n",
      "  start_lat = col_double(),\n",
      "  start_lng = col_double(),\n",
      "  end_lat = col_double(),\n",
      "  end_lng = col_double(),\n",
      "  member_casual = col_character()\n",
      ")\n",
      "Parsed with column specification:\n",
      "cols(\n",
      "  ride_id = col_character(),\n",
      "  rideable_type = col_character(),\n",
      "  started_at = col_datetime(format = \"\"),\n",
      "  ended_at = col_datetime(format = \"\"),\n",
      "  start_station_name = col_character(),\n",
      "  start_station_id = col_double(),\n",
      "  end_station_name = col_character(),\n",
      "  end_station_id = col_double(),\n",
      "  start_lat = col_double(),\n",
      "  start_lng = col_double(),\n",
      "  end_lat = col_double(),\n",
      "  end_lng = col_double(),\n",
      "  member_casual = col_character()\n",
      ")\n",
      "Parsed with column specification:\n",
      "cols(\n",
      "  ride_id = col_character(),\n",
      "  rideable_type = col_character(),\n",
      "  started_at = col_datetime(format = \"\"),\n",
      "  ended_at = col_datetime(format = \"\"),\n",
      "  start_station_name = col_character(),\n",
      "  start_station_id = col_double(),\n",
      "  end_station_name = col_character(),\n",
      "  end_station_id = col_double(),\n",
      "  start_lat = col_double(),\n",
      "  start_lng = col_double(),\n",
      "  end_lat = col_double(),\n",
      "  end_lng = col_double(),\n",
      "  member_casual = col_character()\n",
      ")\n"
     ]
    },
    {
     "data": {
      "text/html": [
       "<table>\n",
       "<thead><tr><th scope=col>ride_id</th><th scope=col>rideable_type</th><th scope=col>started_at</th><th scope=col>ended_at</th><th scope=col>start_station_name</th><th scope=col>start_station_id</th><th scope=col>end_station_name</th><th scope=col>end_station_id</th><th scope=col>start_lat</th><th scope=col>start_lng</th><th scope=col>end_lat</th><th scope=col>end_lng</th><th scope=col>member_casual</th></tr></thead>\n",
       "<tbody>\n",
       "\t<tr><td>6C992BD37A98A63F                                                    </td><td>classic_bike                                                        </td><td>2021-04-12 18:25:36                                                 </td><td>2021-04-12 18:56:55                                                 </td><td><span style=white-space:pre-wrap>State St &amp; Pearson St   </span></td><td>TA1307000061                                                        </td><td>Southport Ave &amp; Waveland Ave                                    </td><td><span style=white-space:pre-wrap>13235       </span>                </td><td>41.89745                                                            </td><td>-87.62872                                                           </td><td>41.94815                                                            </td><td>-87.66394                                                           </td><td>member                                                              </td></tr>\n",
       "\t<tr><td>1E0145613A209000                                                        </td><td><span style=white-space:pre-wrap>docked_bike  </span>                   </td><td>2021-04-27 17:27:11                                                     </td><td>2021-04-27 18:31:29                                                     </td><td>Dorchester Ave &amp; 49th St                                            </td><td>KA1503000069                                                            </td><td><span style=white-space:pre-wrap>Dorchester Ave &amp; 49th St    </span></td><td>KA1503000069                                                            </td><td>41.80577                                                                </td><td>-87.59246                                                               </td><td>41.80577                                                                </td><td>-87.59246                                                               </td><td>casual                                                                  </td></tr>\n",
       "\t<tr><td>E498E15508A80BAD                                                        </td><td><span style=white-space:pre-wrap>docked_bike  </span>                   </td><td>2021-04-03 12:42:45                                                     </td><td>2021-04-07 11:40:24                                                     </td><td><span style=white-space:pre-wrap>Loomis Blvd &amp; 84th St   </span>    </td><td><span style=white-space:pre-wrap>20121       </span>                    </td><td><span style=white-space:pre-wrap>Loomis Blvd &amp; 84th St       </span></td><td><span style=white-space:pre-wrap>20121       </span>                    </td><td>41.74149                                                                </td><td>-87.65841                                                               </td><td>41.74149                                                                </td><td>-87.65841                                                               </td><td>casual                                                                  </td></tr>\n",
       "\t<tr><td>1887262AD101C604                                    </td><td>classic_bike                                        </td><td>2021-04-17 09:17:42                                 </td><td>2021-04-17 09:42:48                                 </td><td>Honore St &amp; Division St                         </td><td>TA1305000034                                        </td><td>Southport Ave &amp; Waveland Ave                    </td><td><span style=white-space:pre-wrap>13235       </span></td><td>41.90312                                            </td><td>-87.67394                                           </td><td>41.94815                                            </td><td>-87.66394                                           </td><td>member                                              </td></tr>\n",
       "\t<tr><td>C123548CAB2A32A5                                                        </td><td><span style=white-space:pre-wrap>docked_bike  </span>                   </td><td>2021-04-03 12:42:25                                                     </td><td>2021-04-03 14:13:42                                                     </td><td><span style=white-space:pre-wrap>Loomis Blvd &amp; 84th St   </span>    </td><td><span style=white-space:pre-wrap>20121       </span>                    </td><td><span style=white-space:pre-wrap>Loomis Blvd &amp; 84th St       </span></td><td><span style=white-space:pre-wrap>20121       </span>                    </td><td>41.74149                                                                </td><td>-87.65841                                                               </td><td>41.74149                                                                </td><td>-87.65841                                                               </td><td>casual                                                                  </td></tr>\n",
       "\t<tr><td>097E76F3651B1AC1                                                        </td><td>classic_bike                                                            </td><td>2021-04-25 18:43:18                                                     </td><td>2021-04-25 18:43:59                                                     </td><td><span style=white-space:pre-wrap>Clinton St &amp; Polk St    </span>    </td><td><span style=white-space:pre-wrap>15542       </span>                    </td><td><span style=white-space:pre-wrap>Clinton St &amp; Polk St        </span></td><td><span style=white-space:pre-wrap>15542       </span>                    </td><td>41.87147                                                                </td><td>-87.64095                                                               </td><td>41.87147                                                                </td><td>-87.64095                                                               </td><td>casual                                                                  </td></tr>\n",
       "\t<tr><td>53C38EB01E6FA5C4                                                        </td><td>classic_bike                                                            </td><td>2021-04-03 16:28:21                                                     </td><td>2021-04-03 16:29:47                                                     </td><td><span style=white-space:pre-wrap>Ashland Ave &amp; 63rd St   </span>    </td><td><span style=white-space:pre-wrap>16948       </span>                    </td><td><span style=white-space:pre-wrap>Ashland Ave &amp; 63rd St       </span></td><td><span style=white-space:pre-wrap>16948       </span>                    </td><td>41.77937                                                                </td><td>-87.66484                                                               </td><td>41.77937                                                                </td><td>-87.66484                                                               </td><td>casual                                                                  </td></tr>\n",
       "\t<tr><td>D53AC014EFD6E2BA                                                        </td><td>electric_bike                                                           </td><td>2021-04-06 16:35:06                                                     </td><td>2021-04-06 17:00:56                                                     </td><td>Dorchester Ave &amp; 49th St                                            </td><td>KA1503000069                                                            </td><td><span style=white-space:pre-wrap>Dorchester Ave &amp; 49th St    </span></td><td>KA1503000069                                                            </td><td>41.80583                                                                </td><td>-87.59248                                                               </td><td>41.80580                                                                </td><td>-87.59266                                                               </td><td>casual                                                                  </td></tr>\n",
       "\t<tr><td>6E2F7CA1FA9E0AFB                                                        </td><td>classic_bike                                                            </td><td>2021-04-12 15:22:54                                                     </td><td>2021-04-12 16:15:48                                                     </td><td><span style=white-space:pre-wrap>Ashland Ave &amp; 63rd St   </span>    </td><td><span style=white-space:pre-wrap>16948       </span>                    </td><td><span style=white-space:pre-wrap>Ashland Ave &amp; 63rd St       </span></td><td><span style=white-space:pre-wrap>16948       </span>                    </td><td>41.77937                                                                </td><td>-87.66484                                                               </td><td>41.77937                                                                </td><td>-87.66484                                                               </td><td>casual                                                                  </td></tr>\n",
       "\t<tr><td>04218447AAC80BD1                                                        </td><td>classic_bike                                                            </td><td>2021-04-24 15:04:55                                                     </td><td>2021-04-24 15:06:16                                                     </td><td>Dorchester Ave &amp; 49th St                                            </td><td>KA1503000069                                                            </td><td><span style=white-space:pre-wrap>Dorchester Ave &amp; 49th St    </span></td><td>KA1503000069                                                            </td><td>41.80577                                                                </td><td>-87.59246                                                               </td><td>41.80577                                                                </td><td>-87.59246                                                               </td><td>casual                                                                  </td></tr>\n",
       "\t<tr><td>B45BBE0734834247                                                        </td><td>electric_bike                                                           </td><td>2021-04-03 18:03:40                                                     </td><td>2021-04-03 19:13:22                                                     </td><td><span style=white-space:pre-wrap>Loomis Blvd &amp; 84th St   </span>    </td><td><span style=white-space:pre-wrap>20121       </span>                    </td><td><span style=white-space:pre-wrap>Loomis Blvd &amp; 84th St       </span></td><td><span style=white-space:pre-wrap>20121       </span>                    </td><td>41.74156                                                                </td><td>-87.65842                                                               </td><td>41.74160                                                                </td><td>-87.65842                                                               </td><td>casual                                                                  </td></tr>\n",
       "\t<tr><td>70DEC4E102F00DC2                                                        </td><td>electric_bike                                                           </td><td>2021-04-24 18:01:29                                                     </td><td>2021-04-24 19:39:00                                                     </td><td><span style=white-space:pre-wrap>Halsted St &amp; 69th St    </span>    </td><td><span style=white-space:pre-wrap>15597       </span>                    </td><td><span style=white-space:pre-wrap>Halsted St &amp; 69th St        </span></td><td><span style=white-space:pre-wrap>15597       </span>                    </td><td>41.76901                                                                </td><td>-87.64463                                                               </td><td>41.76901                                                                </td><td>-87.64458                                                               </td><td>casual                                                                  </td></tr>\n",
       "\t<tr><td>B33484FA16A9A0FE                                                        </td><td>classic_bike                                                            </td><td>2021-04-27 18:31:52                                                     </td><td>2021-04-27 19:17:20                                                     </td><td>Dorchester Ave &amp; 49th St                                            </td><td>KA1503000069                                                            </td><td><span style=white-space:pre-wrap>Dorchester Ave &amp; 49th St    </span></td><td>KA1503000069                                                            </td><td>41.80577                                                                </td><td>-87.59246                                                               </td><td>41.80577                                                                </td><td>-87.59246                                                               </td><td>casual                                                                  </td></tr>\n",
       "\t<tr><td>8670C65989291512                                                        </td><td>classic_bike                                                            </td><td>2021-04-04 14:19:43                                                     </td><td>2021-04-04 14:26:29                                                     </td><td>Dorchester Ave &amp; 49th St                                            </td><td>KA1503000069                                                            </td><td><span style=white-space:pre-wrap>Dorchester Ave &amp; 49th St    </span></td><td>KA1503000069                                                            </td><td>41.80577                                                                </td><td>-87.59246                                                               </td><td>41.80577                                                                </td><td>-87.59246                                                               </td><td>casual                                                                  </td></tr>\n",
       "\t<tr><td>EFF545B4881F0C25                                                        </td><td>classic_bike                                                            </td><td>2021-04-13 12:12:50                                                     </td><td>2021-04-13 13:12:11                                                     </td><td>Dorchester Ave &amp; 49th St                                            </td><td>KA1503000069                                                            </td><td><span style=white-space:pre-wrap>Dorchester Ave &amp; 49th St    </span></td><td>KA1503000069                                                            </td><td>41.80577                                                                </td><td>-87.59246                                                               </td><td>41.80577                                                                </td><td>-87.59246                                                               </td><td>casual                                                                  </td></tr>\n",
       "\t<tr><td>49658BDF5846360E                                                        </td><td>electric_bike                                                           </td><td>2021-04-08 17:59:33                                                     </td><td>2021-04-08 18:11:30                                                     </td><td>Dorchester Ave &amp; 49th St                                            </td><td>KA1503000069                                                            </td><td><span style=white-space:pre-wrap>Dorchester Ave &amp; 49th St    </span></td><td>KA1503000069                                                            </td><td>41.80583                                                                </td><td>-87.59252                                                               </td><td>41.80594                                                                </td><td>-87.59247                                                               </td><td>casual                                                                  </td></tr>\n",
       "\t<tr><td>E5261048A5E7365B                                                        </td><td>electric_bike                                                           </td><td>2021-04-27 16:22:42                                                     </td><td>2021-04-27 16:47:19                                                     </td><td><span style=white-space:pre-wrap>Loomis Blvd &amp; 84th St   </span>    </td><td><span style=white-space:pre-wrap>20121       </span>                    </td><td><span style=white-space:pre-wrap>Loomis Blvd &amp; 84th St       </span></td><td><span style=white-space:pre-wrap>20121       </span>                    </td><td>41.74156                                                                </td><td>-87.65842                                                               </td><td>41.74157                                                                </td><td>-87.65844                                                               </td><td>casual                                                                  </td></tr>\n",
       "\t<tr><td>9DADAD1E49747066                                                        </td><td><span style=white-space:pre-wrap>docked_bike  </span>                   </td><td>2021-04-25 17:42:16                                                     </td><td>2021-04-25 18:02:55                                                     </td><td>Dorchester Ave &amp; 49th St                                            </td><td>KA1503000069                                                            </td><td><span style=white-space:pre-wrap>Dorchester Ave &amp; 49th St    </span></td><td>KA1503000069                                                            </td><td>41.80577                                                                </td><td>-87.59246                                                               </td><td>41.80577                                                                </td><td>-87.59246                                                               </td><td>casual                                                                  </td></tr>\n",
       "\t<tr><td>440BBEEEEA9DD6FE                                                        </td><td>classic_bike                                                            </td><td>2021-04-07 14:24:51                                                     </td><td>2021-04-07 14:25:57                                                     </td><td>Dorchester Ave &amp; 49th St                                            </td><td>KA1503000069                                                            </td><td><span style=white-space:pre-wrap>Dorchester Ave &amp; 49th St    </span></td><td>KA1503000069                                                            </td><td>41.80577                                                                </td><td>-87.59246                                                               </td><td>41.80577                                                                </td><td>-87.59246                                                               </td><td>casual                                                                  </td></tr>\n",
       "\t<tr><td>B39DF385508E7DCF                                                        </td><td>classic_bike                                                            </td><td>2021-04-27 09:00:07                                                     </td><td>2021-04-27 09:30:28                                                     </td><td>Dorchester Ave &amp; 49th St                                            </td><td>KA1503000069                                                            </td><td><span style=white-space:pre-wrap>Dorchester Ave &amp; 49th St    </span></td><td>KA1503000069                                                            </td><td>41.80577                                                                </td><td>-87.59246                                                               </td><td>41.80577                                                                </td><td>-87.59246                                                               </td><td>casual                                                                  </td></tr>\n",
       "\t<tr><td>1E1D708751A45FBB                                                        </td><td>classic_bike                                                            </td><td>2021-04-27 18:20:52                                                     </td><td>2021-04-27 18:23:56                                                     </td><td><span style=white-space:pre-wrap>Clinton St &amp; Polk St    </span>    </td><td><span style=white-space:pre-wrap>15542       </span>                    </td><td><span style=white-space:pre-wrap>Clinton St &amp; Polk St        </span></td><td><span style=white-space:pre-wrap>15542       </span>                    </td><td>41.87147                                                                </td><td>-87.64095                                                               </td><td>41.87147                                                                </td><td>-87.64095                                                               </td><td>casual                                                                  </td></tr>\n",
       "\t<tr><td>EF150999D6799927                                                        </td><td>electric_bike                                                           </td><td>2021-04-26 15:19:08                                                     </td><td>2021-04-26 15:47:33                                                     </td><td><span style=white-space:pre-wrap>Loomis Blvd &amp; 84th St   </span>    </td><td><span style=white-space:pre-wrap>20121       </span>                    </td><td><span style=white-space:pre-wrap>Loomis Blvd &amp; 84th St       </span></td><td><span style=white-space:pre-wrap>20121       </span>                    </td><td>41.74154                                                                </td><td>-87.65837                                                               </td><td>41.74155                                                                </td><td>-87.65841                                                               </td><td>casual                                                                  </td></tr>\n",
       "\t<tr><td>F01C5D9474B37874                                                        </td><td><span style=white-space:pre-wrap>docked_bike  </span>                   </td><td>2021-04-27 17:27:26                                                     </td><td>2021-04-27 17:56:08                                                     </td><td>Dorchester Ave &amp; 49th St                                            </td><td>KA1503000069                                                            </td><td><span style=white-space:pre-wrap>Dorchester Ave &amp; 49th St    </span></td><td>KA1503000069                                                            </td><td>41.80577                                                                </td><td>-87.59246                                                               </td><td>41.80577                                                                </td><td>-87.59246                                                               </td><td>casual                                                                  </td></tr>\n",
       "\t<tr><td>3241CB12D978A919                                                        </td><td><span style=white-space:pre-wrap>docked_bike  </span>                   </td><td>2021-04-26 16:39:35                                                     </td><td>2021-04-26 17:10:47                                                     </td><td>Dorchester Ave &amp; 49th St                                            </td><td>KA1503000069                                                            </td><td><span style=white-space:pre-wrap>Dorchester Ave &amp; 49th St    </span></td><td>KA1503000069                                                            </td><td>41.80577                                                                </td><td>-87.59246                                                               </td><td>41.80577                                                                </td><td>-87.59246                                                               </td><td>casual                                                                  </td></tr>\n",
       "\t<tr><td>3C1E34B72CF1DF6F                                                        </td><td><span style=white-space:pre-wrap>docked_bike  </span>                   </td><td>2021-04-24 14:13:38                                                     </td><td>2021-04-24 17:54:40                                                     </td><td><span style=white-space:pre-wrap>Halsted St &amp; 69th St    </span>    </td><td><span style=white-space:pre-wrap>15597       </span>                    </td><td><span style=white-space:pre-wrap>Halsted St &amp; 69th St        </span></td><td><span style=white-space:pre-wrap>15597       </span>                    </td><td>41.76906                                                                </td><td>-87.64461                                                               </td><td>41.76906                                                                </td><td>-87.64461                                                               </td><td>casual                                                                  </td></tr>\n",
       "\t<tr><td>7780E5A193F16BAA                                                        </td><td><span style=white-space:pre-wrap>docked_bike  </span>                   </td><td>2021-04-17 12:19:15                                                     </td><td>2021-04-17 12:33:23                                                     </td><td>Dorchester Ave &amp; 49th St                                            </td><td>KA1503000069                                                            </td><td><span style=white-space:pre-wrap>Dorchester Ave &amp; 49th St    </span></td><td>KA1503000069                                                            </td><td>41.80577                                                                </td><td>-87.59246                                                               </td><td>41.80577                                                                </td><td>-87.59246                                                               </td><td>casual                                                                  </td></tr>\n",
       "\t<tr><td>A1250C4C180BDB7A                                                        </td><td>electric_bike                                                           </td><td>2021-04-12 13:28:37                                                     </td><td>2021-04-12 13:43:47                                                     </td><td>Dorchester Ave &amp; 49th St                                            </td><td>KA1503000069                                                            </td><td><span style=white-space:pre-wrap>Dorchester Ave &amp; 49th St    </span></td><td>KA1503000069                                                            </td><td>41.80586                                                                </td><td>-87.59241                                                               </td><td>41.80585                                                                </td><td>-87.59250                                                               </td><td>casual                                                                  </td></tr>\n",
       "\t<tr><td>DCE53F03D9E930BC                                                        </td><td>classic_bike                                                            </td><td>2021-04-16 19:12:50                                                     </td><td>2021-04-16 19:30:04                                                     </td><td>Dorchester Ave &amp; 49th St                                            </td><td>KA1503000069                                                            </td><td><span style=white-space:pre-wrap>Dorchester Ave &amp; 49th St    </span></td><td>KA1503000069                                                            </td><td>41.80577                                                                </td><td>-87.59246                                                               </td><td>41.80577                                                                </td><td>-87.59246                                                               </td><td>casual                                                                  </td></tr>\n",
       "\t<tr><td>C1C200854F4A4289                                                        </td><td>classic_bike                                                            </td><td>2021-04-11 17:12:35                                                     </td><td>2021-04-11 17:13:10                                                     </td><td><span style=white-space:pre-wrap>Loomis Blvd &amp; 84th St   </span>    </td><td><span style=white-space:pre-wrap>20121       </span>                    </td><td><span style=white-space:pre-wrap>Loomis Blvd &amp; 84th St       </span></td><td><span style=white-space:pre-wrap>20121       </span>                    </td><td>41.74149                                                                </td><td>-87.65841                                                               </td><td>41.74149                                                                </td><td>-87.65841                                                               </td><td>casual                                                                  </td></tr>\n",
       "\t<tr><td>4613417749115AB3                                                        </td><td>classic_bike                                                            </td><td>2021-04-11 17:13:35                                                     </td><td>2021-04-11 18:14:14                                                     </td><td><span style=white-space:pre-wrap>Loomis Blvd &amp; 84th St   </span>    </td><td><span style=white-space:pre-wrap>20121       </span>                    </td><td><span style=white-space:pre-wrap>Loomis Blvd &amp; 84th St       </span></td><td><span style=white-space:pre-wrap>20121       </span>                    </td><td>41.74149                                                                </td><td>-87.65841                                                               </td><td>41.74149                                                                </td><td>-87.65841                                                               </td><td>casual                                                                  </td></tr>\n",
       "\t<tr><td>...</td><td>...</td><td>...</td><td>...</td><td>...</td><td>...</td><td>...</td><td>...</td><td>...</td><td>...</td><td>...</td><td>...</td><td>...</td></tr>\n",
       "\t<tr><td>C92D532DD3AE0919                                                                </td><td>electric_bike                                                                   </td><td>2020-09-26 18:27:28                                                             </td><td>2020-09-26 18:58:08                                                             </td><td><span style=white-space:pre-wrap>Evanston Civic Center         </span>          </td><td>661                                                                             </td><td><span style=white-space:pre-wrap>Sheridan Rd &amp; Loyola Ave            </span></td><td>451                                                                             </td><td>42.05700                                                                        </td><td>-87.68654                                                                       </td><td>42.00051                                                                        </td><td>-87.66125                                                                       </td><td>casual                                                                          </td></tr>\n",
       "\t<tr><td>C6CACCA29DE0AEA4                                                            </td><td>electric_bike                                                               </td><td>2020-09-26 15:50:58                                                         </td><td>2020-09-26 17:31:18                                                         </td><td><span style=white-space:pre-wrap>Sheridan Rd &amp; Loyola Ave      </span>  </td><td>451                                                                         </td><td><span style=white-space:pre-wrap>Evanston Civic Center               </span></td><td>661                                                                         </td><td>42.00115                                                                    </td><td>-87.66116                                                                   </td><td>42.05713                                                                    </td><td>-87.68640                                                                   </td><td>casual                                                                      </td></tr>\n",
       "\t<tr><td>DD38706E5F5BEF88                                                                </td><td>electric_bike                                                                   </td><td>2020-09-25 19:04:24                                                             </td><td>2020-09-25 19:31:24                                                             </td><td><span style=white-space:pre-wrap>Broadway &amp; Barry Ave          </span>      </td><td>300                                                                             </td><td><span style=white-space:pre-wrap>Green St &amp; Randolph St              </span></td><td>112                                                                             </td><td>41.93781                                                                        </td><td>-87.64405                                                                       </td><td>41.88363                                                                        </td><td>-87.64847                                                                       </td><td>casual                                                                          </td></tr>\n",
       "\t<tr><td>8839B26539058FB6                                                                </td><td>electric_bike                                                                   </td><td>2020-09-26 15:07:56                                                             </td><td>2020-09-26 15:29:08                                                             </td><td><span style=white-space:pre-wrap>NA                            </span>          </td><td>NA                                                                              </td><td><span style=white-space:pre-wrap>Ellis Ave &amp; 55th St                 </span></td><td>420                                                                             </td><td>41.80000                                                                        </td><td>-87.58000                                                                       </td><td>41.79443                                                                        </td><td>-87.60136                                                                       </td><td>casual                                                                          </td></tr>\n",
       "\t<tr><td>D1DA857D9A89C16C                    </td><td>electric_bike                       </td><td>2020-09-25 23:56:11                 </td><td>2020-09-26 00:04:04                 </td><td>NA                                  </td><td>NA                                  </td><td>NA                                  </td><td>NA                                  </td><td>41.93000                            </td><td>-87.70000                           </td><td>41.91000                            </td><td>-87.68000                           </td><td>casual                              </td></tr>\n",
       "\t<tr><td>ACFBB477438F9219                                                                </td><td>electric_bike                                                                   </td><td>2020-09-26 10:00:38                                                             </td><td>2020-09-26 10:07:49                                                             </td><td><span style=white-space:pre-wrap>Damen Ave &amp; Division St       </span>      </td><td>130                                                                             </td><td><span style=white-space:pre-wrap>California Ave &amp; Division St        </span></td><td>216                                                                             </td><td>41.90331                                                                        </td><td>-87.67849                                                                       </td><td>41.90302                                                                        </td><td>-87.69756                                                                       </td><td>casual                                                                          </td></tr>\n",
       "\t<tr><td>BF333B5C592CFB2D                                                                </td><td>electric_bike                                                                   </td><td>2020-09-26 10:23:24                                                             </td><td>2020-09-26 10:40:13                                                             </td><td><span style=white-space:pre-wrap>Damen Ave &amp; Pierce Ave        </span>      </td><td>69                                                                              </td><td><span style=white-space:pre-wrap>Damen Ave &amp; Pierce Ave              </span></td><td>69                                                                              </td><td>41.90937                                                                        </td><td>-87.67770                                                                       </td><td>41.90979                                                                        </td><td>-87.67761                                                                       </td><td>casual                                                                          </td></tr>\n",
       "\t<tr><td>DDEA448C9951E750                                                                </td><td>electric_bike                                                                   </td><td>2020-09-25 20:33:27                                                             </td><td>2020-09-25 20:46:15                                                             </td><td><span style=white-space:pre-wrap>NA                            </span>          </td><td>NA                                                                              </td><td><span style=white-space:pre-wrap>Noble St &amp; Milwaukee Ave            </span></td><td>29                                                                              </td><td>41.88000                                                                        </td><td>-87.68000                                                                       </td><td>41.90070                                                                        </td><td>-87.66258                                                                       </td><td>casual                                                                          </td></tr>\n",
       "\t<tr><td>22F33C67B6CDA154                                                                </td><td>electric_bike                                                                   </td><td>2020-09-26 16:53:26                                                             </td><td>2020-09-26 16:56:25                                                             </td><td><span style=white-space:pre-wrap>Buckingham Fountain           </span>          </td><td><span style=white-space:pre-wrap>2  </span>                                     </td><td><span style=white-space:pre-wrap>Michigan Ave &amp; 8th St               </span></td><td>623                                                                             </td><td>41.87635                                                                        </td><td>-87.62036                                                                       </td><td>41.87251                                                                        </td><td>-87.62395                                                                       </td><td>casual                                                                          </td></tr>\n",
       "\t<tr><td>92193838149E1AAD                    </td><td>electric_bike                       </td><td>2020-09-26 08:06:01                 </td><td>2020-09-26 08:20:28                 </td><td>NA                                  </td><td>NA                                  </td><td>NA                                  </td><td>NA                                  </td><td>41.75000                            </td><td>-87.58000                           </td><td>41.78000                            </td><td>-87.58000                           </td><td>casual                              </td></tr>\n",
       "\t<tr><td>C4AB9CC41016C4EB                    </td><td>electric_bike                       </td><td>2020-09-26 08:35:06                 </td><td>2020-09-26 08:42:34                 </td><td>NA                                  </td><td>NA                                  </td><td>NA                                  </td><td>NA                                  </td><td>41.78000                            </td><td>-87.58000                           </td><td>41.78000                            </td><td>-87.58000                           </td><td>casual                              </td></tr>\n",
       "\t<tr><td>8F82EAC129E22043                                                                </td><td>electric_bike                                                                   </td><td>2020-09-25 21:47:13                                                             </td><td>2020-09-25 22:04:11                                                             </td><td><span style=white-space:pre-wrap>Theater on the Lake           </span>          </td><td>177                                                                             </td><td><span style=white-space:pre-wrap>Broadway &amp; Waveland Ave             </span></td><td>304                                                                             </td><td>41.92631                                                                        </td><td>-87.63097                                                                       </td><td>41.94911                                                                        </td><td>-87.64857                                                                       </td><td>casual                                                                          </td></tr>\n",
       "\t<tr><td>0542E627B63FDDDE                        </td><td>electric_bike                           </td><td>2020-09-26 16:12:52                     </td><td>2020-09-26 16:31:38                     </td><td>Sheffield Ave &amp; Fullerton Ave       </td><td>67                                      </td><td>Damen Ave &amp; Thomas St (Augusta Blvd)</td><td>183                                     </td><td>41.92557                                </td><td>-87.65370                               </td><td>41.90138                                </td><td>-87.67746                               </td><td>casual                                  </td></tr>\n",
       "\t<tr><td>F95AF9B784C035EF                                                                </td><td>electric_bike                                                                   </td><td>2020-09-25 22:43:33                                                             </td><td>2020-09-25 23:04:46                                                             </td><td><span style=white-space:pre-wrap>Rhodes Ave &amp; 32nd St          </span>      </td><td>263                                                                             </td><td><span style=white-space:pre-wrap>Rhodes Ave &amp; 32nd St                </span></td><td>263                                                                             </td><td>41.83677                                                                        </td><td>-87.61343                                                                       </td><td>41.83700                                                                        </td><td>-87.61345                                                                       </td><td>casual                                                                          </td></tr>\n",
       "\t<tr><td>1DE2C54044900F2C                                                                </td><td>electric_bike                                                                   </td><td>2020-09-25 19:20:23                                                             </td><td>2020-09-25 19:32:05                                                             </td><td><span style=white-space:pre-wrap>NA                            </span>          </td><td>NA                                                                              </td><td><span style=white-space:pre-wrap>Ellis Ave &amp; 60th St                 </span></td><td>426                                                                             </td><td>41.80000                                                                        </td><td>-87.59000                                                                       </td><td>41.78515                                                                        </td><td>-87.60106                                                                       </td><td>casual                                                                          </td></tr>\n",
       "\t<tr><td>9DBB407D45A1BEF6                                                                </td><td>electric_bike                                                                   </td><td>2020-09-26 15:49:53                                                             </td><td>2020-09-26 15:53:33                                                             </td><td><span style=white-space:pre-wrap>Ellis Ave &amp; 55th St           </span>      </td><td>420                                                                             </td><td><span style=white-space:pre-wrap>Ellis Ave &amp; 60th St                 </span></td><td>426                                                                             </td><td>41.79422                                                                        </td><td>-87.60144                                                                       </td><td>41.78518                                                                        </td><td>-87.60106                                                                       </td><td>casual                                                                          </td></tr>\n",
       "\t<tr><td>A4E68773DDB3B057                                                                </td><td>electric_bike                                                                   </td><td>2020-09-26 14:33:20                                                             </td><td>2020-09-26 14:36:52                                                             </td><td><span style=white-space:pre-wrap>Ellis Ave &amp; 60th St           </span>      </td><td>426                                                                             </td><td><span style=white-space:pre-wrap>Ellis Ave &amp; 55th St                 </span></td><td>420                                                                             </td><td>41.78509                                                                        </td><td>-87.60113                                                                       </td><td>41.79279                                                                        </td><td>-87.60131                                                                       </td><td>casual                                                                          </td></tr>\n",
       "\t<tr><td>B916FDC07C1DED36                                                                </td><td>electric_bike                                                                   </td><td>2020-09-26 16:48:14                                                             </td><td>2020-09-26 16:49:36                                                             </td><td><span style=white-space:pre-wrap>NA                            </span>          </td><td>NA                                                                              </td><td><span style=white-space:pre-wrap>Bosworth Ave &amp; Howard St            </span></td><td>522                                                                             </td><td>42.02000                                                                        </td><td>-87.67000                                                                       </td><td>42.01949                                                                        </td><td>-87.66948                                                                       </td><td>casual                                                                          </td></tr>\n",
       "\t<tr><td>3D01FAAC7DB71F16                                                            </td><td>electric_bike                                                               </td><td>2020-09-26 15:00:17                                                         </td><td>2020-09-26 16:45:21                                                         </td><td><span style=white-space:pre-wrap>Greenwood Ave &amp; 47th St       </span>  </td><td>252                                                                         </td><td><span style=white-space:pre-wrap>NA                                  </span></td><td>NA                                                                          </td><td>41.80983                                                                    </td><td>-87.59921                                                                   </td><td>42.02000                                                                    </td><td>-87.67000                                                                   </td><td>casual                                                                      </td></tr>\n",
       "\t<tr><td>AA80DC2A615F4D9D                                                            </td><td>electric_bike                                                               </td><td>2020-09-26 16:15:42                                                         </td><td>2020-09-26 16:25:04                                                         </td><td><span style=white-space:pre-wrap>Michigan Ave &amp; 14th St        </span>  </td><td>168                                                                         </td><td><span style=white-space:pre-wrap>NA                                  </span></td><td>NA                                                                          </td><td>41.86435                                                                    </td><td>-87.62377                                                                   </td><td>41.88000                                                                    </td><td>-87.63000                                                                   </td><td>casual                                                                      </td></tr>\n",
       "\t<tr><td>EC9F2407BD6506D9                                                                </td><td>electric_bike                                                                   </td><td>2020-09-26 16:49:58                                                             </td><td>2020-09-26 18:04:48                                                             </td><td><span style=white-space:pre-wrap>NA                            </span>          </td><td>NA                                                                              </td><td><span style=white-space:pre-wrap>Wabash Ave &amp; Roosevelt Rd           </span></td><td>59                                                                              </td><td>41.88000                                                                        </td><td>-87.63000                                                                       </td><td>41.86721                                                                        </td><td>-87.62588                                                                       </td><td>casual                                                                          </td></tr>\n",
       "\t<tr><td>127289D659C153CF                                                                </td><td>electric_bike                                                                   </td><td>2020-09-26 15:06:14                                                             </td><td>2020-09-26 15:06:16                                                             </td><td><span style=white-space:pre-wrap>Shore Dr &amp; 55th St            </span>      </td><td>247                                                                             </td><td><span style=white-space:pre-wrap>Shore Dr &amp; 55th St                  </span></td><td>247                                                                             </td><td>41.79523                                                                        </td><td>-87.58086                                                                       </td><td>41.79523                                                                        </td><td>-87.58087                                                                       </td><td>casual                                                                          </td></tr>\n",
       "\t<tr><td>D5B8675174C8AE7F                                                                </td><td>electric_bike                                                                   </td><td>2020-09-26 15:07:52                                                             </td><td>2020-09-26 15:37:47                                                             </td><td><span style=white-space:pre-wrap>Shore Dr &amp; 55th St            </span>      </td><td>247                                                                             </td><td><span style=white-space:pre-wrap>State St &amp; Harrison St              </span></td><td><span style=white-space:pre-wrap>5  </span>                                     </td><td>41.79523                                                                        </td><td>-87.58085                                                                       </td><td>41.87392                                                                        </td><td>-87.62756                                                                       </td><td>casual                                                                          </td></tr>\n",
       "\t<tr><td>16919D708CA11A7F                                                                </td><td>electric_bike                                                                   </td><td>2020-09-26 07:42:44                                                             </td><td>2020-09-26 07:57:13                                                             </td><td><span style=white-space:pre-wrap>NA                            </span>          </td><td>NA                                                                              </td><td><span style=white-space:pre-wrap>Federal St &amp; Polk St                </span></td><td>41                                                                              </td><td>41.88000                                                                        </td><td>-87.63000                                                                       </td><td>41.87214                                                                        </td><td>-87.62958                                                                       </td><td>casual                                                                          </td></tr>\n",
       "\t<tr><td>21331F397B4D12CB                                                                </td><td>electric_bike                                                                   </td><td>2020-09-26 14:58:19                                                             </td><td>2020-09-26 15:04:10                                                             </td><td>Museum of Science and Industry                                                  </td><td>424                                                                             </td><td><span style=white-space:pre-wrap>Shore Dr &amp; 55th St                  </span></td><td>247                                                                             </td><td>41.79175                                                                        </td><td>-87.58394                                                                       </td><td>41.79518                                                                        </td><td>-87.58102                                                                       </td><td>casual                                                                          </td></tr>\n",
       "\t<tr><td>151752B99EA40774                                                                </td><td>electric_bike                                                                   </td><td>2020-09-26 12:24:38                                                             </td><td>2020-09-26 12:37:41                                                             </td><td><span style=white-space:pre-wrap>Damen Ave &amp; Wellington Ave    </span>      </td><td>162                                                                             </td><td><span style=white-space:pre-wrap>Campbell Ave &amp; Montrose Ave         </span></td><td>482                                                                             </td><td>41.93586                                                                        </td><td>-87.67851                                                                       </td><td>41.96157                                                                        </td><td>-87.69123                                                                       </td><td>casual                                                                          </td></tr>\n",
       "\t<tr><td>D022E7106FFA648C                                                            </td><td>electric_bike                                                               </td><td>2020-09-26 17:19:04                                                         </td><td>2020-09-26 17:39:26                                                         </td><td><span style=white-space:pre-wrap>Torrence Ave &amp; 106th St       </span>  </td><td>707                                                                         </td><td><span style=white-space:pre-wrap>NA                                  </span></td><td>NA                                                                          </td><td>41.70285                                                                    </td><td>-87.55990                                                                   </td><td>41.72000                                                                    </td><td>-87.58000                                                                   </td><td>casual                                                                      </td></tr>\n",
       "\t<tr><td>16F6F14FE158E720                                                                </td><td>electric_bike                                                                   </td><td>2020-09-26 17:58:15                                                             </td><td>2020-09-26 18:43:59                                                             </td><td><span style=white-space:pre-wrap>NA                            </span>          </td><td>NA                                                                              </td><td><span style=white-space:pre-wrap>Torrence Ave &amp; 106th St             </span></td><td>707                                                                             </td><td>41.72000                                                                        </td><td>-87.58000                                                                       </td><td>41.70283                                                                        </td><td>-87.55993                                                                       </td><td>casual                                                                          </td></tr>\n",
       "\t<tr><td>FA6D0FE576341B6B                                                            </td><td>electric_bike                                                               </td><td>2020-09-25 19:21:53                                                         </td><td>2020-09-25 20:37:06                                                         </td><td><span style=white-space:pre-wrap>Stockton Dr &amp; Wrightwood Ave  </span>  </td><td>324                                                                         </td><td><span style=white-space:pre-wrap>NA                                  </span></td><td>NA                                                                          </td><td>41.93125                                                                    </td><td>-87.63870                                                                   </td><td>41.89000                                                                    </td><td>-87.61000                                                                   </td><td>casual                                                                      </td></tr>\n",
       "\t<tr><td>A48C9D5A2A7DCA34                                                                </td><td>electric_bike                                                                   </td><td>2020-09-26 16:57:55                                                             </td><td>2020-09-26 17:31:20                                                             </td><td><span style=white-space:pre-wrap>State St &amp; Kinzie St          </span>      </td><td>47                                                                              </td><td><span style=white-space:pre-wrap>Halsted St &amp; Roscoe St              </span></td><td>299                                                                             </td><td>41.88923                                                                        </td><td>-87.62800                                                                       </td><td>41.94367                                                                        </td><td>-87.64880                                                                       </td><td>casual                                                                          </td></tr>\n",
       "</tbody>\n",
       "</table>\n"
      ],
      "text/latex": [
       "\\begin{tabular}{r|lllllllllllll}\n",
       " ride\\_id & rideable\\_type & started\\_at & ended\\_at & start\\_station\\_name & start\\_station\\_id & end\\_station\\_name & end\\_station\\_id & start\\_lat & start\\_lng & end\\_lat & end\\_lng & member\\_casual\\\\\n",
       "\\hline\n",
       "\t 6C992BD37A98A63F               & classic\\_bike                 & 2021-04-12 18:25:36            & 2021-04-12 18:56:55            & State St \\& Pearson St        & TA1307000061                   & Southport Ave \\& Waveland Ave & 13235                          & 41.89745                       & -87.62872                      & 41.94815                       & -87.66394                      & member                        \\\\\n",
       "\t 1E0145613A209000               & docked\\_bike                  & 2021-04-27 17:27:11            & 2021-04-27 18:31:29            & Dorchester Ave \\& 49th St     & KA1503000069                   & Dorchester Ave \\& 49th St     & KA1503000069                   & 41.80577                       & -87.59246                      & 41.80577                       & -87.59246                      & casual                        \\\\\n",
       "\t E498E15508A80BAD               & docked\\_bike                  & 2021-04-03 12:42:45            & 2021-04-07 11:40:24            & Loomis Blvd \\& 84th St        & 20121                          & Loomis Blvd \\& 84th St        & 20121                          & 41.74149                       & -87.65841                      & 41.74149                       & -87.65841                      & casual                        \\\\\n",
       "\t 1887262AD101C604               & classic\\_bike                 & 2021-04-17 09:17:42            & 2021-04-17 09:42:48            & Honore St \\& Division St      & TA1305000034                   & Southport Ave \\& Waveland Ave & 13235                          & 41.90312                       & -87.67394                      & 41.94815                       & -87.66394                      & member                        \\\\\n",
       "\t C123548CAB2A32A5               & docked\\_bike                  & 2021-04-03 12:42:25            & 2021-04-03 14:13:42            & Loomis Blvd \\& 84th St        & 20121                          & Loomis Blvd \\& 84th St        & 20121                          & 41.74149                       & -87.65841                      & 41.74149                       & -87.65841                      & casual                        \\\\\n",
       "\t 097E76F3651B1AC1               & classic\\_bike                 & 2021-04-25 18:43:18            & 2021-04-25 18:43:59            & Clinton St \\& Polk St         & 15542                          & Clinton St \\& Polk St         & 15542                          & 41.87147                       & -87.64095                      & 41.87147                       & -87.64095                      & casual                        \\\\\n",
       "\t 53C38EB01E6FA5C4               & classic\\_bike                 & 2021-04-03 16:28:21            & 2021-04-03 16:29:47            & Ashland Ave \\& 63rd St        & 16948                          & Ashland Ave \\& 63rd St        & 16948                          & 41.77937                       & -87.66484                      & 41.77937                       & -87.66484                      & casual                        \\\\\n",
       "\t D53AC014EFD6E2BA               & electric\\_bike                & 2021-04-06 16:35:06            & 2021-04-06 17:00:56            & Dorchester Ave \\& 49th St     & KA1503000069                   & Dorchester Ave \\& 49th St     & KA1503000069                   & 41.80583                       & -87.59248                      & 41.80580                       & -87.59266                      & casual                        \\\\\n",
       "\t 6E2F7CA1FA9E0AFB               & classic\\_bike                 & 2021-04-12 15:22:54            & 2021-04-12 16:15:48            & Ashland Ave \\& 63rd St        & 16948                          & Ashland Ave \\& 63rd St        & 16948                          & 41.77937                       & -87.66484                      & 41.77937                       & -87.66484                      & casual                        \\\\\n",
       "\t 04218447AAC80BD1               & classic\\_bike                 & 2021-04-24 15:04:55            & 2021-04-24 15:06:16            & Dorchester Ave \\& 49th St     & KA1503000069                   & Dorchester Ave \\& 49th St     & KA1503000069                   & 41.80577                       & -87.59246                      & 41.80577                       & -87.59246                      & casual                        \\\\\n",
       "\t B45BBE0734834247               & electric\\_bike                & 2021-04-03 18:03:40            & 2021-04-03 19:13:22            & Loomis Blvd \\& 84th St        & 20121                          & Loomis Blvd \\& 84th St        & 20121                          & 41.74156                       & -87.65842                      & 41.74160                       & -87.65842                      & casual                        \\\\\n",
       "\t 70DEC4E102F00DC2               & electric\\_bike                & 2021-04-24 18:01:29            & 2021-04-24 19:39:00            & Halsted St \\& 69th St         & 15597                          & Halsted St \\& 69th St         & 15597                          & 41.76901                       & -87.64463                      & 41.76901                       & -87.64458                      & casual                        \\\\\n",
       "\t B33484FA16A9A0FE               & classic\\_bike                 & 2021-04-27 18:31:52            & 2021-04-27 19:17:20            & Dorchester Ave \\& 49th St     & KA1503000069                   & Dorchester Ave \\& 49th St     & KA1503000069                   & 41.80577                       & -87.59246                      & 41.80577                       & -87.59246                      & casual                        \\\\\n",
       "\t 8670C65989291512               & classic\\_bike                 & 2021-04-04 14:19:43            & 2021-04-04 14:26:29            & Dorchester Ave \\& 49th St     & KA1503000069                   & Dorchester Ave \\& 49th St     & KA1503000069                   & 41.80577                       & -87.59246                      & 41.80577                       & -87.59246                      & casual                        \\\\\n",
       "\t EFF545B4881F0C25               & classic\\_bike                 & 2021-04-13 12:12:50            & 2021-04-13 13:12:11            & Dorchester Ave \\& 49th St     & KA1503000069                   & Dorchester Ave \\& 49th St     & KA1503000069                   & 41.80577                       & -87.59246                      & 41.80577                       & -87.59246                      & casual                        \\\\\n",
       "\t 49658BDF5846360E               & electric\\_bike                & 2021-04-08 17:59:33            & 2021-04-08 18:11:30            & Dorchester Ave \\& 49th St     & KA1503000069                   & Dorchester Ave \\& 49th St     & KA1503000069                   & 41.80583                       & -87.59252                      & 41.80594                       & -87.59247                      & casual                        \\\\\n",
       "\t E5261048A5E7365B               & electric\\_bike                & 2021-04-27 16:22:42            & 2021-04-27 16:47:19            & Loomis Blvd \\& 84th St        & 20121                          & Loomis Blvd \\& 84th St        & 20121                          & 41.74156                       & -87.65842                      & 41.74157                       & -87.65844                      & casual                        \\\\\n",
       "\t 9DADAD1E49747066               & docked\\_bike                  & 2021-04-25 17:42:16            & 2021-04-25 18:02:55            & Dorchester Ave \\& 49th St     & KA1503000069                   & Dorchester Ave \\& 49th St     & KA1503000069                   & 41.80577                       & -87.59246                      & 41.80577                       & -87.59246                      & casual                        \\\\\n",
       "\t 440BBEEEEA9DD6FE               & classic\\_bike                 & 2021-04-07 14:24:51            & 2021-04-07 14:25:57            & Dorchester Ave \\& 49th St     & KA1503000069                   & Dorchester Ave \\& 49th St     & KA1503000069                   & 41.80577                       & -87.59246                      & 41.80577                       & -87.59246                      & casual                        \\\\\n",
       "\t B39DF385508E7DCF               & classic\\_bike                 & 2021-04-27 09:00:07            & 2021-04-27 09:30:28            & Dorchester Ave \\& 49th St     & KA1503000069                   & Dorchester Ave \\& 49th St     & KA1503000069                   & 41.80577                       & -87.59246                      & 41.80577                       & -87.59246                      & casual                        \\\\\n",
       "\t 1E1D708751A45FBB               & classic\\_bike                 & 2021-04-27 18:20:52            & 2021-04-27 18:23:56            & Clinton St \\& Polk St         & 15542                          & Clinton St \\& Polk St         & 15542                          & 41.87147                       & -87.64095                      & 41.87147                       & -87.64095                      & casual                        \\\\\n",
       "\t EF150999D6799927               & electric\\_bike                & 2021-04-26 15:19:08            & 2021-04-26 15:47:33            & Loomis Blvd \\& 84th St        & 20121                          & Loomis Blvd \\& 84th St        & 20121                          & 41.74154                       & -87.65837                      & 41.74155                       & -87.65841                      & casual                        \\\\\n",
       "\t F01C5D9474B37874               & docked\\_bike                  & 2021-04-27 17:27:26            & 2021-04-27 17:56:08            & Dorchester Ave \\& 49th St     & KA1503000069                   & Dorchester Ave \\& 49th St     & KA1503000069                   & 41.80577                       & -87.59246                      & 41.80577                       & -87.59246                      & casual                        \\\\\n",
       "\t 3241CB12D978A919               & docked\\_bike                  & 2021-04-26 16:39:35            & 2021-04-26 17:10:47            & Dorchester Ave \\& 49th St     & KA1503000069                   & Dorchester Ave \\& 49th St     & KA1503000069                   & 41.80577                       & -87.59246                      & 41.80577                       & -87.59246                      & casual                        \\\\\n",
       "\t 3C1E34B72CF1DF6F               & docked\\_bike                  & 2021-04-24 14:13:38            & 2021-04-24 17:54:40            & Halsted St \\& 69th St         & 15597                          & Halsted St \\& 69th St         & 15597                          & 41.76906                       & -87.64461                      & 41.76906                       & -87.64461                      & casual                        \\\\\n",
       "\t 7780E5A193F16BAA               & docked\\_bike                  & 2021-04-17 12:19:15            & 2021-04-17 12:33:23            & Dorchester Ave \\& 49th St     & KA1503000069                   & Dorchester Ave \\& 49th St     & KA1503000069                   & 41.80577                       & -87.59246                      & 41.80577                       & -87.59246                      & casual                        \\\\\n",
       "\t A1250C4C180BDB7A               & electric\\_bike                & 2021-04-12 13:28:37            & 2021-04-12 13:43:47            & Dorchester Ave \\& 49th St     & KA1503000069                   & Dorchester Ave \\& 49th St     & KA1503000069                   & 41.80586                       & -87.59241                      & 41.80585                       & -87.59250                      & casual                        \\\\\n",
       "\t DCE53F03D9E930BC               & classic\\_bike                 & 2021-04-16 19:12:50            & 2021-04-16 19:30:04            & Dorchester Ave \\& 49th St     & KA1503000069                   & Dorchester Ave \\& 49th St     & KA1503000069                   & 41.80577                       & -87.59246                      & 41.80577                       & -87.59246                      & casual                        \\\\\n",
       "\t C1C200854F4A4289               & classic\\_bike                 & 2021-04-11 17:12:35            & 2021-04-11 17:13:10            & Loomis Blvd \\& 84th St        & 20121                          & Loomis Blvd \\& 84th St        & 20121                          & 41.74149                       & -87.65841                      & 41.74149                       & -87.65841                      & casual                        \\\\\n",
       "\t 4613417749115AB3               & classic\\_bike                 & 2021-04-11 17:13:35            & 2021-04-11 18:14:14            & Loomis Blvd \\& 84th St        & 20121                          & Loomis Blvd \\& 84th St        & 20121                          & 41.74149                       & -87.65841                      & 41.74149                       & -87.65841                      & casual                        \\\\\n",
       "\t ... & ... & ... & ... & ... & ... & ... & ... & ... & ... & ... & ... & ...\\\\\n",
       "\t C92D532DD3AE0919                       & electric\\_bike                        & 2020-09-26 18:27:28                    & 2020-09-26 18:58:08                    & Evanston Civic Center                  & 661                                    & Sheridan Rd \\& Loyola Ave             & 451                                    & 42.05700                               & -87.68654                              & 42.00051                               & -87.66125                              & casual                                \\\\\n",
       "\t C6CACCA29DE0AEA4                     & electric\\_bike                      & 2020-09-26 15:50:58                  & 2020-09-26 17:31:18                  & Sheridan Rd \\& Loyola Ave           & 451                                  & Evanston Civic Center                & 661                                  & 42.00115                             & -87.66116                            & 42.05713                             & -87.68640                            & casual                              \\\\\n",
       "\t DD38706E5F5BEF88                       & electric\\_bike                        & 2020-09-25 19:04:24                    & 2020-09-25 19:31:24                    & Broadway \\& Barry Ave                 & 300                                    & Green St \\& Randolph St               & 112                                    & 41.93781                               & -87.64405                              & 41.88363                               & -87.64847                              & casual                                \\\\\n",
       "\t 8839B26539058FB6                       & electric\\_bike                        & 2020-09-26 15:07:56                    & 2020-09-26 15:29:08                    & NA                                     & NA                                     & Ellis Ave \\& 55th St                  & 420                                    & 41.80000                               & -87.58000                              & 41.79443                               & -87.60136                              & casual                                \\\\\n",
       "\t D1DA857D9A89C16C                     & electric\\_bike                      & 2020-09-25 23:56:11                  & 2020-09-26 00:04:04                  & NA                                   & NA                                   & NA                                   & NA                                   & 41.93000                             & -87.70000                            & 41.91000                             & -87.68000                            & casual                              \\\\\n",
       "\t ACFBB477438F9219                       & electric\\_bike                        & 2020-09-26 10:00:38                    & 2020-09-26 10:07:49                    & Damen Ave \\& Division St              & 130                                    & California Ave \\& Division St         & 216                                    & 41.90331                               & -87.67849                              & 41.90302                               & -87.69756                              & casual                                \\\\\n",
       "\t BF333B5C592CFB2D                       & electric\\_bike                        & 2020-09-26 10:23:24                    & 2020-09-26 10:40:13                    & Damen Ave \\& Pierce Ave               & 69                                     & Damen Ave \\& Pierce Ave               & 69                                     & 41.90937                               & -87.67770                              & 41.90979                               & -87.67761                              & casual                                \\\\\n",
       "\t DDEA448C9951E750                       & electric\\_bike                        & 2020-09-25 20:33:27                    & 2020-09-25 20:46:15                    & NA                                     & NA                                     & Noble St \\& Milwaukee Ave             & 29                                     & 41.88000                               & -87.68000                              & 41.90070                               & -87.66258                              & casual                                \\\\\n",
       "\t 22F33C67B6CDA154                       & electric\\_bike                        & 2020-09-26 16:53:26                    & 2020-09-26 16:56:25                    & Buckingham Fountain                    & 2                                      & Michigan Ave \\& 8th St                & 623                                    & 41.87635                               & -87.62036                              & 41.87251                               & -87.62395                              & casual                                \\\\\n",
       "\t 92193838149E1AAD                     & electric\\_bike                      & 2020-09-26 08:06:01                  & 2020-09-26 08:20:28                  & NA                                   & NA                                   & NA                                   & NA                                   & 41.75000                             & -87.58000                            & 41.78000                             & -87.58000                            & casual                              \\\\\n",
       "\t C4AB9CC41016C4EB                     & electric\\_bike                      & 2020-09-26 08:35:06                  & 2020-09-26 08:42:34                  & NA                                   & NA                                   & NA                                   & NA                                   & 41.78000                             & -87.58000                            & 41.78000                             & -87.58000                            & casual                              \\\\\n",
       "\t 8F82EAC129E22043                       & electric\\_bike                        & 2020-09-25 21:47:13                    & 2020-09-25 22:04:11                    & Theater on the Lake                    & 177                                    & Broadway \\& Waveland Ave              & 304                                    & 41.92631                               & -87.63097                              & 41.94911                               & -87.64857                              & casual                                \\\\\n",
       "\t 0542E627B63FDDDE                       & electric\\_bike                        & 2020-09-26 16:12:52                    & 2020-09-26 16:31:38                    & Sheffield Ave \\& Fullerton Ave        & 67                                     & Damen Ave \\& Thomas St (Augusta Blvd) & 183                                    & 41.92557                               & -87.65370                              & 41.90138                               & -87.67746                              & casual                                \\\\\n",
       "\t F95AF9B784C035EF                       & electric\\_bike                        & 2020-09-25 22:43:33                    & 2020-09-25 23:04:46                    & Rhodes Ave \\& 32nd St                 & 263                                    & Rhodes Ave \\& 32nd St                 & 263                                    & 41.83677                               & -87.61343                              & 41.83700                               & -87.61345                              & casual                                \\\\\n",
       "\t 1DE2C54044900F2C                       & electric\\_bike                        & 2020-09-25 19:20:23                    & 2020-09-25 19:32:05                    & NA                                     & NA                                     & Ellis Ave \\& 60th St                  & 426                                    & 41.80000                               & -87.59000                              & 41.78515                               & -87.60106                              & casual                                \\\\\n",
       "\t 9DBB407D45A1BEF6                       & electric\\_bike                        & 2020-09-26 15:49:53                    & 2020-09-26 15:53:33                    & Ellis Ave \\& 55th St                  & 420                                    & Ellis Ave \\& 60th St                  & 426                                    & 41.79422                               & -87.60144                              & 41.78518                               & -87.60106                              & casual                                \\\\\n",
       "\t A4E68773DDB3B057                       & electric\\_bike                        & 2020-09-26 14:33:20                    & 2020-09-26 14:36:52                    & Ellis Ave \\& 60th St                  & 426                                    & Ellis Ave \\& 55th St                  & 420                                    & 41.78509                               & -87.60113                              & 41.79279                               & -87.60131                              & casual                                \\\\\n",
       "\t B916FDC07C1DED36                       & electric\\_bike                        & 2020-09-26 16:48:14                    & 2020-09-26 16:49:36                    & NA                                     & NA                                     & Bosworth Ave \\& Howard St             & 522                                    & 42.02000                               & -87.67000                              & 42.01949                               & -87.66948                              & casual                                \\\\\n",
       "\t 3D01FAAC7DB71F16                     & electric\\_bike                      & 2020-09-26 15:00:17                  & 2020-09-26 16:45:21                  & Greenwood Ave \\& 47th St            & 252                                  & NA                                   & NA                                   & 41.80983                             & -87.59921                            & 42.02000                             & -87.67000                            & casual                              \\\\\n",
       "\t AA80DC2A615F4D9D                     & electric\\_bike                      & 2020-09-26 16:15:42                  & 2020-09-26 16:25:04                  & Michigan Ave \\& 14th St             & 168                                  & NA                                   & NA                                   & 41.86435                             & -87.62377                            & 41.88000                             & -87.63000                            & casual                              \\\\\n",
       "\t EC9F2407BD6506D9                       & electric\\_bike                        & 2020-09-26 16:49:58                    & 2020-09-26 18:04:48                    & NA                                     & NA                                     & Wabash Ave \\& Roosevelt Rd            & 59                                     & 41.88000                               & -87.63000                              & 41.86721                               & -87.62588                              & casual                                \\\\\n",
       "\t 127289D659C153CF                       & electric\\_bike                        & 2020-09-26 15:06:14                    & 2020-09-26 15:06:16                    & Shore Dr \\& 55th St                   & 247                                    & Shore Dr \\& 55th St                   & 247                                    & 41.79523                               & -87.58086                              & 41.79523                               & -87.58087                              & casual                                \\\\\n",
       "\t D5B8675174C8AE7F                       & electric\\_bike                        & 2020-09-26 15:07:52                    & 2020-09-26 15:37:47                    & Shore Dr \\& 55th St                   & 247                                    & State St \\& Harrison St               & 5                                      & 41.79523                               & -87.58085                              & 41.87392                               & -87.62756                              & casual                                \\\\\n",
       "\t 16919D708CA11A7F                       & electric\\_bike                        & 2020-09-26 07:42:44                    & 2020-09-26 07:57:13                    & NA                                     & NA                                     & Federal St \\& Polk St                 & 41                                     & 41.88000                               & -87.63000                              & 41.87214                               & -87.62958                              & casual                                \\\\\n",
       "\t 21331F397B4D12CB                       & electric\\_bike                        & 2020-09-26 14:58:19                    & 2020-09-26 15:04:10                    & Museum of Science and Industry         & 424                                    & Shore Dr \\& 55th St                   & 247                                    & 41.79175                               & -87.58394                              & 41.79518                               & -87.58102                              & casual                                \\\\\n",
       "\t 151752B99EA40774                       & electric\\_bike                        & 2020-09-26 12:24:38                    & 2020-09-26 12:37:41                    & Damen Ave \\& Wellington Ave           & 162                                    & Campbell Ave \\& Montrose Ave          & 482                                    & 41.93586                               & -87.67851                              & 41.96157                               & -87.69123                              & casual                                \\\\\n",
       "\t D022E7106FFA648C                     & electric\\_bike                      & 2020-09-26 17:19:04                  & 2020-09-26 17:39:26                  & Torrence Ave \\& 106th St            & 707                                  & NA                                   & NA                                   & 41.70285                             & -87.55990                            & 41.72000                             & -87.58000                            & casual                              \\\\\n",
       "\t 16F6F14FE158E720                       & electric\\_bike                        & 2020-09-26 17:58:15                    & 2020-09-26 18:43:59                    & NA                                     & NA                                     & Torrence Ave \\& 106th St              & 707                                    & 41.72000                               & -87.58000                              & 41.70283                               & -87.55993                              & casual                                \\\\\n",
       "\t FA6D0FE576341B6B                     & electric\\_bike                      & 2020-09-25 19:21:53                  & 2020-09-25 20:37:06                  & Stockton Dr \\& Wrightwood Ave       & 324                                  & NA                                   & NA                                   & 41.93125                             & -87.63870                            & 41.89000                             & -87.61000                            & casual                              \\\\\n",
       "\t A48C9D5A2A7DCA34                       & electric\\_bike                        & 2020-09-26 16:57:55                    & 2020-09-26 17:31:20                    & State St \\& Kinzie St                 & 47                                     & Halsted St \\& Roscoe St               & 299                                    & 41.88923                               & -87.62800                              & 41.94367                               & -87.64880                              & casual                                \\\\\n",
       "\\end{tabular}\n"
      ],
      "text/markdown": [
       "\n",
       "| ride_id | rideable_type | started_at | ended_at | start_station_name | start_station_id | end_station_name | end_station_id | start_lat | start_lng | end_lat | end_lng | member_casual |\n",
       "|---|---|---|---|---|---|---|---|---|---|---|---|---|\n",
       "| 6C992BD37A98A63F             | classic_bike                 | 2021-04-12 18:25:36          | 2021-04-12 18:56:55          | State St & Pearson St        | TA1307000061                 | Southport Ave & Waveland Ave | 13235                        | 41.89745                     | -87.62872                    | 41.94815                     | -87.66394                    | member                       |\n",
       "| 1E0145613A209000             | docked_bike                  | 2021-04-27 17:27:11          | 2021-04-27 18:31:29          | Dorchester Ave & 49th St     | KA1503000069                 | Dorchester Ave & 49th St     | KA1503000069                 | 41.80577                     | -87.59246                    | 41.80577                     | -87.59246                    | casual                       |\n",
       "| E498E15508A80BAD             | docked_bike                  | 2021-04-03 12:42:45          | 2021-04-07 11:40:24          | Loomis Blvd & 84th St        | 20121                        | Loomis Blvd & 84th St        | 20121                        | 41.74149                     | -87.65841                    | 41.74149                     | -87.65841                    | casual                       |\n",
       "| 1887262AD101C604             | classic_bike                 | 2021-04-17 09:17:42          | 2021-04-17 09:42:48          | Honore St & Division St      | TA1305000034                 | Southport Ave & Waveland Ave | 13235                        | 41.90312                     | -87.67394                    | 41.94815                     | -87.66394                    | member                       |\n",
       "| C123548CAB2A32A5             | docked_bike                  | 2021-04-03 12:42:25          | 2021-04-03 14:13:42          | Loomis Blvd & 84th St        | 20121                        | Loomis Blvd & 84th St        | 20121                        | 41.74149                     | -87.65841                    | 41.74149                     | -87.65841                    | casual                       |\n",
       "| 097E76F3651B1AC1             | classic_bike                 | 2021-04-25 18:43:18          | 2021-04-25 18:43:59          | Clinton St & Polk St         | 15542                        | Clinton St & Polk St         | 15542                        | 41.87147                     | -87.64095                    | 41.87147                     | -87.64095                    | casual                       |\n",
       "| 53C38EB01E6FA5C4             | classic_bike                 | 2021-04-03 16:28:21          | 2021-04-03 16:29:47          | Ashland Ave & 63rd St        | 16948                        | Ashland Ave & 63rd St        | 16948                        | 41.77937                     | -87.66484                    | 41.77937                     | -87.66484                    | casual                       |\n",
       "| D53AC014EFD6E2BA             | electric_bike                | 2021-04-06 16:35:06          | 2021-04-06 17:00:56          | Dorchester Ave & 49th St     | KA1503000069                 | Dorchester Ave & 49th St     | KA1503000069                 | 41.80583                     | -87.59248                    | 41.80580                     | -87.59266                    | casual                       |\n",
       "| 6E2F7CA1FA9E0AFB             | classic_bike                 | 2021-04-12 15:22:54          | 2021-04-12 16:15:48          | Ashland Ave & 63rd St        | 16948                        | Ashland Ave & 63rd St        | 16948                        | 41.77937                     | -87.66484                    | 41.77937                     | -87.66484                    | casual                       |\n",
       "| 04218447AAC80BD1             | classic_bike                 | 2021-04-24 15:04:55          | 2021-04-24 15:06:16          | Dorchester Ave & 49th St     | KA1503000069                 | Dorchester Ave & 49th St     | KA1503000069                 | 41.80577                     | -87.59246                    | 41.80577                     | -87.59246                    | casual                       |\n",
       "| B45BBE0734834247             | electric_bike                | 2021-04-03 18:03:40          | 2021-04-03 19:13:22          | Loomis Blvd & 84th St        | 20121                        | Loomis Blvd & 84th St        | 20121                        | 41.74156                     | -87.65842                    | 41.74160                     | -87.65842                    | casual                       |\n",
       "| 70DEC4E102F00DC2             | electric_bike                | 2021-04-24 18:01:29          | 2021-04-24 19:39:00          | Halsted St & 69th St         | 15597                        | Halsted St & 69th St         | 15597                        | 41.76901                     | -87.64463                    | 41.76901                     | -87.64458                    | casual                       |\n",
       "| B33484FA16A9A0FE             | classic_bike                 | 2021-04-27 18:31:52          | 2021-04-27 19:17:20          | Dorchester Ave & 49th St     | KA1503000069                 | Dorchester Ave & 49th St     | KA1503000069                 | 41.80577                     | -87.59246                    | 41.80577                     | -87.59246                    | casual                       |\n",
       "| 8670C65989291512             | classic_bike                 | 2021-04-04 14:19:43          | 2021-04-04 14:26:29          | Dorchester Ave & 49th St     | KA1503000069                 | Dorchester Ave & 49th St     | KA1503000069                 | 41.80577                     | -87.59246                    | 41.80577                     | -87.59246                    | casual                       |\n",
       "| EFF545B4881F0C25             | classic_bike                 | 2021-04-13 12:12:50          | 2021-04-13 13:12:11          | Dorchester Ave & 49th St     | KA1503000069                 | Dorchester Ave & 49th St     | KA1503000069                 | 41.80577                     | -87.59246                    | 41.80577                     | -87.59246                    | casual                       |\n",
       "| 49658BDF5846360E             | electric_bike                | 2021-04-08 17:59:33          | 2021-04-08 18:11:30          | Dorchester Ave & 49th St     | KA1503000069                 | Dorchester Ave & 49th St     | KA1503000069                 | 41.80583                     | -87.59252                    | 41.80594                     | -87.59247                    | casual                       |\n",
       "| E5261048A5E7365B             | electric_bike                | 2021-04-27 16:22:42          | 2021-04-27 16:47:19          | Loomis Blvd & 84th St        | 20121                        | Loomis Blvd & 84th St        | 20121                        | 41.74156                     | -87.65842                    | 41.74157                     | -87.65844                    | casual                       |\n",
       "| 9DADAD1E49747066             | docked_bike                  | 2021-04-25 17:42:16          | 2021-04-25 18:02:55          | Dorchester Ave & 49th St     | KA1503000069                 | Dorchester Ave & 49th St     | KA1503000069                 | 41.80577                     | -87.59246                    | 41.80577                     | -87.59246                    | casual                       |\n",
       "| 440BBEEEEA9DD6FE             | classic_bike                 | 2021-04-07 14:24:51          | 2021-04-07 14:25:57          | Dorchester Ave & 49th St     | KA1503000069                 | Dorchester Ave & 49th St     | KA1503000069                 | 41.80577                     | -87.59246                    | 41.80577                     | -87.59246                    | casual                       |\n",
       "| B39DF385508E7DCF             | classic_bike                 | 2021-04-27 09:00:07          | 2021-04-27 09:30:28          | Dorchester Ave & 49th St     | KA1503000069                 | Dorchester Ave & 49th St     | KA1503000069                 | 41.80577                     | -87.59246                    | 41.80577                     | -87.59246                    | casual                       |\n",
       "| 1E1D708751A45FBB             | classic_bike                 | 2021-04-27 18:20:52          | 2021-04-27 18:23:56          | Clinton St & Polk St         | 15542                        | Clinton St & Polk St         | 15542                        | 41.87147                     | -87.64095                    | 41.87147                     | -87.64095                    | casual                       |\n",
       "| EF150999D6799927             | electric_bike                | 2021-04-26 15:19:08          | 2021-04-26 15:47:33          | Loomis Blvd & 84th St        | 20121                        | Loomis Blvd & 84th St        | 20121                        | 41.74154                     | -87.65837                    | 41.74155                     | -87.65841                    | casual                       |\n",
       "| F01C5D9474B37874             | docked_bike                  | 2021-04-27 17:27:26          | 2021-04-27 17:56:08          | Dorchester Ave & 49th St     | KA1503000069                 | Dorchester Ave & 49th St     | KA1503000069                 | 41.80577                     | -87.59246                    | 41.80577                     | -87.59246                    | casual                       |\n",
       "| 3241CB12D978A919             | docked_bike                  | 2021-04-26 16:39:35          | 2021-04-26 17:10:47          | Dorchester Ave & 49th St     | KA1503000069                 | Dorchester Ave & 49th St     | KA1503000069                 | 41.80577                     | -87.59246                    | 41.80577                     | -87.59246                    | casual                       |\n",
       "| 3C1E34B72CF1DF6F             | docked_bike                  | 2021-04-24 14:13:38          | 2021-04-24 17:54:40          | Halsted St & 69th St         | 15597                        | Halsted St & 69th St         | 15597                        | 41.76906                     | -87.64461                    | 41.76906                     | -87.64461                    | casual                       |\n",
       "| 7780E5A193F16BAA             | docked_bike                  | 2021-04-17 12:19:15          | 2021-04-17 12:33:23          | Dorchester Ave & 49th St     | KA1503000069                 | Dorchester Ave & 49th St     | KA1503000069                 | 41.80577                     | -87.59246                    | 41.80577                     | -87.59246                    | casual                       |\n",
       "| A1250C4C180BDB7A             | electric_bike                | 2021-04-12 13:28:37          | 2021-04-12 13:43:47          | Dorchester Ave & 49th St     | KA1503000069                 | Dorchester Ave & 49th St     | KA1503000069                 | 41.80586                     | -87.59241                    | 41.80585                     | -87.59250                    | casual                       |\n",
       "| DCE53F03D9E930BC             | classic_bike                 | 2021-04-16 19:12:50          | 2021-04-16 19:30:04          | Dorchester Ave & 49th St     | KA1503000069                 | Dorchester Ave & 49th St     | KA1503000069                 | 41.80577                     | -87.59246                    | 41.80577                     | -87.59246                    | casual                       |\n",
       "| C1C200854F4A4289             | classic_bike                 | 2021-04-11 17:12:35          | 2021-04-11 17:13:10          | Loomis Blvd & 84th St        | 20121                        | Loomis Blvd & 84th St        | 20121                        | 41.74149                     | -87.65841                    | 41.74149                     | -87.65841                    | casual                       |\n",
       "| 4613417749115AB3             | classic_bike                 | 2021-04-11 17:13:35          | 2021-04-11 18:14:14          | Loomis Blvd & 84th St        | 20121                        | Loomis Blvd & 84th St        | 20121                        | 41.74149                     | -87.65841                    | 41.74149                     | -87.65841                    | casual                       |\n",
       "| ... | ... | ... | ... | ... | ... | ... | ... | ... | ... | ... | ... | ... |\n",
       "| C92D532DD3AE0919                     | electric_bike                        | 2020-09-26 18:27:28                  | 2020-09-26 18:58:08                  | Evanston Civic Center                | 661                                  | Sheridan Rd & Loyola Ave             | 451                                  | 42.05700                             | -87.68654                            | 42.00051                             | -87.66125                            | casual                               |\n",
       "| C6CACCA29DE0AEA4                     | electric_bike                        | 2020-09-26 15:50:58                  | 2020-09-26 17:31:18                  | Sheridan Rd & Loyola Ave             | 451                                  | Evanston Civic Center                | 661                                  | 42.00115                             | -87.66116                            | 42.05713                             | -87.68640                            | casual                               |\n",
       "| DD38706E5F5BEF88                     | electric_bike                        | 2020-09-25 19:04:24                  | 2020-09-25 19:31:24                  | Broadway & Barry Ave                 | 300                                  | Green St & Randolph St               | 112                                  | 41.93781                             | -87.64405                            | 41.88363                             | -87.64847                            | casual                               |\n",
       "| 8839B26539058FB6                     | electric_bike                        | 2020-09-26 15:07:56                  | 2020-09-26 15:29:08                  | NA                                   | NA                                   | Ellis Ave & 55th St                  | 420                                  | 41.80000                             | -87.58000                            | 41.79443                             | -87.60136                            | casual                               |\n",
       "| D1DA857D9A89C16C                     | electric_bike                        | 2020-09-25 23:56:11                  | 2020-09-26 00:04:04                  | NA                                   | NA                                   | NA                                   | NA                                   | 41.93000                             | -87.70000                            | 41.91000                             | -87.68000                            | casual                               |\n",
       "| ACFBB477438F9219                     | electric_bike                        | 2020-09-26 10:00:38                  | 2020-09-26 10:07:49                  | Damen Ave & Division St              | 130                                  | California Ave & Division St         | 216                                  | 41.90331                             | -87.67849                            | 41.90302                             | -87.69756                            | casual                               |\n",
       "| BF333B5C592CFB2D                     | electric_bike                        | 2020-09-26 10:23:24                  | 2020-09-26 10:40:13                  | Damen Ave & Pierce Ave               | 69                                   | Damen Ave & Pierce Ave               | 69                                   | 41.90937                             | -87.67770                            | 41.90979                             | -87.67761                            | casual                               |\n",
       "| DDEA448C9951E750                     | electric_bike                        | 2020-09-25 20:33:27                  | 2020-09-25 20:46:15                  | NA                                   | NA                                   | Noble St & Milwaukee Ave             | 29                                   | 41.88000                             | -87.68000                            | 41.90070                             | -87.66258                            | casual                               |\n",
       "| 22F33C67B6CDA154                     | electric_bike                        | 2020-09-26 16:53:26                  | 2020-09-26 16:56:25                  | Buckingham Fountain                  | 2                                    | Michigan Ave & 8th St                | 623                                  | 41.87635                             | -87.62036                            | 41.87251                             | -87.62395                            | casual                               |\n",
       "| 92193838149E1AAD                     | electric_bike                        | 2020-09-26 08:06:01                  | 2020-09-26 08:20:28                  | NA                                   | NA                                   | NA                                   | NA                                   | 41.75000                             | -87.58000                            | 41.78000                             | -87.58000                            | casual                               |\n",
       "| C4AB9CC41016C4EB                     | electric_bike                        | 2020-09-26 08:35:06                  | 2020-09-26 08:42:34                  | NA                                   | NA                                   | NA                                   | NA                                   | 41.78000                             | -87.58000                            | 41.78000                             | -87.58000                            | casual                               |\n",
       "| 8F82EAC129E22043                     | electric_bike                        | 2020-09-25 21:47:13                  | 2020-09-25 22:04:11                  | Theater on the Lake                  | 177                                  | Broadway & Waveland Ave              | 304                                  | 41.92631                             | -87.63097                            | 41.94911                             | -87.64857                            | casual                               |\n",
       "| 0542E627B63FDDDE                     | electric_bike                        | 2020-09-26 16:12:52                  | 2020-09-26 16:31:38                  | Sheffield Ave & Fullerton Ave        | 67                                   | Damen Ave & Thomas St (Augusta Blvd) | 183                                  | 41.92557                             | -87.65370                            | 41.90138                             | -87.67746                            | casual                               |\n",
       "| F95AF9B784C035EF                     | electric_bike                        | 2020-09-25 22:43:33                  | 2020-09-25 23:04:46                  | Rhodes Ave & 32nd St                 | 263                                  | Rhodes Ave & 32nd St                 | 263                                  | 41.83677                             | -87.61343                            | 41.83700                             | -87.61345                            | casual                               |\n",
       "| 1DE2C54044900F2C                     | electric_bike                        | 2020-09-25 19:20:23                  | 2020-09-25 19:32:05                  | NA                                   | NA                                   | Ellis Ave & 60th St                  | 426                                  | 41.80000                             | -87.59000                            | 41.78515                             | -87.60106                            | casual                               |\n",
       "| 9DBB407D45A1BEF6                     | electric_bike                        | 2020-09-26 15:49:53                  | 2020-09-26 15:53:33                  | Ellis Ave & 55th St                  | 420                                  | Ellis Ave & 60th St                  | 426                                  | 41.79422                             | -87.60144                            | 41.78518                             | -87.60106                            | casual                               |\n",
       "| A4E68773DDB3B057                     | electric_bike                        | 2020-09-26 14:33:20                  | 2020-09-26 14:36:52                  | Ellis Ave & 60th St                  | 426                                  | Ellis Ave & 55th St                  | 420                                  | 41.78509                             | -87.60113                            | 41.79279                             | -87.60131                            | casual                               |\n",
       "| B916FDC07C1DED36                     | electric_bike                        | 2020-09-26 16:48:14                  | 2020-09-26 16:49:36                  | NA                                   | NA                                   | Bosworth Ave & Howard St             | 522                                  | 42.02000                             | -87.67000                            | 42.01949                             | -87.66948                            | casual                               |\n",
       "| 3D01FAAC7DB71F16                     | electric_bike                        | 2020-09-26 15:00:17                  | 2020-09-26 16:45:21                  | Greenwood Ave & 47th St              | 252                                  | NA                                   | NA                                   | 41.80983                             | -87.59921                            | 42.02000                             | -87.67000                            | casual                               |\n",
       "| AA80DC2A615F4D9D                     | electric_bike                        | 2020-09-26 16:15:42                  | 2020-09-26 16:25:04                  | Michigan Ave & 14th St               | 168                                  | NA                                   | NA                                   | 41.86435                             | -87.62377                            | 41.88000                             | -87.63000                            | casual                               |\n",
       "| EC9F2407BD6506D9                     | electric_bike                        | 2020-09-26 16:49:58                  | 2020-09-26 18:04:48                  | NA                                   | NA                                   | Wabash Ave & Roosevelt Rd            | 59                                   | 41.88000                             | -87.63000                            | 41.86721                             | -87.62588                            | casual                               |\n",
       "| 127289D659C153CF                     | electric_bike                        | 2020-09-26 15:06:14                  | 2020-09-26 15:06:16                  | Shore Dr & 55th St                   | 247                                  | Shore Dr & 55th St                   | 247                                  | 41.79523                             | -87.58086                            | 41.79523                             | -87.58087                            | casual                               |\n",
       "| D5B8675174C8AE7F                     | electric_bike                        | 2020-09-26 15:07:52                  | 2020-09-26 15:37:47                  | Shore Dr & 55th St                   | 247                                  | State St & Harrison St               | 5                                    | 41.79523                             | -87.58085                            | 41.87392                             | -87.62756                            | casual                               |\n",
       "| 16919D708CA11A7F                     | electric_bike                        | 2020-09-26 07:42:44                  | 2020-09-26 07:57:13                  | NA                                   | NA                                   | Federal St & Polk St                 | 41                                   | 41.88000                             | -87.63000                            | 41.87214                             | -87.62958                            | casual                               |\n",
       "| 21331F397B4D12CB                     | electric_bike                        | 2020-09-26 14:58:19                  | 2020-09-26 15:04:10                  | Museum of Science and Industry       | 424                                  | Shore Dr & 55th St                   | 247                                  | 41.79175                             | -87.58394                            | 41.79518                             | -87.58102                            | casual                               |\n",
       "| 151752B99EA40774                     | electric_bike                        | 2020-09-26 12:24:38                  | 2020-09-26 12:37:41                  | Damen Ave & Wellington Ave           | 162                                  | Campbell Ave & Montrose Ave          | 482                                  | 41.93586                             | -87.67851                            | 41.96157                             | -87.69123                            | casual                               |\n",
       "| D022E7106FFA648C                     | electric_bike                        | 2020-09-26 17:19:04                  | 2020-09-26 17:39:26                  | Torrence Ave & 106th St              | 707                                  | NA                                   | NA                                   | 41.70285                             | -87.55990                            | 41.72000                             | -87.58000                            | casual                               |\n",
       "| 16F6F14FE158E720                     | electric_bike                        | 2020-09-26 17:58:15                  | 2020-09-26 18:43:59                  | NA                                   | NA                                   | Torrence Ave & 106th St              | 707                                  | 41.72000                             | -87.58000                            | 41.70283                             | -87.55993                            | casual                               |\n",
       "| FA6D0FE576341B6B                     | electric_bike                        | 2020-09-25 19:21:53                  | 2020-09-25 20:37:06                  | Stockton Dr & Wrightwood Ave         | 324                                  | NA                                   | NA                                   | 41.93125                             | -87.63870                            | 41.89000                             | -87.61000                            | casual                               |\n",
       "| A48C9D5A2A7DCA34                     | electric_bike                        | 2020-09-26 16:57:55                  | 2020-09-26 17:31:20                  | State St & Kinzie St                 | 47                                   | Halsted St & Roscoe St               | 299                                  | 41.88923                             | -87.62800                            | 41.94367                             | -87.64880                            | casual                               |\n",
       "\n"
      ],
      "text/plain": [
       "        ride_id          rideable_type started_at          ended_at           \n",
       "1       6C992BD37A98A63F classic_bike  2021-04-12 18:25:36 2021-04-12 18:56:55\n",
       "2       1E0145613A209000 docked_bike   2021-04-27 17:27:11 2021-04-27 18:31:29\n",
       "3       E498E15508A80BAD docked_bike   2021-04-03 12:42:45 2021-04-07 11:40:24\n",
       "4       1887262AD101C604 classic_bike  2021-04-17 09:17:42 2021-04-17 09:42:48\n",
       "5       C123548CAB2A32A5 docked_bike   2021-04-03 12:42:25 2021-04-03 14:13:42\n",
       "6       097E76F3651B1AC1 classic_bike  2021-04-25 18:43:18 2021-04-25 18:43:59\n",
       "7       53C38EB01E6FA5C4 classic_bike  2021-04-03 16:28:21 2021-04-03 16:29:47\n",
       "8       D53AC014EFD6E2BA electric_bike 2021-04-06 16:35:06 2021-04-06 17:00:56\n",
       "9       6E2F7CA1FA9E0AFB classic_bike  2021-04-12 15:22:54 2021-04-12 16:15:48\n",
       "10      04218447AAC80BD1 classic_bike  2021-04-24 15:04:55 2021-04-24 15:06:16\n",
       "11      B45BBE0734834247 electric_bike 2021-04-03 18:03:40 2021-04-03 19:13:22\n",
       "12      70DEC4E102F00DC2 electric_bike 2021-04-24 18:01:29 2021-04-24 19:39:00\n",
       "13      B33484FA16A9A0FE classic_bike  2021-04-27 18:31:52 2021-04-27 19:17:20\n",
       "14      8670C65989291512 classic_bike  2021-04-04 14:19:43 2021-04-04 14:26:29\n",
       "15      EFF545B4881F0C25 classic_bike  2021-04-13 12:12:50 2021-04-13 13:12:11\n",
       "16      49658BDF5846360E electric_bike 2021-04-08 17:59:33 2021-04-08 18:11:30\n",
       "17      E5261048A5E7365B electric_bike 2021-04-27 16:22:42 2021-04-27 16:47:19\n",
       "18      9DADAD1E49747066 docked_bike   2021-04-25 17:42:16 2021-04-25 18:02:55\n",
       "19      440BBEEEEA9DD6FE classic_bike  2021-04-07 14:24:51 2021-04-07 14:25:57\n",
       "20      B39DF385508E7DCF classic_bike  2021-04-27 09:00:07 2021-04-27 09:30:28\n",
       "21      1E1D708751A45FBB classic_bike  2021-04-27 18:20:52 2021-04-27 18:23:56\n",
       "22      EF150999D6799927 electric_bike 2021-04-26 15:19:08 2021-04-26 15:47:33\n",
       "23      F01C5D9474B37874 docked_bike   2021-04-27 17:27:26 2021-04-27 17:56:08\n",
       "24      3241CB12D978A919 docked_bike   2021-04-26 16:39:35 2021-04-26 17:10:47\n",
       "25      3C1E34B72CF1DF6F docked_bike   2021-04-24 14:13:38 2021-04-24 17:54:40\n",
       "26      7780E5A193F16BAA docked_bike   2021-04-17 12:19:15 2021-04-17 12:33:23\n",
       "27      A1250C4C180BDB7A electric_bike 2021-04-12 13:28:37 2021-04-12 13:43:47\n",
       "28      DCE53F03D9E930BC classic_bike  2021-04-16 19:12:50 2021-04-16 19:30:04\n",
       "29      C1C200854F4A4289 classic_bike  2021-04-11 17:12:35 2021-04-11 17:13:10\n",
       "30      4613417749115AB3 classic_bike  2021-04-11 17:13:35 2021-04-11 18:14:14\n",
       "...     ...              ...           ...                 ...                \n",
       "4731052 C92D532DD3AE0919 electric_bike 2020-09-26 18:27:28 2020-09-26 18:58:08\n",
       "4731053 C6CACCA29DE0AEA4 electric_bike 2020-09-26 15:50:58 2020-09-26 17:31:18\n",
       "4731054 DD38706E5F5BEF88 electric_bike 2020-09-25 19:04:24 2020-09-25 19:31:24\n",
       "4731055 8839B26539058FB6 electric_bike 2020-09-26 15:07:56 2020-09-26 15:29:08\n",
       "4731056 D1DA857D9A89C16C electric_bike 2020-09-25 23:56:11 2020-09-26 00:04:04\n",
       "4731057 ACFBB477438F9219 electric_bike 2020-09-26 10:00:38 2020-09-26 10:07:49\n",
       "4731058 BF333B5C592CFB2D electric_bike 2020-09-26 10:23:24 2020-09-26 10:40:13\n",
       "4731059 DDEA448C9951E750 electric_bike 2020-09-25 20:33:27 2020-09-25 20:46:15\n",
       "4731060 22F33C67B6CDA154 electric_bike 2020-09-26 16:53:26 2020-09-26 16:56:25\n",
       "4731061 92193838149E1AAD electric_bike 2020-09-26 08:06:01 2020-09-26 08:20:28\n",
       "4731062 C4AB9CC41016C4EB electric_bike 2020-09-26 08:35:06 2020-09-26 08:42:34\n",
       "4731063 8F82EAC129E22043 electric_bike 2020-09-25 21:47:13 2020-09-25 22:04:11\n",
       "4731064 0542E627B63FDDDE electric_bike 2020-09-26 16:12:52 2020-09-26 16:31:38\n",
       "4731065 F95AF9B784C035EF electric_bike 2020-09-25 22:43:33 2020-09-25 23:04:46\n",
       "4731066 1DE2C54044900F2C electric_bike 2020-09-25 19:20:23 2020-09-25 19:32:05\n",
       "4731067 9DBB407D45A1BEF6 electric_bike 2020-09-26 15:49:53 2020-09-26 15:53:33\n",
       "4731068 A4E68773DDB3B057 electric_bike 2020-09-26 14:33:20 2020-09-26 14:36:52\n",
       "4731069 B916FDC07C1DED36 electric_bike 2020-09-26 16:48:14 2020-09-26 16:49:36\n",
       "4731070 3D01FAAC7DB71F16 electric_bike 2020-09-26 15:00:17 2020-09-26 16:45:21\n",
       "4731071 AA80DC2A615F4D9D electric_bike 2020-09-26 16:15:42 2020-09-26 16:25:04\n",
       "4731072 EC9F2407BD6506D9 electric_bike 2020-09-26 16:49:58 2020-09-26 18:04:48\n",
       "4731073 127289D659C153CF electric_bike 2020-09-26 15:06:14 2020-09-26 15:06:16\n",
       "4731074 D5B8675174C8AE7F electric_bike 2020-09-26 15:07:52 2020-09-26 15:37:47\n",
       "4731075 16919D708CA11A7F electric_bike 2020-09-26 07:42:44 2020-09-26 07:57:13\n",
       "4731076 21331F397B4D12CB electric_bike 2020-09-26 14:58:19 2020-09-26 15:04:10\n",
       "4731077 151752B99EA40774 electric_bike 2020-09-26 12:24:38 2020-09-26 12:37:41\n",
       "4731078 D022E7106FFA648C electric_bike 2020-09-26 17:19:04 2020-09-26 17:39:26\n",
       "4731079 16F6F14FE158E720 electric_bike 2020-09-26 17:58:15 2020-09-26 18:43:59\n",
       "4731080 FA6D0FE576341B6B electric_bike 2020-09-25 19:21:53 2020-09-25 20:37:06\n",
       "4731081 A48C9D5A2A7DCA34 electric_bike 2020-09-26 16:57:55 2020-09-26 17:31:20\n",
       "        start_station_name             start_station_id\n",
       "1       State St & Pearson St          TA1307000061    \n",
       "2       Dorchester Ave & 49th St       KA1503000069    \n",
       "3       Loomis Blvd & 84th St          20121           \n",
       "4       Honore St & Division St        TA1305000034    \n",
       "5       Loomis Blvd & 84th St          20121           \n",
       "6       Clinton St & Polk St           15542           \n",
       "7       Ashland Ave & 63rd St          16948           \n",
       "8       Dorchester Ave & 49th St       KA1503000069    \n",
       "9       Ashland Ave & 63rd St          16948           \n",
       "10      Dorchester Ave & 49th St       KA1503000069    \n",
       "11      Loomis Blvd & 84th St          20121           \n",
       "12      Halsted St & 69th St           15597           \n",
       "13      Dorchester Ave & 49th St       KA1503000069    \n",
       "14      Dorchester Ave & 49th St       KA1503000069    \n",
       "15      Dorchester Ave & 49th St       KA1503000069    \n",
       "16      Dorchester Ave & 49th St       KA1503000069    \n",
       "17      Loomis Blvd & 84th St          20121           \n",
       "18      Dorchester Ave & 49th St       KA1503000069    \n",
       "19      Dorchester Ave & 49th St       KA1503000069    \n",
       "20      Dorchester Ave & 49th St       KA1503000069    \n",
       "21      Clinton St & Polk St           15542           \n",
       "22      Loomis Blvd & 84th St          20121           \n",
       "23      Dorchester Ave & 49th St       KA1503000069    \n",
       "24      Dorchester Ave & 49th St       KA1503000069    \n",
       "25      Halsted St & 69th St           15597           \n",
       "26      Dorchester Ave & 49th St       KA1503000069    \n",
       "27      Dorchester Ave & 49th St       KA1503000069    \n",
       "28      Dorchester Ave & 49th St       KA1503000069    \n",
       "29      Loomis Blvd & 84th St          20121           \n",
       "30      Loomis Blvd & 84th St          20121           \n",
       "...     ...                            ...             \n",
       "4731052 Evanston Civic Center          661             \n",
       "4731053 Sheridan Rd & Loyola Ave       451             \n",
       "4731054 Broadway & Barry Ave           300             \n",
       "4731055 NA                             NA              \n",
       "4731056 NA                             NA              \n",
       "4731057 Damen Ave & Division St        130             \n",
       "4731058 Damen Ave & Pierce Ave         69              \n",
       "4731059 NA                             NA              \n",
       "4731060 Buckingham Fountain            2               \n",
       "4731061 NA                             NA              \n",
       "4731062 NA                             NA              \n",
       "4731063 Theater on the Lake            177             \n",
       "4731064 Sheffield Ave & Fullerton Ave  67              \n",
       "4731065 Rhodes Ave & 32nd St           263             \n",
       "4731066 NA                             NA              \n",
       "4731067 Ellis Ave & 55th St            420             \n",
       "4731068 Ellis Ave & 60th St            426             \n",
       "4731069 NA                             NA              \n",
       "4731070 Greenwood Ave & 47th St        252             \n",
       "4731071 Michigan Ave & 14th St         168             \n",
       "4731072 NA                             NA              \n",
       "4731073 Shore Dr & 55th St             247             \n",
       "4731074 Shore Dr & 55th St             247             \n",
       "4731075 NA                             NA              \n",
       "4731076 Museum of Science and Industry 424             \n",
       "4731077 Damen Ave & Wellington Ave     162             \n",
       "4731078 Torrence Ave & 106th St        707             \n",
       "4731079 NA                             NA              \n",
       "4731080 Stockton Dr & Wrightwood Ave   324             \n",
       "4731081 State St & Kinzie St           47              \n",
       "        end_station_name                     end_station_id start_lat start_lng\n",
       "1       Southport Ave & Waveland Ave         13235          41.89745  -87.62872\n",
       "2       Dorchester Ave & 49th St             KA1503000069   41.80577  -87.59246\n",
       "3       Loomis Blvd & 84th St                20121          41.74149  -87.65841\n",
       "4       Southport Ave & Waveland Ave         13235          41.90312  -87.67394\n",
       "5       Loomis Blvd & 84th St                20121          41.74149  -87.65841\n",
       "6       Clinton St & Polk St                 15542          41.87147  -87.64095\n",
       "7       Ashland Ave & 63rd St                16948          41.77937  -87.66484\n",
       "8       Dorchester Ave & 49th St             KA1503000069   41.80583  -87.59248\n",
       "9       Ashland Ave & 63rd St                16948          41.77937  -87.66484\n",
       "10      Dorchester Ave & 49th St             KA1503000069   41.80577  -87.59246\n",
       "11      Loomis Blvd & 84th St                20121          41.74156  -87.65842\n",
       "12      Halsted St & 69th St                 15597          41.76901  -87.64463\n",
       "13      Dorchester Ave & 49th St             KA1503000069   41.80577  -87.59246\n",
       "14      Dorchester Ave & 49th St             KA1503000069   41.80577  -87.59246\n",
       "15      Dorchester Ave & 49th St             KA1503000069   41.80577  -87.59246\n",
       "16      Dorchester Ave & 49th St             KA1503000069   41.80583  -87.59252\n",
       "17      Loomis Blvd & 84th St                20121          41.74156  -87.65842\n",
       "18      Dorchester Ave & 49th St             KA1503000069   41.80577  -87.59246\n",
       "19      Dorchester Ave & 49th St             KA1503000069   41.80577  -87.59246\n",
       "20      Dorchester Ave & 49th St             KA1503000069   41.80577  -87.59246\n",
       "21      Clinton St & Polk St                 15542          41.87147  -87.64095\n",
       "22      Loomis Blvd & 84th St                20121          41.74154  -87.65837\n",
       "23      Dorchester Ave & 49th St             KA1503000069   41.80577  -87.59246\n",
       "24      Dorchester Ave & 49th St             KA1503000069   41.80577  -87.59246\n",
       "25      Halsted St & 69th St                 15597          41.76906  -87.64461\n",
       "26      Dorchester Ave & 49th St             KA1503000069   41.80577  -87.59246\n",
       "27      Dorchester Ave & 49th St             KA1503000069   41.80586  -87.59241\n",
       "28      Dorchester Ave & 49th St             KA1503000069   41.80577  -87.59246\n",
       "29      Loomis Blvd & 84th St                20121          41.74149  -87.65841\n",
       "30      Loomis Blvd & 84th St                20121          41.74149  -87.65841\n",
       "...     ...                                  ...            ...       ...      \n",
       "4731052 Sheridan Rd & Loyola Ave             451            42.05700  -87.68654\n",
       "4731053 Evanston Civic Center                661            42.00115  -87.66116\n",
       "4731054 Green St & Randolph St               112            41.93781  -87.64405\n",
       "4731055 Ellis Ave & 55th St                  420            41.80000  -87.58000\n",
       "4731056 NA                                   NA             41.93000  -87.70000\n",
       "4731057 California Ave & Division St         216            41.90331  -87.67849\n",
       "4731058 Damen Ave & Pierce Ave               69             41.90937  -87.67770\n",
       "4731059 Noble St & Milwaukee Ave             29             41.88000  -87.68000\n",
       "4731060 Michigan Ave & 8th St                623            41.87635  -87.62036\n",
       "4731061 NA                                   NA             41.75000  -87.58000\n",
       "4731062 NA                                   NA             41.78000  -87.58000\n",
       "4731063 Broadway & Waveland Ave              304            41.92631  -87.63097\n",
       "4731064 Damen Ave & Thomas St (Augusta Blvd) 183            41.92557  -87.65370\n",
       "4731065 Rhodes Ave & 32nd St                 263            41.83677  -87.61343\n",
       "4731066 Ellis Ave & 60th St                  426            41.80000  -87.59000\n",
       "4731067 Ellis Ave & 60th St                  426            41.79422  -87.60144\n",
       "4731068 Ellis Ave & 55th St                  420            41.78509  -87.60113\n",
       "4731069 Bosworth Ave & Howard St             522            42.02000  -87.67000\n",
       "4731070 NA                                   NA             41.80983  -87.59921\n",
       "4731071 NA                                   NA             41.86435  -87.62377\n",
       "4731072 Wabash Ave & Roosevelt Rd            59             41.88000  -87.63000\n",
       "4731073 Shore Dr & 55th St                   247            41.79523  -87.58086\n",
       "4731074 State St & Harrison St               5              41.79523  -87.58085\n",
       "4731075 Federal St & Polk St                 41             41.88000  -87.63000\n",
       "4731076 Shore Dr & 55th St                   247            41.79175  -87.58394\n",
       "4731077 Campbell Ave & Montrose Ave          482            41.93586  -87.67851\n",
       "4731078 NA                                   NA             41.70285  -87.55990\n",
       "4731079 Torrence Ave & 106th St              707            41.72000  -87.58000\n",
       "4731080 NA                                   NA             41.93125  -87.63870\n",
       "4731081 Halsted St & Roscoe St               299            41.88923  -87.62800\n",
       "        end_lat  end_lng   member_casual\n",
       "1       41.94815 -87.66394 member       \n",
       "2       41.80577 -87.59246 casual       \n",
       "3       41.74149 -87.65841 casual       \n",
       "4       41.94815 -87.66394 member       \n",
       "5       41.74149 -87.65841 casual       \n",
       "6       41.87147 -87.64095 casual       \n",
       "7       41.77937 -87.66484 casual       \n",
       "8       41.80580 -87.59266 casual       \n",
       "9       41.77937 -87.66484 casual       \n",
       "10      41.80577 -87.59246 casual       \n",
       "11      41.74160 -87.65842 casual       \n",
       "12      41.76901 -87.64458 casual       \n",
       "13      41.80577 -87.59246 casual       \n",
       "14      41.80577 -87.59246 casual       \n",
       "15      41.80577 -87.59246 casual       \n",
       "16      41.80594 -87.59247 casual       \n",
       "17      41.74157 -87.65844 casual       \n",
       "18      41.80577 -87.59246 casual       \n",
       "19      41.80577 -87.59246 casual       \n",
       "20      41.80577 -87.59246 casual       \n",
       "21      41.87147 -87.64095 casual       \n",
       "22      41.74155 -87.65841 casual       \n",
       "23      41.80577 -87.59246 casual       \n",
       "24      41.80577 -87.59246 casual       \n",
       "25      41.76906 -87.64461 casual       \n",
       "26      41.80577 -87.59246 casual       \n",
       "27      41.80585 -87.59250 casual       \n",
       "28      41.80577 -87.59246 casual       \n",
       "29      41.74149 -87.65841 casual       \n",
       "30      41.74149 -87.65841 casual       \n",
       "...     ...      ...       ...          \n",
       "4731052 42.00051 -87.66125 casual       \n",
       "4731053 42.05713 -87.68640 casual       \n",
       "4731054 41.88363 -87.64847 casual       \n",
       "4731055 41.79443 -87.60136 casual       \n",
       "4731056 41.91000 -87.68000 casual       \n",
       "4731057 41.90302 -87.69756 casual       \n",
       "4731058 41.90979 -87.67761 casual       \n",
       "4731059 41.90070 -87.66258 casual       \n",
       "4731060 41.87251 -87.62395 casual       \n",
       "4731061 41.78000 -87.58000 casual       \n",
       "4731062 41.78000 -87.58000 casual       \n",
       "4731063 41.94911 -87.64857 casual       \n",
       "4731064 41.90138 -87.67746 casual       \n",
       "4731065 41.83700 -87.61345 casual       \n",
       "4731066 41.78515 -87.60106 casual       \n",
       "4731067 41.78518 -87.60106 casual       \n",
       "4731068 41.79279 -87.60131 casual       \n",
       "4731069 42.01949 -87.66948 casual       \n",
       "4731070 42.02000 -87.67000 casual       \n",
       "4731071 41.88000 -87.63000 casual       \n",
       "4731072 41.86721 -87.62588 casual       \n",
       "4731073 41.79523 -87.58087 casual       \n",
       "4731074 41.87392 -87.62756 casual       \n",
       "4731075 41.87214 -87.62958 casual       \n",
       "4731076 41.79518 -87.58102 casual       \n",
       "4731077 41.96157 -87.69123 casual       \n",
       "4731078 41.72000 -87.58000 casual       \n",
       "4731079 41.70283 -87.55993 casual       \n",
       "4731080 41.89000 -87.61000 casual       \n",
       "4731081 41.94367 -87.64880 casual       "
      ]
     },
     "metadata": {},
     "output_type": "display_data"
    }
   ],
   "source": [
    "\n",
    "files <- dir(pattern = \"*.csv\")\n",
    "files\n",
    "\n",
    "trip_data <- files %>%\n",
    "  map(read_csv) %>%   \n",
    "  reduce(rbind)        \n"
   ]
  },
  {
   "cell_type": "code",
   "execution_count": 8,
   "id": "ef38cfee",
   "metadata": {},
   "outputs": [
    {
     "data": {
      "text/html": [
       "<table>\n",
       "<thead><tr><th scope=col>ride_id</th><th scope=col>rideable_type</th><th scope=col>started_at</th><th scope=col>ended_at</th><th scope=col>start_station_name</th><th scope=col>start_station_id</th><th scope=col>end_station_name</th><th scope=col>end_station_id</th><th scope=col>start_lat</th><th scope=col>start_lng</th><th scope=col>end_lat</th><th scope=col>end_lng</th><th scope=col>member_casual</th></tr></thead>\n",
       "<tbody>\n",
       "\t<tr><td>6C992BD37A98A63F                                                    </td><td>classic_bike                                                        </td><td>2021-04-12 18:25:36                                                 </td><td>2021-04-12 18:56:55                                                 </td><td><span style=white-space:pre-wrap>State St &amp; Pearson St   </span></td><td>TA1307000061                                                        </td><td>Southport Ave &amp; Waveland Ave                                    </td><td><span style=white-space:pre-wrap>13235       </span>                </td><td>41.89745                                                            </td><td>-87.62872                                                           </td><td>41.94815                                                            </td><td>-87.66394                                                           </td><td>member                                                              </td></tr>\n",
       "\t<tr><td>1E0145613A209000                                                        </td><td>docked_bike                                                             </td><td>2021-04-27 17:27:11                                                     </td><td>2021-04-27 18:31:29                                                     </td><td>Dorchester Ave &amp; 49th St                                            </td><td>KA1503000069                                                            </td><td><span style=white-space:pre-wrap>Dorchester Ave &amp; 49th St    </span></td><td>KA1503000069                                                            </td><td>41.80577                                                                </td><td>-87.59246                                                               </td><td>41.80577                                                                </td><td>-87.59246                                                               </td><td>casual                                                                  </td></tr>\n",
       "\t<tr><td>E498E15508A80BAD                                                        </td><td>docked_bike                                                             </td><td>2021-04-03 12:42:45                                                     </td><td>2021-04-07 11:40:24                                                     </td><td><span style=white-space:pre-wrap>Loomis Blvd &amp; 84th St   </span>    </td><td><span style=white-space:pre-wrap>20121       </span>                    </td><td><span style=white-space:pre-wrap>Loomis Blvd &amp; 84th St       </span></td><td><span style=white-space:pre-wrap>20121       </span>                    </td><td>41.74149                                                                </td><td>-87.65841                                                               </td><td>41.74149                                                                </td><td>-87.65841                                                               </td><td>casual                                                                  </td></tr>\n",
       "\t<tr><td>1887262AD101C604                                    </td><td>classic_bike                                        </td><td>2021-04-17 09:17:42                                 </td><td>2021-04-17 09:42:48                                 </td><td>Honore St &amp; Division St                         </td><td>TA1305000034                                        </td><td>Southport Ave &amp; Waveland Ave                    </td><td><span style=white-space:pre-wrap>13235       </span></td><td>41.90312                                            </td><td>-87.67394                                           </td><td>41.94815                                            </td><td>-87.66394                                           </td><td>member                                              </td></tr>\n",
       "\t<tr><td>C123548CAB2A32A5                                                        </td><td>docked_bike                                                             </td><td>2021-04-03 12:42:25                                                     </td><td>2021-04-03 14:13:42                                                     </td><td><span style=white-space:pre-wrap>Loomis Blvd &amp; 84th St   </span>    </td><td><span style=white-space:pre-wrap>20121       </span>                    </td><td><span style=white-space:pre-wrap>Loomis Blvd &amp; 84th St       </span></td><td><span style=white-space:pre-wrap>20121       </span>                    </td><td>41.74149                                                                </td><td>-87.65841                                                               </td><td>41.74149                                                                </td><td>-87.65841                                                               </td><td>casual                                                                  </td></tr>\n",
       "\t<tr><td>097E76F3651B1AC1                                                        </td><td>classic_bike                                                            </td><td>2021-04-25 18:43:18                                                     </td><td>2021-04-25 18:43:59                                                     </td><td><span style=white-space:pre-wrap>Clinton St &amp; Polk St    </span>    </td><td><span style=white-space:pre-wrap>15542       </span>                    </td><td><span style=white-space:pre-wrap>Clinton St &amp; Polk St        </span></td><td><span style=white-space:pre-wrap>15542       </span>                    </td><td>41.87147                                                                </td><td>-87.64095                                                               </td><td>41.87147                                                                </td><td>-87.64095                                                               </td><td>casual                                                                  </td></tr>\n",
       "</tbody>\n",
       "</table>\n"
      ],
      "text/latex": [
       "\\begin{tabular}{r|lllllllllllll}\n",
       " ride\\_id & rideable\\_type & started\\_at & ended\\_at & start\\_station\\_name & start\\_station\\_id & end\\_station\\_name & end\\_station\\_id & start\\_lat & start\\_lng & end\\_lat & end\\_lng & member\\_casual\\\\\n",
       "\\hline\n",
       "\t 6C992BD37A98A63F               & classic\\_bike                 & 2021-04-12 18:25:36            & 2021-04-12 18:56:55            & State St \\& Pearson St        & TA1307000061                   & Southport Ave \\& Waveland Ave & 13235                          & 41.89745                       & -87.62872                      & 41.94815                       & -87.66394                      & member                        \\\\\n",
       "\t 1E0145613A209000               & docked\\_bike                  & 2021-04-27 17:27:11            & 2021-04-27 18:31:29            & Dorchester Ave \\& 49th St     & KA1503000069                   & Dorchester Ave \\& 49th St     & KA1503000069                   & 41.80577                       & -87.59246                      & 41.80577                       & -87.59246                      & casual                        \\\\\n",
       "\t E498E15508A80BAD               & docked\\_bike                  & 2021-04-03 12:42:45            & 2021-04-07 11:40:24            & Loomis Blvd \\& 84th St        & 20121                          & Loomis Blvd \\& 84th St        & 20121                          & 41.74149                       & -87.65841                      & 41.74149                       & -87.65841                      & casual                        \\\\\n",
       "\t 1887262AD101C604               & classic\\_bike                 & 2021-04-17 09:17:42            & 2021-04-17 09:42:48            & Honore St \\& Division St      & TA1305000034                   & Southport Ave \\& Waveland Ave & 13235                          & 41.90312                       & -87.67394                      & 41.94815                       & -87.66394                      & member                        \\\\\n",
       "\t C123548CAB2A32A5               & docked\\_bike                  & 2021-04-03 12:42:25            & 2021-04-03 14:13:42            & Loomis Blvd \\& 84th St        & 20121                          & Loomis Blvd \\& 84th St        & 20121                          & 41.74149                       & -87.65841                      & 41.74149                       & -87.65841                      & casual                        \\\\\n",
       "\t 097E76F3651B1AC1               & classic\\_bike                 & 2021-04-25 18:43:18            & 2021-04-25 18:43:59            & Clinton St \\& Polk St         & 15542                          & Clinton St \\& Polk St         & 15542                          & 41.87147                       & -87.64095                      & 41.87147                       & -87.64095                      & casual                        \\\\\n",
       "\\end{tabular}\n"
      ],
      "text/markdown": [
       "\n",
       "| ride_id | rideable_type | started_at | ended_at | start_station_name | start_station_id | end_station_name | end_station_id | start_lat | start_lng | end_lat | end_lng | member_casual |\n",
       "|---|---|---|---|---|---|---|---|---|---|---|---|---|\n",
       "| 6C992BD37A98A63F             | classic_bike                 | 2021-04-12 18:25:36          | 2021-04-12 18:56:55          | State St & Pearson St        | TA1307000061                 | Southport Ave & Waveland Ave | 13235                        | 41.89745                     | -87.62872                    | 41.94815                     | -87.66394                    | member                       |\n",
       "| 1E0145613A209000             | docked_bike                  | 2021-04-27 17:27:11          | 2021-04-27 18:31:29          | Dorchester Ave & 49th St     | KA1503000069                 | Dorchester Ave & 49th St     | KA1503000069                 | 41.80577                     | -87.59246                    | 41.80577                     | -87.59246                    | casual                       |\n",
       "| E498E15508A80BAD             | docked_bike                  | 2021-04-03 12:42:45          | 2021-04-07 11:40:24          | Loomis Blvd & 84th St        | 20121                        | Loomis Blvd & 84th St        | 20121                        | 41.74149                     | -87.65841                    | 41.74149                     | -87.65841                    | casual                       |\n",
       "| 1887262AD101C604             | classic_bike                 | 2021-04-17 09:17:42          | 2021-04-17 09:42:48          | Honore St & Division St      | TA1305000034                 | Southport Ave & Waveland Ave | 13235                        | 41.90312                     | -87.67394                    | 41.94815                     | -87.66394                    | member                       |\n",
       "| C123548CAB2A32A5             | docked_bike                  | 2021-04-03 12:42:25          | 2021-04-03 14:13:42          | Loomis Blvd & 84th St        | 20121                        | Loomis Blvd & 84th St        | 20121                        | 41.74149                     | -87.65841                    | 41.74149                     | -87.65841                    | casual                       |\n",
       "| 097E76F3651B1AC1             | classic_bike                 | 2021-04-25 18:43:18          | 2021-04-25 18:43:59          | Clinton St & Polk St         | 15542                        | Clinton St & Polk St         | 15542                        | 41.87147                     | -87.64095                    | 41.87147                     | -87.64095                    | casual                       |\n",
       "\n"
      ],
      "text/plain": [
       "  ride_id          rideable_type started_at          ended_at           \n",
       "1 6C992BD37A98A63F classic_bike  2021-04-12 18:25:36 2021-04-12 18:56:55\n",
       "2 1E0145613A209000 docked_bike   2021-04-27 17:27:11 2021-04-27 18:31:29\n",
       "3 E498E15508A80BAD docked_bike   2021-04-03 12:42:45 2021-04-07 11:40:24\n",
       "4 1887262AD101C604 classic_bike  2021-04-17 09:17:42 2021-04-17 09:42:48\n",
       "5 C123548CAB2A32A5 docked_bike   2021-04-03 12:42:25 2021-04-03 14:13:42\n",
       "6 097E76F3651B1AC1 classic_bike  2021-04-25 18:43:18 2021-04-25 18:43:59\n",
       "  start_station_name       start_station_id end_station_name            \n",
       "1 State St & Pearson St    TA1307000061     Southport Ave & Waveland Ave\n",
       "2 Dorchester Ave & 49th St KA1503000069     Dorchester Ave & 49th St    \n",
       "3 Loomis Blvd & 84th St    20121            Loomis Blvd & 84th St       \n",
       "4 Honore St & Division St  TA1305000034     Southport Ave & Waveland Ave\n",
       "5 Loomis Blvd & 84th St    20121            Loomis Blvd & 84th St       \n",
       "6 Clinton St & Polk St     15542            Clinton St & Polk St        \n",
       "  end_station_id start_lat start_lng end_lat  end_lng   member_casual\n",
       "1 13235          41.89745  -87.62872 41.94815 -87.66394 member       \n",
       "2 KA1503000069   41.80577  -87.59246 41.80577 -87.59246 casual       \n",
       "3 20121          41.74149  -87.65841 41.74149 -87.65841 casual       \n",
       "4 13235          41.90312  -87.67394 41.94815 -87.66394 member       \n",
       "5 20121          41.74149  -87.65841 41.74149 -87.65841 casual       \n",
       "6 15542          41.87147  -87.64095 41.87147 -87.64095 casual       "
      ]
     },
     "metadata": {},
     "output_type": "display_data"
    }
   ],
   "source": [
    "head(trip_data)"
   ]
  },
  {
   "cell_type": "code",
   "execution_count": 11,
   "id": "3c948da4",
   "metadata": {},
   "outputs": [
    {
     "data": {
      "text/html": [
       "<ol class=list-inline>\n",
       "\t<li>4731081</li>\n",
       "\t<li>13</li>\n",
       "</ol>\n"
      ],
      "text/latex": [
       "\\begin{enumerate*}\n",
       "\\item 4731081\n",
       "\\item 13\n",
       "\\end{enumerate*}\n"
      ],
      "text/markdown": [
       "1. 4731081\n",
       "2. 13\n",
       "\n",
       "\n"
      ],
      "text/plain": [
       "[1] 4731081      13"
      ]
     },
     "metadata": {},
     "output_type": "display_data"
    }
   ],
   "source": [
    "dim(trip_data)"
   ]
  },
  {
   "cell_type": "code",
   "execution_count": 12,
   "id": "7cbcc099",
   "metadata": {},
   "outputs": [
    {
     "name": "stdout",
     "output_type": "stream",
     "text": [
      "Observations: 4,731,081\n",
      "Variables: 13\n",
      "$ ride_id            <chr> \"6C992BD37A98A63F\", \"1E0145613A209000\", \"E498E15...\n",
      "$ rideable_type      <chr> \"classic_bike\", \"docked_bike\", \"docked_bike\", \"c...\n",
      "$ started_at         <dttm> 2021-04-12 18:25:36, 2021-04-27 17:27:11, 2021-...\n",
      "$ ended_at           <dttm> 2021-04-12 18:56:55, 2021-04-27 18:31:29, 2021-...\n",
      "$ start_station_name <chr> \"State St & Pearson St\", \"Dorchester Ave & 49th ...\n",
      "$ start_station_id   <chr> \"TA1307000061\", \"KA1503000069\", \"20121\", \"TA1305...\n",
      "$ end_station_name   <chr> \"Southport Ave & Waveland Ave\", \"Dorchester Ave ...\n",
      "$ end_station_id     <chr> \"13235\", \"KA1503000069\", \"20121\", \"13235\", \"2012...\n",
      "$ start_lat          <dbl> 41.89745, 41.80577, 41.74149, 41.90312, 41.74149...\n",
      "$ start_lng          <dbl> -87.62872, -87.59246, -87.65841, -87.67394, -87....\n",
      "$ end_lat            <dbl> 41.94815, 41.80577, 41.74149, 41.94815, 41.74149...\n",
      "$ end_lng            <dbl> -87.66394, -87.59246, -87.65841, -87.66394, -87....\n",
      "$ member_casual      <chr> \"member\", \"casual\", \"casual\", \"member\", \"casual\"...\n"
     ]
    }
   ],
   "source": [
    "glimpse(trip_data)"
   ]
  },
  {
   "cell_type": "code",
   "execution_count": 13,
   "id": "53285c10",
   "metadata": {},
   "outputs": [
    {
     "name": "stdout",
     "output_type": "stream",
     "text": [
      "Classes 'spec_tbl_df', 'tbl_df', 'tbl' and 'data.frame':\t4731081 obs. of  13 variables:\n",
      " $ ride_id           : chr  \"6C992BD37A98A63F\" \"1E0145613A209000\" \"E498E15508A80BAD\" \"1887262AD101C604\" ...\n",
      " $ rideable_type     : chr  \"classic_bike\" \"docked_bike\" \"docked_bike\" \"classic_bike\" ...\n",
      " $ started_at        : POSIXct, format: \"2021-04-12 18:25:36\" \"2021-04-27 17:27:11\" ...\n",
      " $ ended_at          : POSIXct, format: \"2021-04-12 18:56:55\" \"2021-04-27 18:31:29\" ...\n",
      " $ start_station_name: chr  \"State St & Pearson St\" \"Dorchester Ave & 49th St\" \"Loomis Blvd & 84th St\" \"Honore St & Division St\" ...\n",
      " $ start_station_id  : chr  \"TA1307000061\" \"KA1503000069\" \"20121\" \"TA1305000034\" ...\n",
      " $ end_station_name  : chr  \"Southport Ave & Waveland Ave\" \"Dorchester Ave & 49th St\" \"Loomis Blvd & 84th St\" \"Southport Ave & Waveland Ave\" ...\n",
      " $ end_station_id    : chr  \"13235\" \"KA1503000069\" \"20121\" \"13235\" ...\n",
      " $ start_lat         : num  41.9 41.8 41.7 41.9 41.7 ...\n",
      " $ start_lng         : num  -87.6 -87.6 -87.7 -87.7 -87.7 ...\n",
      " $ end_lat           : num  41.9 41.8 41.7 41.9 41.7 ...\n",
      " $ end_lng           : num  -87.7 -87.6 -87.7 -87.7 -87.7 ...\n",
      " $ member_casual     : chr  \"member\" \"casual\" \"casual\" \"member\" ...\n",
      " - attr(*, \"spec\")=\n",
      "  .. cols(\n",
      "  ..   ride_id = col_character(),\n",
      "  ..   rideable_type = col_character(),\n",
      "  ..   started_at = col_datetime(format = \"\"),\n",
      "  ..   ended_at = col_datetime(format = \"\"),\n",
      "  ..   start_station_name = col_character(),\n",
      "  ..   start_station_id = col_character(),\n",
      "  ..   end_station_name = col_character(),\n",
      "  ..   end_station_id = col_character(),\n",
      "  ..   start_lat = col_double(),\n",
      "  ..   start_lng = col_double(),\n",
      "  ..   end_lat = col_double(),\n",
      "  ..   end_lng = col_double(),\n",
      "  ..   member_casual = col_character()\n",
      "  .. )\n"
     ]
    }
   ],
   "source": [
    "#Lets look at the structure of my data.\n",
    "str(trip_data)"
   ]
  },
  {
   "cell_type": "code",
   "execution_count": null,
   "id": "29e19730",
   "metadata": {},
   "outputs": [],
   "source": []
  },
  {
   "cell_type": "markdown",
   "id": "e6fab847",
   "metadata": {},
   "source": [
    "### Process Phase\n",
    "\n",
    "For thise phase, i am using RStudio for my data cleaning.\n",
    "### DATA CLEANING\n",
    "\n",
    "from the glimpse, i can see that i now have 4,731,081 rows and it \n",
    "also reveals that some variables need renaming for consistency\n",
    "and clarity sake.  \n",
    "variables like \"started_at\" will be renamed \"start_time\", \"ended_at\" will\n",
    "be renamed \"end_time\" and \"member_casual\" will be renamed \"user_status\"\n"
   ]
  },
  {
   "cell_type": "code",
   "execution_count": 14,
   "id": "5d810601",
   "metadata": {},
   "outputs": [
    {
     "name": "stdout",
     "output_type": "stream",
     "text": [
      "Observations: 4,731,081\n",
      "Variables: 13\n",
      "$ ride_id            <chr> \"6C992BD37A98A63F\", \"1E0145613A209000\", \"E498E15...\n",
      "$ bike_type          <chr> \"classic_bike\", \"docked_bike\", \"docked_bike\", \"c...\n",
      "$ start_time         <dttm> 2021-04-12 18:25:36, 2021-04-27 17:27:11, 2021-...\n",
      "$ end_time           <dttm> 2021-04-12 18:56:55, 2021-04-27 18:31:29, 2021-...\n",
      "$ start_station_name <chr> \"State St & Pearson St\", \"Dorchester Ave & 49th ...\n",
      "$ start_station_id   <chr> \"TA1307000061\", \"KA1503000069\", \"20121\", \"TA1305...\n",
      "$ end_station_name   <chr> \"Southport Ave & Waveland Ave\", \"Dorchester Ave ...\n",
      "$ end_station_id     <chr> \"13235\", \"KA1503000069\", \"20121\", \"13235\", \"2012...\n",
      "$ start_lat          <dbl> 41.89745, 41.80577, 41.74149, 41.90312, 41.74149...\n",
      "$ start_lng          <dbl> -87.62872, -87.59246, -87.65841, -87.67394, -87....\n",
      "$ end_lat            <dbl> 41.94815, 41.80577, 41.74149, 41.94815, 41.74149...\n",
      "$ end_lng            <dbl> -87.66394, -87.59246, -87.65841, -87.66394, -87....\n",
      "$ user_status        <chr> \"member\", \"casual\", \"casual\", \"member\", \"casual\"...\n"
     ]
    },
    {
     "data": {
      "text/html": [
       "<table>\n",
       "<thead><tr><th scope=col>ride_id</th><th scope=col>bike_type</th><th scope=col>start_time</th><th scope=col>end_time</th><th scope=col>start_station_name</th><th scope=col>start_station_id</th><th scope=col>end_station_name</th><th scope=col>end_station_id</th><th scope=col>start_lat</th><th scope=col>start_lng</th><th scope=col>end_lat</th><th scope=col>end_lng</th><th scope=col>user_status</th></tr></thead>\n",
       "<tbody>\n",
       "\t<tr><td>6C992BD37A98A63F                                                    </td><td>classic_bike                                                        </td><td>2021-04-12 18:25:36                                                 </td><td>2021-04-12 18:56:55                                                 </td><td><span style=white-space:pre-wrap>State St &amp; Pearson St   </span></td><td>TA1307000061                                                        </td><td>Southport Ave &amp; Waveland Ave                                    </td><td><span style=white-space:pre-wrap>13235       </span>                </td><td>41.89745                                                            </td><td>-87.62872                                                           </td><td>41.94815                                                            </td><td>-87.66394                                                           </td><td>member                                                              </td></tr>\n",
       "\t<tr><td>1E0145613A209000                                                        </td><td>docked_bike                                                             </td><td>2021-04-27 17:27:11                                                     </td><td>2021-04-27 18:31:29                                                     </td><td>Dorchester Ave &amp; 49th St                                            </td><td>KA1503000069                                                            </td><td><span style=white-space:pre-wrap>Dorchester Ave &amp; 49th St    </span></td><td>KA1503000069                                                            </td><td>41.80577                                                                </td><td>-87.59246                                                               </td><td>41.80577                                                                </td><td>-87.59246                                                               </td><td>casual                                                                  </td></tr>\n",
       "\t<tr><td>E498E15508A80BAD                                                        </td><td>docked_bike                                                             </td><td>2021-04-03 12:42:45                                                     </td><td>2021-04-07 11:40:24                                                     </td><td><span style=white-space:pre-wrap>Loomis Blvd &amp; 84th St   </span>    </td><td><span style=white-space:pre-wrap>20121       </span>                    </td><td><span style=white-space:pre-wrap>Loomis Blvd &amp; 84th St       </span></td><td><span style=white-space:pre-wrap>20121       </span>                    </td><td>41.74149                                                                </td><td>-87.65841                                                               </td><td>41.74149                                                                </td><td>-87.65841                                                               </td><td>casual                                                                  </td></tr>\n",
       "\t<tr><td>1887262AD101C604                                    </td><td>classic_bike                                        </td><td>2021-04-17 09:17:42                                 </td><td>2021-04-17 09:42:48                                 </td><td>Honore St &amp; Division St                         </td><td>TA1305000034                                        </td><td>Southport Ave &amp; Waveland Ave                    </td><td><span style=white-space:pre-wrap>13235       </span></td><td>41.90312                                            </td><td>-87.67394                                           </td><td>41.94815                                            </td><td>-87.66394                                           </td><td>member                                              </td></tr>\n",
       "\t<tr><td>C123548CAB2A32A5                                                        </td><td>docked_bike                                                             </td><td>2021-04-03 12:42:25                                                     </td><td>2021-04-03 14:13:42                                                     </td><td><span style=white-space:pre-wrap>Loomis Blvd &amp; 84th St   </span>    </td><td><span style=white-space:pre-wrap>20121       </span>                    </td><td><span style=white-space:pre-wrap>Loomis Blvd &amp; 84th St       </span></td><td><span style=white-space:pre-wrap>20121       </span>                    </td><td>41.74149                                                                </td><td>-87.65841                                                               </td><td>41.74149                                                                </td><td>-87.65841                                                               </td><td>casual                                                                  </td></tr>\n",
       "\t<tr><td>097E76F3651B1AC1                                                        </td><td>classic_bike                                                            </td><td>2021-04-25 18:43:18                                                     </td><td>2021-04-25 18:43:59                                                     </td><td><span style=white-space:pre-wrap>Clinton St &amp; Polk St    </span>    </td><td><span style=white-space:pre-wrap>15542       </span>                    </td><td><span style=white-space:pre-wrap>Clinton St &amp; Polk St        </span></td><td><span style=white-space:pre-wrap>15542       </span>                    </td><td>41.87147                                                                </td><td>-87.64095                                                               </td><td>41.87147                                                                </td><td>-87.64095                                                               </td><td>casual                                                                  </td></tr>\n",
       "</tbody>\n",
       "</table>\n"
      ],
      "text/latex": [
       "\\begin{tabular}{r|lllllllllllll}\n",
       " ride\\_id & bike\\_type & start\\_time & end\\_time & start\\_station\\_name & start\\_station\\_id & end\\_station\\_name & end\\_station\\_id & start\\_lat & start\\_lng & end\\_lat & end\\_lng & user\\_status\\\\\n",
       "\\hline\n",
       "\t 6C992BD37A98A63F               & classic\\_bike                 & 2021-04-12 18:25:36            & 2021-04-12 18:56:55            & State St \\& Pearson St        & TA1307000061                   & Southport Ave \\& Waveland Ave & 13235                          & 41.89745                       & -87.62872                      & 41.94815                       & -87.66394                      & member                        \\\\\n",
       "\t 1E0145613A209000               & docked\\_bike                  & 2021-04-27 17:27:11            & 2021-04-27 18:31:29            & Dorchester Ave \\& 49th St     & KA1503000069                   & Dorchester Ave \\& 49th St     & KA1503000069                   & 41.80577                       & -87.59246                      & 41.80577                       & -87.59246                      & casual                        \\\\\n",
       "\t E498E15508A80BAD               & docked\\_bike                  & 2021-04-03 12:42:45            & 2021-04-07 11:40:24            & Loomis Blvd \\& 84th St        & 20121                          & Loomis Blvd \\& 84th St        & 20121                          & 41.74149                       & -87.65841                      & 41.74149                       & -87.65841                      & casual                        \\\\\n",
       "\t 1887262AD101C604               & classic\\_bike                 & 2021-04-17 09:17:42            & 2021-04-17 09:42:48            & Honore St \\& Division St      & TA1305000034                   & Southport Ave \\& Waveland Ave & 13235                          & 41.90312                       & -87.67394                      & 41.94815                       & -87.66394                      & member                        \\\\\n",
       "\t C123548CAB2A32A5               & docked\\_bike                  & 2021-04-03 12:42:25            & 2021-04-03 14:13:42            & Loomis Blvd \\& 84th St        & 20121                          & Loomis Blvd \\& 84th St        & 20121                          & 41.74149                       & -87.65841                      & 41.74149                       & -87.65841                      & casual                        \\\\\n",
       "\t 097E76F3651B1AC1               & classic\\_bike                 & 2021-04-25 18:43:18            & 2021-04-25 18:43:59            & Clinton St \\& Polk St         & 15542                          & Clinton St \\& Polk St         & 15542                          & 41.87147                       & -87.64095                      & 41.87147                       & -87.64095                      & casual                        \\\\\n",
       "\\end{tabular}\n"
      ],
      "text/markdown": [
       "\n",
       "| ride_id | bike_type | start_time | end_time | start_station_name | start_station_id | end_station_name | end_station_id | start_lat | start_lng | end_lat | end_lng | user_status |\n",
       "|---|---|---|---|---|---|---|---|---|---|---|---|---|\n",
       "| 6C992BD37A98A63F             | classic_bike                 | 2021-04-12 18:25:36          | 2021-04-12 18:56:55          | State St & Pearson St        | TA1307000061                 | Southport Ave & Waveland Ave | 13235                        | 41.89745                     | -87.62872                    | 41.94815                     | -87.66394                    | member                       |\n",
       "| 1E0145613A209000             | docked_bike                  | 2021-04-27 17:27:11          | 2021-04-27 18:31:29          | Dorchester Ave & 49th St     | KA1503000069                 | Dorchester Ave & 49th St     | KA1503000069                 | 41.80577                     | -87.59246                    | 41.80577                     | -87.59246                    | casual                       |\n",
       "| E498E15508A80BAD             | docked_bike                  | 2021-04-03 12:42:45          | 2021-04-07 11:40:24          | Loomis Blvd & 84th St        | 20121                        | Loomis Blvd & 84th St        | 20121                        | 41.74149                     | -87.65841                    | 41.74149                     | -87.65841                    | casual                       |\n",
       "| 1887262AD101C604             | classic_bike                 | 2021-04-17 09:17:42          | 2021-04-17 09:42:48          | Honore St & Division St      | TA1305000034                 | Southport Ave & Waveland Ave | 13235                        | 41.90312                     | -87.67394                    | 41.94815                     | -87.66394                    | member                       |\n",
       "| C123548CAB2A32A5             | docked_bike                  | 2021-04-03 12:42:25          | 2021-04-03 14:13:42          | Loomis Blvd & 84th St        | 20121                        | Loomis Blvd & 84th St        | 20121                        | 41.74149                     | -87.65841                    | 41.74149                     | -87.65841                    | casual                       |\n",
       "| 097E76F3651B1AC1             | classic_bike                 | 2021-04-25 18:43:18          | 2021-04-25 18:43:59          | Clinton St & Polk St         | 15542                        | Clinton St & Polk St         | 15542                        | 41.87147                     | -87.64095                    | 41.87147                     | -87.64095                    | casual                       |\n",
       "\n"
      ],
      "text/plain": [
       "  ride_id          bike_type    start_time          end_time           \n",
       "1 6C992BD37A98A63F classic_bike 2021-04-12 18:25:36 2021-04-12 18:56:55\n",
       "2 1E0145613A209000 docked_bike  2021-04-27 17:27:11 2021-04-27 18:31:29\n",
       "3 E498E15508A80BAD docked_bike  2021-04-03 12:42:45 2021-04-07 11:40:24\n",
       "4 1887262AD101C604 classic_bike 2021-04-17 09:17:42 2021-04-17 09:42:48\n",
       "5 C123548CAB2A32A5 docked_bike  2021-04-03 12:42:25 2021-04-03 14:13:42\n",
       "6 097E76F3651B1AC1 classic_bike 2021-04-25 18:43:18 2021-04-25 18:43:59\n",
       "  start_station_name       start_station_id end_station_name            \n",
       "1 State St & Pearson St    TA1307000061     Southport Ave & Waveland Ave\n",
       "2 Dorchester Ave & 49th St KA1503000069     Dorchester Ave & 49th St    \n",
       "3 Loomis Blvd & 84th St    20121            Loomis Blvd & 84th St       \n",
       "4 Honore St & Division St  TA1305000034     Southport Ave & Waveland Ave\n",
       "5 Loomis Blvd & 84th St    20121            Loomis Blvd & 84th St       \n",
       "6 Clinton St & Polk St     15542            Clinton St & Polk St        \n",
       "  end_station_id start_lat start_lng end_lat  end_lng   user_status\n",
       "1 13235          41.89745  -87.62872 41.94815 -87.66394 member     \n",
       "2 KA1503000069   41.80577  -87.59246 41.80577 -87.59246 casual     \n",
       "3 20121          41.74149  -87.65841 41.74149 -87.65841 casual     \n",
       "4 13235          41.90312  -87.67394 41.94815 -87.66394 member     \n",
       "5 20121          41.74149  -87.65841 41.74149 -87.65841 casual     \n",
       "6 15542          41.87147  -87.64095 41.87147 -87.64095 casual     "
      ]
     },
     "metadata": {},
     "output_type": "display_data"
    }
   ],
   "source": [
    "renamed_col <- trip_data %>% \n",
    "  rename(start_time=started_at, end_time = ended_at,user_status= member_casual\n",
    "         , bike_type = rideable_type)\n",
    "glimpse(renamed_col)\n",
    "head(renamed_col)"
   ]
  },
  {
   "cell_type": "markdown",
   "id": "676fb536",
   "metadata": {},
   "source": [
    "I will add trip_duration column by using the mutate function\n",
    "in combination with some functions from the lubridate package."
   ]
  },
  {
   "cell_type": "code",
   "execution_count": 15,
   "id": "e6a3887f",
   "metadata": {},
   "outputs": [
    {
     "name": "stderr",
     "output_type": "stream",
     "text": [
      "\n",
      "Attaching package: 'lubridate'\n",
      "\n",
      "The following object is masked from 'package:base':\n",
      "\n",
      "    date\n",
      "\n"
     ]
    }
   ],
   "source": [
    "library(\"lubridate\")\n",
    "with_trip_duration <-mutate(renamed_col, trip_duration= as.duration\n",
    "                            (interval(ymd_hms(renamed_col$start_time),\n",
    "                                      ymd_hms(renamed_col$end_time))))\n"
   ]
  },
  {
   "cell_type": "code",
   "execution_count": 17,
   "id": "1672f443",
   "metadata": {},
   "outputs": [
    {
     "data": {
      "text/html": [
       "<table>\n",
       "<thead><tr><th scope=col>ride_id</th><th scope=col>bike_type</th><th scope=col>start_time</th><th scope=col>end_time</th><th scope=col>start_station_name</th><th scope=col>start_station_id</th><th scope=col>end_station_name</th><th scope=col>end_station_id</th><th scope=col>start_lat</th><th scope=col>start_lng</th><th scope=col>end_lat</th><th scope=col>end_lng</th><th scope=col>user_status</th><th scope=col>trip_duration</th></tr></thead>\n",
       "<tbody>\n",
       "\t<tr><td>6C992BD37A98A63F                                                    </td><td>classic_bike                                                        </td><td>2021-04-12 18:25:36                                                 </td><td>2021-04-12 18:56:55                                                 </td><td><span style=white-space:pre-wrap>State St &amp; Pearson St   </span></td><td>TA1307000061                                                        </td><td>Southport Ave &amp; Waveland Ave                                    </td><td><span style=white-space:pre-wrap>13235       </span>                </td><td>41.89745                                                            </td><td>-87.62872                                                           </td><td>41.94815                                                            </td><td>-87.66394                                                           </td><td>member                                                              </td><td>1879s (~31.32 minutes)                                              </td></tr>\n",
       "\t<tr><td>1E0145613A209000                                                        </td><td>docked_bike                                                             </td><td>2021-04-27 17:27:11                                                     </td><td>2021-04-27 18:31:29                                                     </td><td>Dorchester Ave &amp; 49th St                                            </td><td>KA1503000069                                                            </td><td><span style=white-space:pre-wrap>Dorchester Ave &amp; 49th St    </span></td><td>KA1503000069                                                            </td><td>41.80577                                                                </td><td>-87.59246                                                               </td><td>41.80577                                                                </td><td>-87.59246                                                               </td><td>casual                                                                  </td><td>3858s (~1.07 hours)                                                     </td></tr>\n",
       "\t<tr><td>E498E15508A80BAD                                                        </td><td>docked_bike                                                             </td><td>2021-04-03 12:42:45                                                     </td><td>2021-04-07 11:40:24                                                     </td><td><span style=white-space:pre-wrap>Loomis Blvd &amp; 84th St   </span>    </td><td><span style=white-space:pre-wrap>20121       </span>                    </td><td><span style=white-space:pre-wrap>Loomis Blvd &amp; 84th St       </span></td><td><span style=white-space:pre-wrap>20121       </span>                    </td><td>41.74149                                                                </td><td>-87.65841                                                               </td><td>41.74149                                                                </td><td>-87.65841                                                               </td><td>casual                                                                  </td><td>341859s (~3.96 days)                                                    </td></tr>\n",
       "\t<tr><td>1887262AD101C604                                    </td><td>classic_bike                                        </td><td>2021-04-17 09:17:42                                 </td><td>2021-04-17 09:42:48                                 </td><td>Honore St &amp; Division St                         </td><td>TA1305000034                                        </td><td>Southport Ave &amp; Waveland Ave                    </td><td><span style=white-space:pre-wrap>13235       </span></td><td>41.90312                                            </td><td>-87.67394                                           </td><td>41.94815                                            </td><td>-87.66394                                           </td><td>member                                              </td><td>1506s (~25.1 minutes)                               </td></tr>\n",
       "\t<tr><td>C123548CAB2A32A5                                                        </td><td>docked_bike                                                             </td><td>2021-04-03 12:42:25                                                     </td><td>2021-04-03 14:13:42                                                     </td><td><span style=white-space:pre-wrap>Loomis Blvd &amp; 84th St   </span>    </td><td><span style=white-space:pre-wrap>20121       </span>                    </td><td><span style=white-space:pre-wrap>Loomis Blvd &amp; 84th St       </span></td><td><span style=white-space:pre-wrap>20121       </span>                    </td><td>41.74149                                                                </td><td>-87.65841                                                               </td><td>41.74149                                                                </td><td>-87.65841                                                               </td><td>casual                                                                  </td><td>5477s (~1.52 hours)                                                     </td></tr>\n",
       "\t<tr><td>097E76F3651B1AC1                                                        </td><td>classic_bike                                                            </td><td>2021-04-25 18:43:18                                                     </td><td>2021-04-25 18:43:59                                                     </td><td><span style=white-space:pre-wrap>Clinton St &amp; Polk St    </span>    </td><td><span style=white-space:pre-wrap>15542       </span>                    </td><td><span style=white-space:pre-wrap>Clinton St &amp; Polk St        </span></td><td><span style=white-space:pre-wrap>15542       </span>                    </td><td>41.87147                                                                </td><td>-87.64095                                                               </td><td>41.87147                                                                </td><td>-87.64095                                                               </td><td>casual                                                                  </td><td>41s                                                                     </td></tr>\n",
       "</tbody>\n",
       "</table>\n"
      ],
      "text/latex": [
       "\\begin{tabular}{r|llllllllllllll}\n",
       " ride\\_id & bike\\_type & start\\_time & end\\_time & start\\_station\\_name & start\\_station\\_id & end\\_station\\_name & end\\_station\\_id & start\\_lat & start\\_lng & end\\_lat & end\\_lng & user\\_status & trip\\_duration\\\\\n",
       "\\hline\n",
       "\t 6C992BD37A98A63F                        & classic\\_bike                          & 2021-04-12 18:25:36                     & 2021-04-12 18:56:55                     & State St \\& Pearson St                 & TA1307000061                            & Southport Ave \\& Waveland Ave          & 13235                                   & 41.89745                                & -87.62872                               & 41.94815                                & -87.66394                               & member                                  & 1879s (\\textasciitilde{}31.32 minutes)\\\\\n",
       "\t 1E0145613A209000                     & docked\\_bike                        & 2021-04-27 17:27:11                  & 2021-04-27 18:31:29                  & Dorchester Ave \\& 49th St           & KA1503000069                         & Dorchester Ave \\& 49th St           & KA1503000069                         & 41.80577                             & -87.59246                            & 41.80577                             & -87.59246                            & casual                               & 3858s (\\textasciitilde{}1.07 hours)\\\\\n",
       "\t E498E15508A80BAD                      & docked\\_bike                         & 2021-04-03 12:42:45                   & 2021-04-07 11:40:24                   & Loomis Blvd \\& 84th St               & 20121                                 & Loomis Blvd \\& 84th St               & 20121                                 & 41.74149                              & -87.65841                             & 41.74149                              & -87.65841                             & casual                                & 341859s (\\textasciitilde{}3.96 days)\\\\\n",
       "\t 1887262AD101C604                       & classic\\_bike                         & 2021-04-17 09:17:42                    & 2021-04-17 09:42:48                    & Honore St \\& Division St              & TA1305000034                           & Southport Ave \\& Waveland Ave         & 13235                                  & 41.90312                               & -87.67394                              & 41.94815                               & -87.66394                              & member                                 & 1506s (\\textasciitilde{}25.1 minutes)\\\\\n",
       "\t C123548CAB2A32A5                     & docked\\_bike                        & 2021-04-03 12:42:25                  & 2021-04-03 14:13:42                  & Loomis Blvd \\& 84th St              & 20121                                & Loomis Blvd \\& 84th St              & 20121                                & 41.74149                             & -87.65841                            & 41.74149                             & -87.65841                            & casual                               & 5477s (\\textasciitilde{}1.52 hours)\\\\\n",
       "\t 097E76F3651B1AC1               & classic\\_bike                 & 2021-04-25 18:43:18            & 2021-04-25 18:43:59            & Clinton St \\& Polk St         & 15542                          & Clinton St \\& Polk St         & 15542                          & 41.87147                       & -87.64095                      & 41.87147                       & -87.64095                      & casual                         & 41s                           \\\\\n",
       "\\end{tabular}\n"
      ],
      "text/markdown": [
       "\n",
       "| ride_id | bike_type | start_time | end_time | start_station_name | start_station_id | end_station_name | end_station_id | start_lat | start_lng | end_lat | end_lng | user_status | trip_duration |\n",
       "|---|---|---|---|---|---|---|---|---|---|---|---|---|---|\n",
       "| 6C992BD37A98A63F             | classic_bike                 | 2021-04-12 18:25:36          | 2021-04-12 18:56:55          | State St & Pearson St        | TA1307000061                 | Southport Ave & Waveland Ave | 13235                        | 41.89745                     | -87.62872                    | 41.94815                     | -87.66394                    | member                       | 1879s (~31.32 minutes)       |\n",
       "| 1E0145613A209000             | docked_bike                  | 2021-04-27 17:27:11          | 2021-04-27 18:31:29          | Dorchester Ave & 49th St     | KA1503000069                 | Dorchester Ave & 49th St     | KA1503000069                 | 41.80577                     | -87.59246                    | 41.80577                     | -87.59246                    | casual                       | 3858s (~1.07 hours)          |\n",
       "| E498E15508A80BAD             | docked_bike                  | 2021-04-03 12:42:45          | 2021-04-07 11:40:24          | Loomis Blvd & 84th St        | 20121                        | Loomis Blvd & 84th St        | 20121                        | 41.74149                     | -87.65841                    | 41.74149                     | -87.65841                    | casual                       | 341859s (~3.96 days)         |\n",
       "| 1887262AD101C604             | classic_bike                 | 2021-04-17 09:17:42          | 2021-04-17 09:42:48          | Honore St & Division St      | TA1305000034                 | Southport Ave & Waveland Ave | 13235                        | 41.90312                     | -87.67394                    | 41.94815                     | -87.66394                    | member                       | 1506s (~25.1 minutes)        |\n",
       "| C123548CAB2A32A5             | docked_bike                  | 2021-04-03 12:42:25          | 2021-04-03 14:13:42          | Loomis Blvd & 84th St        | 20121                        | Loomis Blvd & 84th St        | 20121                        | 41.74149                     | -87.65841                    | 41.74149                     | -87.65841                    | casual                       | 5477s (~1.52 hours)          |\n",
       "| 097E76F3651B1AC1             | classic_bike                 | 2021-04-25 18:43:18          | 2021-04-25 18:43:59          | Clinton St & Polk St         | 15542                        | Clinton St & Polk St         | 15542                        | 41.87147                     | -87.64095                    | 41.87147                     | -87.64095                    | casual                       | 41s                          |\n",
       "\n"
      ],
      "text/plain": [
       "  ride_id          bike_type    start_time          end_time           \n",
       "1 6C992BD37A98A63F classic_bike 2021-04-12 18:25:36 2021-04-12 18:56:55\n",
       "2 1E0145613A209000 docked_bike  2021-04-27 17:27:11 2021-04-27 18:31:29\n",
       "3 E498E15508A80BAD docked_bike  2021-04-03 12:42:45 2021-04-07 11:40:24\n",
       "4 1887262AD101C604 classic_bike 2021-04-17 09:17:42 2021-04-17 09:42:48\n",
       "5 C123548CAB2A32A5 docked_bike  2021-04-03 12:42:25 2021-04-03 14:13:42\n",
       "6 097E76F3651B1AC1 classic_bike 2021-04-25 18:43:18 2021-04-25 18:43:59\n",
       "  start_station_name       start_station_id end_station_name            \n",
       "1 State St & Pearson St    TA1307000061     Southport Ave & Waveland Ave\n",
       "2 Dorchester Ave & 49th St KA1503000069     Dorchester Ave & 49th St    \n",
       "3 Loomis Blvd & 84th St    20121            Loomis Blvd & 84th St       \n",
       "4 Honore St & Division St  TA1305000034     Southport Ave & Waveland Ave\n",
       "5 Loomis Blvd & 84th St    20121            Loomis Blvd & 84th St       \n",
       "6 Clinton St & Polk St     15542            Clinton St & Polk St        \n",
       "  end_station_id start_lat start_lng end_lat  end_lng   user_status\n",
       "1 13235          41.89745  -87.62872 41.94815 -87.66394 member     \n",
       "2 KA1503000069   41.80577  -87.59246 41.80577 -87.59246 casual     \n",
       "3 20121          41.74149  -87.65841 41.74149 -87.65841 casual     \n",
       "4 13235          41.90312  -87.67394 41.94815 -87.66394 member     \n",
       "5 20121          41.74149  -87.65841 41.74149 -87.65841 casual     \n",
       "6 15542          41.87147  -87.64095 41.87147 -87.64095 casual     \n",
       "  trip_duration         \n",
       "1 1879s (~31.32 minutes)\n",
       "2 3858s (~1.07 hours)   \n",
       "3 341859s (~3.96 days)  \n",
       "4 1506s (~25.1 minutes) \n",
       "5 5477s (~1.52 hours)   \n",
       "6 41s                   "
      ]
     },
     "metadata": {},
     "output_type": "display_data"
    }
   ],
   "source": [
    "head(with_trip_duration)"
   ]
  },
  {
   "cell_type": "markdown",
   "id": "94aac974",
   "metadata": {},
   "source": [
    "I will add another column with ride weekdays in order to determine what day of\n",
    "the week majority of the users prefer riding."
   ]
  },
  {
   "cell_type": "code",
   "execution_count": 18,
   "id": "dc6c7ebd",
   "metadata": {},
   "outputs": [
    {
     "data": {
      "text/html": [
       "<table>\n",
       "<thead><tr><th scope=col>ride_id</th><th scope=col>bike_type</th><th scope=col>start_time</th><th scope=col>end_time</th><th scope=col>start_station_name</th><th scope=col>start_station_id</th><th scope=col>end_station_name</th><th scope=col>end_station_id</th><th scope=col>start_lat</th><th scope=col>start_lng</th><th scope=col>end_lat</th><th scope=col>end_lng</th><th scope=col>user_status</th><th scope=col>trip_duration</th><th scope=col>weekday</th></tr></thead>\n",
       "<tbody>\n",
       "\t<tr><td>6C992BD37A98A63F                                                    </td><td>classic_bike                                                        </td><td>2021-04-12 18:25:36                                                 </td><td>2021-04-12 18:56:55                                                 </td><td><span style=white-space:pre-wrap>State St &amp; Pearson St   </span></td><td>TA1307000061                                                        </td><td>Southport Ave &amp; Waveland Ave                                    </td><td><span style=white-space:pre-wrap>13235       </span>                </td><td>41.89745                                                            </td><td>-87.62872                                                           </td><td>41.94815                                                            </td><td>-87.66394                                                           </td><td>member                                                              </td><td>1879s (~31.32 minutes)                                              </td><td><span style=white-space:pre-wrap>Monday  </span>                    </td></tr>\n",
       "\t<tr><td>1E0145613A209000                                                        </td><td>docked_bike                                                             </td><td>2021-04-27 17:27:11                                                     </td><td>2021-04-27 18:31:29                                                     </td><td>Dorchester Ave &amp; 49th St                                            </td><td>KA1503000069                                                            </td><td><span style=white-space:pre-wrap>Dorchester Ave &amp; 49th St    </span></td><td>KA1503000069                                                            </td><td>41.80577                                                                </td><td>-87.59246                                                               </td><td>41.80577                                                                </td><td>-87.59246                                                               </td><td>casual                                                                  </td><td>3858s (~1.07 hours)                                                     </td><td>Tuesday                                                                 </td></tr>\n",
       "\t<tr><td>E498E15508A80BAD                                                        </td><td>docked_bike                                                             </td><td>2021-04-03 12:42:45                                                     </td><td>2021-04-07 11:40:24                                                     </td><td><span style=white-space:pre-wrap>Loomis Blvd &amp; 84th St   </span>    </td><td><span style=white-space:pre-wrap>20121       </span>                    </td><td><span style=white-space:pre-wrap>Loomis Blvd &amp; 84th St       </span></td><td><span style=white-space:pre-wrap>20121       </span>                    </td><td>41.74149                                                                </td><td>-87.65841                                                               </td><td>41.74149                                                                </td><td>-87.65841                                                               </td><td>casual                                                                  </td><td>341859s (~3.96 days)                                                    </td><td>Saturday                                                                </td></tr>\n",
       "\t<tr><td>1887262AD101C604                                    </td><td>classic_bike                                        </td><td>2021-04-17 09:17:42                                 </td><td>2021-04-17 09:42:48                                 </td><td>Honore St &amp; Division St                         </td><td>TA1305000034                                        </td><td>Southport Ave &amp; Waveland Ave                    </td><td><span style=white-space:pre-wrap>13235       </span></td><td>41.90312                                            </td><td>-87.67394                                           </td><td>41.94815                                            </td><td>-87.66394                                           </td><td>member                                              </td><td>1506s (~25.1 minutes)                               </td><td>Saturday                                            </td></tr>\n",
       "\t<tr><td>C123548CAB2A32A5                                                        </td><td>docked_bike                                                             </td><td>2021-04-03 12:42:25                                                     </td><td>2021-04-03 14:13:42                                                     </td><td><span style=white-space:pre-wrap>Loomis Blvd &amp; 84th St   </span>    </td><td><span style=white-space:pre-wrap>20121       </span>                    </td><td><span style=white-space:pre-wrap>Loomis Blvd &amp; 84th St       </span></td><td><span style=white-space:pre-wrap>20121       </span>                    </td><td>41.74149                                                                </td><td>-87.65841                                                               </td><td>41.74149                                                                </td><td>-87.65841                                                               </td><td>casual                                                                  </td><td>5477s (~1.52 hours)                                                     </td><td>Saturday                                                                </td></tr>\n",
       "\t<tr><td>097E76F3651B1AC1                                                        </td><td>classic_bike                                                            </td><td>2021-04-25 18:43:18                                                     </td><td>2021-04-25 18:43:59                                                     </td><td><span style=white-space:pre-wrap>Clinton St &amp; Polk St    </span>    </td><td><span style=white-space:pre-wrap>15542       </span>                    </td><td><span style=white-space:pre-wrap>Clinton St &amp; Polk St        </span></td><td><span style=white-space:pre-wrap>15542       </span>                    </td><td>41.87147                                                                </td><td>-87.64095                                                               </td><td>41.87147                                                                </td><td>-87.64095                                                               </td><td>casual                                                                  </td><td>41s                                                                     </td><td><span style=white-space:pre-wrap>Sunday  </span>                        </td></tr>\n",
       "</tbody>\n",
       "</table>\n"
      ],
      "text/latex": [
       "\\begin{tabular}{r|lllllllllllllll}\n",
       " ride\\_id & bike\\_type & start\\_time & end\\_time & start\\_station\\_name & start\\_station\\_id & end\\_station\\_name & end\\_station\\_id & start\\_lat & start\\_lng & end\\_lat & end\\_lng & user\\_status & trip\\_duration & weekday\\\\\n",
       "\\hline\n",
       "\t 6C992BD37A98A63F                        & classic\\_bike                          & 2021-04-12 18:25:36                     & 2021-04-12 18:56:55                     & State St \\& Pearson St                 & TA1307000061                            & Southport Ave \\& Waveland Ave          & 13235                                   & 41.89745                                & -87.62872                               & 41.94815                                & -87.66394                               & member                                  & 1879s (\\textasciitilde{}31.32 minutes) & Monday                                 \\\\\n",
       "\t 1E0145613A209000                     & docked\\_bike                        & 2021-04-27 17:27:11                  & 2021-04-27 18:31:29                  & Dorchester Ave \\& 49th St           & KA1503000069                         & Dorchester Ave \\& 49th St           & KA1503000069                         & 41.80577                             & -87.59246                            & 41.80577                             & -87.59246                            & casual                               & 3858s (\\textasciitilde{}1.07 hours) & Tuesday                             \\\\\n",
       "\t E498E15508A80BAD                      & docked\\_bike                         & 2021-04-03 12:42:45                   & 2021-04-07 11:40:24                   & Loomis Blvd \\& 84th St               & 20121                                 & Loomis Blvd \\& 84th St               & 20121                                 & 41.74149                              & -87.65841                             & 41.74149                              & -87.65841                             & casual                                & 341859s (\\textasciitilde{}3.96 days) & Saturday                             \\\\\n",
       "\t 1887262AD101C604                       & classic\\_bike                         & 2021-04-17 09:17:42                    & 2021-04-17 09:42:48                    & Honore St \\& Division St              & TA1305000034                           & Southport Ave \\& Waveland Ave         & 13235                                  & 41.90312                               & -87.67394                              & 41.94815                               & -87.66394                              & member                                 & 1506s (\\textasciitilde{}25.1 minutes) & Saturday                              \\\\\n",
       "\t C123548CAB2A32A5                     & docked\\_bike                        & 2021-04-03 12:42:25                  & 2021-04-03 14:13:42                  & Loomis Blvd \\& 84th St              & 20121                                & Loomis Blvd \\& 84th St              & 20121                                & 41.74149                             & -87.65841                            & 41.74149                             & -87.65841                            & casual                               & 5477s (\\textasciitilde{}1.52 hours) & Saturday                            \\\\\n",
       "\t 097E76F3651B1AC1               & classic\\_bike                 & 2021-04-25 18:43:18            & 2021-04-25 18:43:59            & Clinton St \\& Polk St         & 15542                          & Clinton St \\& Polk St         & 15542                          & 41.87147                       & -87.64095                      & 41.87147                       & -87.64095                      & casual                         & 41s                            & Sunday                        \\\\\n",
       "\\end{tabular}\n"
      ],
      "text/markdown": [
       "\n",
       "| ride_id | bike_type | start_time | end_time | start_station_name | start_station_id | end_station_name | end_station_id | start_lat | start_lng | end_lat | end_lng | user_status | trip_duration | weekday |\n",
       "|---|---|---|---|---|---|---|---|---|---|---|---|---|---|---|\n",
       "| 6C992BD37A98A63F             | classic_bike                 | 2021-04-12 18:25:36          | 2021-04-12 18:56:55          | State St & Pearson St        | TA1307000061                 | Southport Ave & Waveland Ave | 13235                        | 41.89745                     | -87.62872                    | 41.94815                     | -87.66394                    | member                       | 1879s (~31.32 minutes)       | Monday                       |\n",
       "| 1E0145613A209000             | docked_bike                  | 2021-04-27 17:27:11          | 2021-04-27 18:31:29          | Dorchester Ave & 49th St     | KA1503000069                 | Dorchester Ave & 49th St     | KA1503000069                 | 41.80577                     | -87.59246                    | 41.80577                     | -87.59246                    | casual                       | 3858s (~1.07 hours)          | Tuesday                      |\n",
       "| E498E15508A80BAD             | docked_bike                  | 2021-04-03 12:42:45          | 2021-04-07 11:40:24          | Loomis Blvd & 84th St        | 20121                        | Loomis Blvd & 84th St        | 20121                        | 41.74149                     | -87.65841                    | 41.74149                     | -87.65841                    | casual                       | 341859s (~3.96 days)         | Saturday                     |\n",
       "| 1887262AD101C604             | classic_bike                 | 2021-04-17 09:17:42          | 2021-04-17 09:42:48          | Honore St & Division St      | TA1305000034                 | Southport Ave & Waveland Ave | 13235                        | 41.90312                     | -87.67394                    | 41.94815                     | -87.66394                    | member                       | 1506s (~25.1 minutes)        | Saturday                     |\n",
       "| C123548CAB2A32A5             | docked_bike                  | 2021-04-03 12:42:25          | 2021-04-03 14:13:42          | Loomis Blvd & 84th St        | 20121                        | Loomis Blvd & 84th St        | 20121                        | 41.74149                     | -87.65841                    | 41.74149                     | -87.65841                    | casual                       | 5477s (~1.52 hours)          | Saturday                     |\n",
       "| 097E76F3651B1AC1             | classic_bike                 | 2021-04-25 18:43:18          | 2021-04-25 18:43:59          | Clinton St & Polk St         | 15542                        | Clinton St & Polk St         | 15542                        | 41.87147                     | -87.64095                    | 41.87147                     | -87.64095                    | casual                       | 41s                          | Sunday                       |\n",
       "\n"
      ],
      "text/plain": [
       "  ride_id          bike_type    start_time          end_time           \n",
       "1 6C992BD37A98A63F classic_bike 2021-04-12 18:25:36 2021-04-12 18:56:55\n",
       "2 1E0145613A209000 docked_bike  2021-04-27 17:27:11 2021-04-27 18:31:29\n",
       "3 E498E15508A80BAD docked_bike  2021-04-03 12:42:45 2021-04-07 11:40:24\n",
       "4 1887262AD101C604 classic_bike 2021-04-17 09:17:42 2021-04-17 09:42:48\n",
       "5 C123548CAB2A32A5 docked_bike  2021-04-03 12:42:25 2021-04-03 14:13:42\n",
       "6 097E76F3651B1AC1 classic_bike 2021-04-25 18:43:18 2021-04-25 18:43:59\n",
       "  start_station_name       start_station_id end_station_name            \n",
       "1 State St & Pearson St    TA1307000061     Southport Ave & Waveland Ave\n",
       "2 Dorchester Ave & 49th St KA1503000069     Dorchester Ave & 49th St    \n",
       "3 Loomis Blvd & 84th St    20121            Loomis Blvd & 84th St       \n",
       "4 Honore St & Division St  TA1305000034     Southport Ave & Waveland Ave\n",
       "5 Loomis Blvd & 84th St    20121            Loomis Blvd & 84th St       \n",
       "6 Clinton St & Polk St     15542            Clinton St & Polk St        \n",
       "  end_station_id start_lat start_lng end_lat  end_lng   user_status\n",
       "1 13235          41.89745  -87.62872 41.94815 -87.66394 member     \n",
       "2 KA1503000069   41.80577  -87.59246 41.80577 -87.59246 casual     \n",
       "3 20121          41.74149  -87.65841 41.74149 -87.65841 casual     \n",
       "4 13235          41.90312  -87.67394 41.94815 -87.66394 member     \n",
       "5 20121          41.74149  -87.65841 41.74149 -87.65841 casual     \n",
       "6 15542          41.87147  -87.64095 41.87147 -87.64095 casual     \n",
       "  trip_duration          weekday \n",
       "1 1879s (~31.32 minutes) Monday  \n",
       "2 3858s (~1.07 hours)    Tuesday \n",
       "3 341859s (~3.96 days)   Saturday\n",
       "4 1506s (~25.1 minutes)  Saturday\n",
       "5 5477s (~1.52 hours)    Saturday\n",
       "6 41s                    Sunday  "
      ]
     },
     "metadata": {},
     "output_type": "display_data"
    }
   ],
   "source": [
    "with_week_day <- with_trip_duration %>% \n",
    "  mutate(weekday=weekdays(as.Date(with_trip_duration$start_time)))\n",
    "\n",
    "head(with_week_day)"
   ]
  },
  {
   "cell_type": "code",
   "execution_count": null,
   "id": "6a87de92",
   "metadata": {},
   "outputs": [],
   "source": []
  },
  {
   "cell_type": "markdown",
   "id": "382ac10a",
   "metadata": {},
   "source": [
    "checking for consistency in some of the variable names with unique()"
   ]
  },
  {
   "cell_type": "code",
   "execution_count": 19,
   "id": "cda1fda1",
   "metadata": {},
   "outputs": [
    {
     "data": {
      "text/html": [
       "<ol class=list-inline>\n",
       "\t<li>'member'</li>\n",
       "\t<li>'casual'</li>\n",
       "</ol>\n"
      ],
      "text/latex": [
       "\\begin{enumerate*}\n",
       "\\item 'member'\n",
       "\\item 'casual'\n",
       "\\end{enumerate*}\n"
      ],
      "text/markdown": [
       "1. 'member'\n",
       "2. 'casual'\n",
       "\n",
       "\n"
      ],
      "text/plain": [
       "[1] \"member\" \"casual\""
      ]
     },
     "metadata": {},
     "output_type": "display_data"
    },
    {
     "data": {
      "text/html": [
       "<ol class=list-inline>\n",
       "\t<li>'classic_bike'</li>\n",
       "\t<li>'docked_bike'</li>\n",
       "\t<li>'electric_bike'</li>\n",
       "</ol>\n"
      ],
      "text/latex": [
       "\\begin{enumerate*}\n",
       "\\item 'classic\\_bike'\n",
       "\\item 'docked\\_bike'\n",
       "\\item 'electric\\_bike'\n",
       "\\end{enumerate*}\n"
      ],
      "text/markdown": [
       "1. 'classic_bike'\n",
       "2. 'docked_bike'\n",
       "3. 'electric_bike'\n",
       "\n",
       "\n"
      ],
      "text/plain": [
       "[1] \"classic_bike\"  \"docked_bike\"   \"electric_bike\""
      ]
     },
     "metadata": {},
     "output_type": "display_data"
    }
   ],
   "source": [
    "unique(with_week_day$user_status)\n",
    "unique(with_week_day$bike_type)"
   ]
  },
  {
   "cell_type": "code",
   "execution_count": null,
   "id": "70b45b48",
   "metadata": {},
   "outputs": [],
   "source": []
  },
  {
   "cell_type": "markdown",
   "id": "4112b5c0",
   "metadata": {},
   "source": [
    "checking and removing null and na data for ease of data analysis"
   ]
  },
  {
   "cell_type": "code",
   "execution_count": 20,
   "id": "a0f4e9fa",
   "metadata": {},
   "outputs": [
    {
     "data": {
      "text/html": [
       "FALSE"
      ],
      "text/latex": [
       "FALSE"
      ],
      "text/markdown": [
       "FALSE"
      ],
      "text/plain": [
       "[1] FALSE"
      ]
     },
     "metadata": {},
     "output_type": "display_data"
    },
    {
     "data": {
      "text/html": [
       "<table>\n",
       "<thead><tr><th scope=col>ride_id</th><th scope=col>bike_type</th><th scope=col>start_time</th><th scope=col>end_time</th><th scope=col>start_station_name</th><th scope=col>start_station_id</th><th scope=col>end_station_name</th><th scope=col>end_station_id</th><th scope=col>start_lat</th><th scope=col>start_lng</th><th scope=col>end_lat</th><th scope=col>end_lng</th><th scope=col>user_status</th><th scope=col>trip_duration</th><th scope=col>weekday</th></tr></thead>\n",
       "<tbody>\n",
       "\t<tr><td>6C992BD37A98A63F                                                    </td><td>classic_bike                                                        </td><td>2021-04-12 18:25:36                                                 </td><td>2021-04-12 18:56:55                                                 </td><td><span style=white-space:pre-wrap>State St &amp; Pearson St   </span></td><td>TA1307000061                                                        </td><td>Southport Ave &amp; Waveland Ave                                    </td><td><span style=white-space:pre-wrap>13235       </span>                </td><td>41.89745                                                            </td><td>-87.62872                                                           </td><td>41.94815                                                            </td><td>-87.66394                                                           </td><td>member                                                              </td><td>1879s (~31.32 minutes)                                              </td><td><span style=white-space:pre-wrap>Monday  </span>                    </td></tr>\n",
       "\t<tr><td>1E0145613A209000                                                        </td><td>docked_bike                                                             </td><td>2021-04-27 17:27:11                                                     </td><td>2021-04-27 18:31:29                                                     </td><td>Dorchester Ave &amp; 49th St                                            </td><td>KA1503000069                                                            </td><td><span style=white-space:pre-wrap>Dorchester Ave &amp; 49th St    </span></td><td>KA1503000069                                                            </td><td>41.80577                                                                </td><td>-87.59246                                                               </td><td>41.80577                                                                </td><td>-87.59246                                                               </td><td>casual                                                                  </td><td>3858s (~1.07 hours)                                                     </td><td>Tuesday                                                                 </td></tr>\n",
       "\t<tr><td>E498E15508A80BAD                                                        </td><td>docked_bike                                                             </td><td>2021-04-03 12:42:45                                                     </td><td>2021-04-07 11:40:24                                                     </td><td><span style=white-space:pre-wrap>Loomis Blvd &amp; 84th St   </span>    </td><td><span style=white-space:pre-wrap>20121       </span>                    </td><td><span style=white-space:pre-wrap>Loomis Blvd &amp; 84th St       </span></td><td><span style=white-space:pre-wrap>20121       </span>                    </td><td>41.74149                                                                </td><td>-87.65841                                                               </td><td>41.74149                                                                </td><td>-87.65841                                                               </td><td>casual                                                                  </td><td>341859s (~3.96 days)                                                    </td><td>Saturday                                                                </td></tr>\n",
       "\t<tr><td>1887262AD101C604                                    </td><td>classic_bike                                        </td><td>2021-04-17 09:17:42                                 </td><td>2021-04-17 09:42:48                                 </td><td>Honore St &amp; Division St                         </td><td>TA1305000034                                        </td><td>Southport Ave &amp; Waveland Ave                    </td><td><span style=white-space:pre-wrap>13235       </span></td><td>41.90312                                            </td><td>-87.67394                                           </td><td>41.94815                                            </td><td>-87.66394                                           </td><td>member                                              </td><td>1506s (~25.1 minutes)                               </td><td>Saturday                                            </td></tr>\n",
       "\t<tr><td>C123548CAB2A32A5                                                        </td><td>docked_bike                                                             </td><td>2021-04-03 12:42:25                                                     </td><td>2021-04-03 14:13:42                                                     </td><td><span style=white-space:pre-wrap>Loomis Blvd &amp; 84th St   </span>    </td><td><span style=white-space:pre-wrap>20121       </span>                    </td><td><span style=white-space:pre-wrap>Loomis Blvd &amp; 84th St       </span></td><td><span style=white-space:pre-wrap>20121       </span>                    </td><td>41.74149                                                                </td><td>-87.65841                                                               </td><td>41.74149                                                                </td><td>-87.65841                                                               </td><td>casual                                                                  </td><td>5477s (~1.52 hours)                                                     </td><td>Saturday                                                                </td></tr>\n",
       "\t<tr><td>097E76F3651B1AC1                                                        </td><td>classic_bike                                                            </td><td>2021-04-25 18:43:18                                                     </td><td>2021-04-25 18:43:59                                                     </td><td><span style=white-space:pre-wrap>Clinton St &amp; Polk St    </span>    </td><td><span style=white-space:pre-wrap>15542       </span>                    </td><td><span style=white-space:pre-wrap>Clinton St &amp; Polk St        </span></td><td><span style=white-space:pre-wrap>15542       </span>                    </td><td>41.87147                                                                </td><td>-87.64095                                                               </td><td>41.87147                                                                </td><td>-87.64095                                                               </td><td>casual                                                                  </td><td>41s                                                                     </td><td><span style=white-space:pre-wrap>Sunday  </span>                        </td></tr>\n",
       "</tbody>\n",
       "</table>\n"
      ],
      "text/latex": [
       "\\begin{tabular}{r|lllllllllllllll}\n",
       " ride\\_id & bike\\_type & start\\_time & end\\_time & start\\_station\\_name & start\\_station\\_id & end\\_station\\_name & end\\_station\\_id & start\\_lat & start\\_lng & end\\_lat & end\\_lng & user\\_status & trip\\_duration & weekday\\\\\n",
       "\\hline\n",
       "\t 6C992BD37A98A63F                        & classic\\_bike                          & 2021-04-12 18:25:36                     & 2021-04-12 18:56:55                     & State St \\& Pearson St                 & TA1307000061                            & Southport Ave \\& Waveland Ave          & 13235                                   & 41.89745                                & -87.62872                               & 41.94815                                & -87.66394                               & member                                  & 1879s (\\textasciitilde{}31.32 minutes) & Monday                                 \\\\\n",
       "\t 1E0145613A209000                     & docked\\_bike                        & 2021-04-27 17:27:11                  & 2021-04-27 18:31:29                  & Dorchester Ave \\& 49th St           & KA1503000069                         & Dorchester Ave \\& 49th St           & KA1503000069                         & 41.80577                             & -87.59246                            & 41.80577                             & -87.59246                            & casual                               & 3858s (\\textasciitilde{}1.07 hours) & Tuesday                             \\\\\n",
       "\t E498E15508A80BAD                      & docked\\_bike                         & 2021-04-03 12:42:45                   & 2021-04-07 11:40:24                   & Loomis Blvd \\& 84th St               & 20121                                 & Loomis Blvd \\& 84th St               & 20121                                 & 41.74149                              & -87.65841                             & 41.74149                              & -87.65841                             & casual                                & 341859s (\\textasciitilde{}3.96 days) & Saturday                             \\\\\n",
       "\t 1887262AD101C604                       & classic\\_bike                         & 2021-04-17 09:17:42                    & 2021-04-17 09:42:48                    & Honore St \\& Division St              & TA1305000034                           & Southport Ave \\& Waveland Ave         & 13235                                  & 41.90312                               & -87.67394                              & 41.94815                               & -87.66394                              & member                                 & 1506s (\\textasciitilde{}25.1 minutes) & Saturday                              \\\\\n",
       "\t C123548CAB2A32A5                     & docked\\_bike                        & 2021-04-03 12:42:25                  & 2021-04-03 14:13:42                  & Loomis Blvd \\& 84th St              & 20121                                & Loomis Blvd \\& 84th St              & 20121                                & 41.74149                             & -87.65841                            & 41.74149                             & -87.65841                            & casual                               & 5477s (\\textasciitilde{}1.52 hours) & Saturday                            \\\\\n",
       "\t 097E76F3651B1AC1               & classic\\_bike                 & 2021-04-25 18:43:18            & 2021-04-25 18:43:59            & Clinton St \\& Polk St         & 15542                          & Clinton St \\& Polk St         & 15542                          & 41.87147                       & -87.64095                      & 41.87147                       & -87.64095                      & casual                         & 41s                            & Sunday                        \\\\\n",
       "\\end{tabular}\n"
      ],
      "text/markdown": [
       "\n",
       "| ride_id | bike_type | start_time | end_time | start_station_name | start_station_id | end_station_name | end_station_id | start_lat | start_lng | end_lat | end_lng | user_status | trip_duration | weekday |\n",
       "|---|---|---|---|---|---|---|---|---|---|---|---|---|---|---|\n",
       "| 6C992BD37A98A63F             | classic_bike                 | 2021-04-12 18:25:36          | 2021-04-12 18:56:55          | State St & Pearson St        | TA1307000061                 | Southport Ave & Waveland Ave | 13235                        | 41.89745                     | -87.62872                    | 41.94815                     | -87.66394                    | member                       | 1879s (~31.32 minutes)       | Monday                       |\n",
       "| 1E0145613A209000             | docked_bike                  | 2021-04-27 17:27:11          | 2021-04-27 18:31:29          | Dorchester Ave & 49th St     | KA1503000069                 | Dorchester Ave & 49th St     | KA1503000069                 | 41.80577                     | -87.59246                    | 41.80577                     | -87.59246                    | casual                       | 3858s (~1.07 hours)          | Tuesday                      |\n",
       "| E498E15508A80BAD             | docked_bike                  | 2021-04-03 12:42:45          | 2021-04-07 11:40:24          | Loomis Blvd & 84th St        | 20121                        | Loomis Blvd & 84th St        | 20121                        | 41.74149                     | -87.65841                    | 41.74149                     | -87.65841                    | casual                       | 341859s (~3.96 days)         | Saturday                     |\n",
       "| 1887262AD101C604             | classic_bike                 | 2021-04-17 09:17:42          | 2021-04-17 09:42:48          | Honore St & Division St      | TA1305000034                 | Southport Ave & Waveland Ave | 13235                        | 41.90312                     | -87.67394                    | 41.94815                     | -87.66394                    | member                       | 1506s (~25.1 minutes)        | Saturday                     |\n",
       "| C123548CAB2A32A5             | docked_bike                  | 2021-04-03 12:42:25          | 2021-04-03 14:13:42          | Loomis Blvd & 84th St        | 20121                        | Loomis Blvd & 84th St        | 20121                        | 41.74149                     | -87.65841                    | 41.74149                     | -87.65841                    | casual                       | 5477s (~1.52 hours)          | Saturday                     |\n",
       "| 097E76F3651B1AC1             | classic_bike                 | 2021-04-25 18:43:18          | 2021-04-25 18:43:59          | Clinton St & Polk St         | 15542                        | Clinton St & Polk St         | 15542                        | 41.87147                     | -87.64095                    | 41.87147                     | -87.64095                    | casual                       | 41s                          | Sunday                       |\n",
       "\n"
      ],
      "text/plain": [
       "  ride_id          bike_type    start_time          end_time           \n",
       "1 6C992BD37A98A63F classic_bike 2021-04-12 18:25:36 2021-04-12 18:56:55\n",
       "2 1E0145613A209000 docked_bike  2021-04-27 17:27:11 2021-04-27 18:31:29\n",
       "3 E498E15508A80BAD docked_bike  2021-04-03 12:42:45 2021-04-07 11:40:24\n",
       "4 1887262AD101C604 classic_bike 2021-04-17 09:17:42 2021-04-17 09:42:48\n",
       "5 C123548CAB2A32A5 docked_bike  2021-04-03 12:42:25 2021-04-03 14:13:42\n",
       "6 097E76F3651B1AC1 classic_bike 2021-04-25 18:43:18 2021-04-25 18:43:59\n",
       "  start_station_name       start_station_id end_station_name            \n",
       "1 State St & Pearson St    TA1307000061     Southport Ave & Waveland Ave\n",
       "2 Dorchester Ave & 49th St KA1503000069     Dorchester Ave & 49th St    \n",
       "3 Loomis Blvd & 84th St    20121            Loomis Blvd & 84th St       \n",
       "4 Honore St & Division St  TA1305000034     Southport Ave & Waveland Ave\n",
       "5 Loomis Blvd & 84th St    20121            Loomis Blvd & 84th St       \n",
       "6 Clinton St & Polk St     15542            Clinton St & Polk St        \n",
       "  end_station_id start_lat start_lng end_lat  end_lng   user_status\n",
       "1 13235          41.89745  -87.62872 41.94815 -87.66394 member     \n",
       "2 KA1503000069   41.80577  -87.59246 41.80577 -87.59246 casual     \n",
       "3 20121          41.74149  -87.65841 41.74149 -87.65841 casual     \n",
       "4 13235          41.90312  -87.67394 41.94815 -87.66394 member     \n",
       "5 20121          41.74149  -87.65841 41.74149 -87.65841 casual     \n",
       "6 15542          41.87147  -87.64095 41.87147 -87.64095 casual     \n",
       "  trip_duration          weekday \n",
       "1 1879s (~31.32 minutes) Monday  \n",
       "2 3858s (~1.07 hours)    Tuesday \n",
       "3 341859s (~3.96 days)   Saturday\n",
       "4 1506s (~25.1 minutes)  Saturday\n",
       "5 5477s (~1.52 hours)    Saturday\n",
       "6 41s                    Sunday  "
      ]
     },
     "metadata": {},
     "output_type": "display_data"
    }
   ],
   "source": [
    "is.null(with_week_day)\n",
    "cleaned_trip <-na.omit(with_week_day) \n",
    "head(cleaned_trip)"
   ]
  },
  {
   "cell_type": "code",
   "execution_count": 22,
   "id": "ff84c6ff",
   "metadata": {},
   "outputs": [
    {
     "data": {
      "text/html": [
       "<ol class=list-inline>\n",
       "\t<li>4167399</li>\n",
       "\t<li>15</li>\n",
       "</ol>\n"
      ],
      "text/latex": [
       "\\begin{enumerate*}\n",
       "\\item 4167399\n",
       "\\item 15\n",
       "\\end{enumerate*}\n"
      ],
      "text/markdown": [
       "1. 4167399\n",
       "2. 15\n",
       "\n",
       "\n"
      ],
      "text/plain": [
       "[1] 4167399      15"
      ]
     },
     "metadata": {},
     "output_type": "display_data"
    }
   ],
   "source": [
    "dim(cleaned_trip)"
   ]
  },
  {
   "cell_type": "markdown",
   "id": "d5e3f022",
   "metadata": {},
   "source": [
    "the na.omit function removed about 600,000 values which i am assuming are negligible\n",
    "\n",
    "### Analyze and Share Phases.\n",
    "\n",
    "l will first determine the count of the two user_types"
   ]
  },
  {
   "cell_type": "code",
   "execution_count": 23,
   "id": "35ca49ed",
   "metadata": {},
   "outputs": [
    {
     "data": {
      "text/plain": [
       "\n",
       " casual  member \n",
       "1828502 2338897 "
      ]
     },
     "metadata": {},
     "output_type": "display_data"
    },
    {
     "data": {
      "image/png": "[encoded data removed]",
      "text/plain": [
       "plot without title"
      ]
     },
     "metadata": {},
     "output_type": "display_data"
    },
    {
     "data": {
      "image/png": "[encoded data removed]",
      "text/plain": [
       "plot without title"
      ]
     },
     "metadata": {},
     "output_type": "display_data"
    }
   ],
   "source": [
    "user_count <-table(cleaned_trip$user_status)\n",
    "user_count\n",
    "plot(user_count)\n",
    "pie(user_count)"
   ]
  },
  {
   "cell_type": "markdown",
   "id": "4abd39da",
   "metadata": {},
   "source": [
    "From the above analysis, it shows that we have more registered users than casual\n",
    "users. 1828502 for casual users and 2338897 for registered users.  \n",
    "\n",
    "Now, lets determine the average duration of each of the categories of riders"
   ]
  },
  {
   "cell_type": "code",
   "execution_count": 24,
   "id": "b1750654",
   "metadata": {},
   "outputs": [
    {
     "data": {
      "text/html": [
       "<table>\n",
       "<thead><tr><th scope=col>user_status</th><th scope=col>avg</th></tr></thead>\n",
       "<tbody>\n",
       "\t<tr><td>casual  </td><td>36.64596</td></tr>\n",
       "\t<tr><td>member  </td><td>11.18397</td></tr>\n",
       "</tbody>\n",
       "</table>\n"
      ],
      "text/latex": [
       "\\begin{tabular}{r|ll}\n",
       " user\\_status & avg\\\\\n",
       "\\hline\n",
       "\t casual   & 36.64596\\\\\n",
       "\t member   & 11.18397\\\\\n",
       "\\end{tabular}\n"
      ],
      "text/markdown": [
       "\n",
       "| user_status | avg |\n",
       "|---|---|\n",
       "| casual   | 36.64596 |\n",
       "| member   | 11.18397 |\n",
       "\n"
      ],
      "text/plain": [
       "  user_status avg     \n",
       "1 casual      36.64596\n",
       "2 member      11.18397"
      ]
     },
     "metadata": {},
     "output_type": "display_data"
    }
   ],
   "source": [
    "avg_trip_duration <- cleaned_trip %>% \n",
    "  group_by(user_status) %>% \n",
    "  summarize(avg = mean(trip_duration)/60)\n",
    "\n",
    "avg_trip_duration "
   ]
  },
  {
   "cell_type": "markdown",
   "id": "ede8a958",
   "metadata": {},
   "source": [
    "From the above analysis, it is evident that the casual riders tend to ride\n",
    "longer at an average of of 36.6 minutes/ride than the member/registered riders who ride for an average of 11.2 minutes/ride.  \n",
    "\n",
    "\n",
    "Next, i will determine when majority of the riders prefer to ride by extracting\n",
    "the aggregate count of days for each of the user_status"
   ]
  },
  {
   "cell_type": "code",
   "execution_count": 25,
   "id": "f8601f1e",
   "metadata": {},
   "outputs": [
    {
     "data": {
      "text/html": [
       "<table>\n",
       "<thead><tr><th scope=col>weekday</th><th scope=col>user_status</th><th scope=col>number</th></tr></thead>\n",
       "<tbody>\n",
       "\t<tr><td>Friday   </td><td>casual   </td><td>260362   </td></tr>\n",
       "\t<tr><td>Friday   </td><td>member   </td><td>344595   </td></tr>\n",
       "\t<tr><td>Monday   </td><td>casual   </td><td>198486   </td></tr>\n",
       "\t<tr><td>Monday   </td><td>member   </td><td>311776   </td></tr>\n",
       "\t<tr><td>Saturday </td><td>casual   </td><td>434633   </td></tr>\n",
       "\t<tr><td>Saturday </td><td>member   </td><td>352335   </td></tr>\n",
       "\t<tr><td>Sunday   </td><td>casual   </td><td>349935   </td></tr>\n",
       "\t<tr><td>Sunday   </td><td>member   </td><td>294362   </td></tr>\n",
       "\t<tr><td>Thursday </td><td>casual   </td><td>197296   </td></tr>\n",
       "\t<tr><td>Thursday </td><td>member   </td><td>338472   </td></tr>\n",
       "\t<tr><td>Tuesday  </td><td>casual   </td><td>190303   </td></tr>\n",
       "\t<tr><td>Tuesday  </td><td>member   </td><td>339835   </td></tr>\n",
       "\t<tr><td>Wednesday</td><td>casual   </td><td>197487   </td></tr>\n",
       "\t<tr><td>Wednesday</td><td>member   </td><td>357522   </td></tr>\n",
       "</tbody>\n",
       "</table>\n"
      ],
      "text/latex": [
       "\\begin{tabular}{r|lll}\n",
       " weekday & user\\_status & number\\\\\n",
       "\\hline\n",
       "\t Friday    & casual    & 260362   \\\\\n",
       "\t Friday    & member    & 344595   \\\\\n",
       "\t Monday    & casual    & 198486   \\\\\n",
       "\t Monday    & member    & 311776   \\\\\n",
       "\t Saturday  & casual    & 434633   \\\\\n",
       "\t Saturday  & member    & 352335   \\\\\n",
       "\t Sunday    & casual    & 349935   \\\\\n",
       "\t Sunday    & member    & 294362   \\\\\n",
       "\t Thursday  & casual    & 197296   \\\\\n",
       "\t Thursday  & member    & 338472   \\\\\n",
       "\t Tuesday   & casual    & 190303   \\\\\n",
       "\t Tuesday   & member    & 339835   \\\\\n",
       "\t Wednesday & casual    & 197487   \\\\\n",
       "\t Wednesday & member    & 357522   \\\\\n",
       "\\end{tabular}\n"
      ],
      "text/markdown": [
       "\n",
       "| weekday | user_status | number |\n",
       "|---|---|---|\n",
       "| Friday    | casual    | 260362    |\n",
       "| Friday    | member    | 344595    |\n",
       "| Monday    | casual    | 198486    |\n",
       "| Monday    | member    | 311776    |\n",
       "| Saturday  | casual    | 434633    |\n",
       "| Saturday  | member    | 352335    |\n",
       "| Sunday    | casual    | 349935    |\n",
       "| Sunday    | member    | 294362    |\n",
       "| Thursday  | casual    | 197296    |\n",
       "| Thursday  | member    | 338472    |\n",
       "| Tuesday   | casual    | 190303    |\n",
       "| Tuesday   | member    | 339835    |\n",
       "| Wednesday | casual    | 197487    |\n",
       "| Wednesday | member    | 357522    |\n",
       "\n"
      ],
      "text/plain": [
       "   weekday   user_status number\n",
       "1  Friday    casual      260362\n",
       "2  Friday    member      344595\n",
       "3  Monday    casual      198486\n",
       "4  Monday    member      311776\n",
       "5  Saturday  casual      434633\n",
       "6  Saturday  member      352335\n",
       "7  Sunday    casual      349935\n",
       "8  Sunday    member      294362\n",
       "9  Thursday  casual      197296\n",
       "10 Thursday  member      338472\n",
       "11 Tuesday   casual      190303\n",
       "12 Tuesday   member      339835\n",
       "13 Wednesday casual      197487\n",
       "14 Wednesday member      357522"
      ]
     },
     "metadata": {},
     "output_type": "display_data"
    }
   ],
   "source": [
    "day_of_ride<- cleaned_trip %>% \n",
    "  group_by(weekday, user_status) %>% \n",
    "  select(user_status, weekday) %>% \n",
    "  summarize(number = table(weekday))\n",
    "\n",
    "day_of_ride"
   ]
  },
  {
   "cell_type": "markdown",
   "id": "9367b785",
   "metadata": {},
   "source": [
    "in order to extract the casual user with their corresponding weekday and number, i exported the outcome above to SQL.  I obtained the desired result by performing the command below;\n",
    "\n",
    "SELECT * FROM day_of_ride WHERE user_status= \"member\"\n",
    "\n",
    "SELECT * FROM day_of_ride WHERE user_status= \"casual\"\n",
    "\n",
    "\n",
    "\n",
    "Then i imported the query result into Rstudio for futher analysis."
   ]
  },
  {
   "cell_type": "code",
   "execution_count": 26,
   "id": "3d654b39",
   "metadata": {},
   "outputs": [],
   "source": [
    "casual_ride <- read.csv(\"C:\\\\Users\\\\EDEH EMEKA NWEKE\\\\Desktop\\\\casual_ride_data.csv\")\n",
    "member_ride <-read.csv(\"C:\\\\Users\\\\EDEH EMEKA NWEKE\\\\Desktop\\\\member_ride_data.csv\")"
   ]
  },
  {
   "cell_type": "code",
   "execution_count": 27,
   "id": "9447e3ae",
   "metadata": {},
   "outputs": [
    {
     "data": {
      "text/html": [
       "<table>\n",
       "<thead><tr><th scope=col>weekday</th><th scope=col>user_status</th><th scope=col>number</th></tr></thead>\n",
       "<tbody>\n",
       "\t<tr><td>Friday   </td><td>casual   </td><td>260362   </td></tr>\n",
       "\t<tr><td>Monday   </td><td>casual   </td><td>198486   </td></tr>\n",
       "\t<tr><td>Saturday </td><td>casual   </td><td>434633   </td></tr>\n",
       "\t<tr><td>Sunday   </td><td>casual   </td><td>349935   </td></tr>\n",
       "\t<tr><td>Thursday </td><td>casual   </td><td>197296   </td></tr>\n",
       "\t<tr><td>Tuesday  </td><td>casual   </td><td>190303   </td></tr>\n",
       "\t<tr><td>Wednesday</td><td>casual   </td><td>197487   </td></tr>\n",
       "</tbody>\n",
       "</table>\n"
      ],
      "text/latex": [
       "\\begin{tabular}{r|lll}\n",
       " weekday & user\\_status & number\\\\\n",
       "\\hline\n",
       "\t Friday    & casual    & 260362   \\\\\n",
       "\t Monday    & casual    & 198486   \\\\\n",
       "\t Saturday  & casual    & 434633   \\\\\n",
       "\t Sunday    & casual    & 349935   \\\\\n",
       "\t Thursday  & casual    & 197296   \\\\\n",
       "\t Tuesday   & casual    & 190303   \\\\\n",
       "\t Wednesday & casual    & 197487   \\\\\n",
       "\\end{tabular}\n"
      ],
      "text/markdown": [
       "\n",
       "| weekday | user_status | number |\n",
       "|---|---|---|\n",
       "| Friday    | casual    | 260362    |\n",
       "| Monday    | casual    | 198486    |\n",
       "| Saturday  | casual    | 434633    |\n",
       "| Sunday    | casual    | 349935    |\n",
       "| Thursday  | casual    | 197296    |\n",
       "| Tuesday   | casual    | 190303    |\n",
       "| Wednesday | casual    | 197487    |\n",
       "\n"
      ],
      "text/plain": [
       "  weekday   user_status number\n",
       "1 Friday    casual      260362\n",
       "2 Monday    casual      198486\n",
       "3 Saturday  casual      434633\n",
       "4 Sunday    casual      349935\n",
       "5 Thursday  casual      197296\n",
       "6 Tuesday   casual      190303\n",
       "7 Wednesday casual      197487"
      ]
     },
     "metadata": {},
     "output_type": "display_data"
    }
   ],
   "source": [
    "casual_ride"
   ]
  },
  {
   "cell_type": "code",
   "execution_count": 28,
   "id": "1c492058",
   "metadata": {},
   "outputs": [
    {
     "data": {
      "text/html": [
       "<table>\n",
       "<thead><tr><th scope=col>weekday</th><th scope=col>user_status</th><th scope=col>number</th></tr></thead>\n",
       "<tbody>\n",
       "\t<tr><td>Friday   </td><td>member   </td><td>344595   </td></tr>\n",
       "\t<tr><td>Monday   </td><td>member   </td><td>311776   </td></tr>\n",
       "\t<tr><td>Saturday </td><td>member   </td><td>352335   </td></tr>\n",
       "\t<tr><td>Sunday   </td><td>member   </td><td>294362   </td></tr>\n",
       "\t<tr><td>Thursday </td><td>member   </td><td>338472   </td></tr>\n",
       "\t<tr><td>Tuesday  </td><td>member   </td><td>339835   </td></tr>\n",
       "\t<tr><td>Wednesday</td><td>member   </td><td>357522   </td></tr>\n",
       "</tbody>\n",
       "</table>\n"
      ],
      "text/latex": [
       "\\begin{tabular}{r|lll}\n",
       " weekday & user\\_status & number\\\\\n",
       "\\hline\n",
       "\t Friday    & member    & 344595   \\\\\n",
       "\t Monday    & member    & 311776   \\\\\n",
       "\t Saturday  & member    & 352335   \\\\\n",
       "\t Sunday    & member    & 294362   \\\\\n",
       "\t Thursday  & member    & 338472   \\\\\n",
       "\t Tuesday   & member    & 339835   \\\\\n",
       "\t Wednesday & member    & 357522   \\\\\n",
       "\\end{tabular}\n"
      ],
      "text/markdown": [
       "\n",
       "| weekday | user_status | number |\n",
       "|---|---|---|\n",
       "| Friday    | member    | 344595    |\n",
       "| Monday    | member    | 311776    |\n",
       "| Saturday  | member    | 352335    |\n",
       "| Sunday    | member    | 294362    |\n",
       "| Thursday  | member    | 338472    |\n",
       "| Tuesday   | member    | 339835    |\n",
       "| Wednesday | member    | 357522    |\n",
       "\n"
      ],
      "text/plain": [
       "  weekday   user_status number\n",
       "1 Friday    member      344595\n",
       "2 Monday    member      311776\n",
       "3 Saturday  member      352335\n",
       "4 Sunday    member      294362\n",
       "5 Thursday  member      338472\n",
       "6 Tuesday   member      339835\n",
       "7 Wednesday member      357522"
      ]
     },
     "metadata": {},
     "output_type": "display_data"
    }
   ],
   "source": [
    "member_ride"
   ]
  },
  {
   "cell_type": "markdown",
   "id": "155de678",
   "metadata": {},
   "source": [
    "Then i sorted the above outcome in a descending order for clearer picture."
   ]
  },
  {
   "cell_type": "code",
   "execution_count": 29,
   "id": "9119bc03",
   "metadata": {},
   "outputs": [
    {
     "data": {
      "text/html": [
       "<table>\n",
       "<thead><tr><th scope=col>weekday</th><th scope=col>user_status</th><th scope=col>number</th></tr></thead>\n",
       "<tbody>\n",
       "\t<tr><td>Tuesday  </td><td>casual   </td><td>190303   </td></tr>\n",
       "\t<tr><td>Thursday </td><td>casual   </td><td>197296   </td></tr>\n",
       "\t<tr><td>Wednesday</td><td>casual   </td><td>197487   </td></tr>\n",
       "\t<tr><td>Monday   </td><td>casual   </td><td>198486   </td></tr>\n",
       "\t<tr><td>Friday   </td><td>casual   </td><td>260362   </td></tr>\n",
       "\t<tr><td>Sunday   </td><td>casual   </td><td>349935   </td></tr>\n",
       "\t<tr><td>Saturday </td><td>casual   </td><td>434633   </td></tr>\n",
       "</tbody>\n",
       "</table>\n"
      ],
      "text/latex": [
       "\\begin{tabular}{r|lll}\n",
       " weekday & user\\_status & number\\\\\n",
       "\\hline\n",
       "\t Tuesday   & casual    & 190303   \\\\\n",
       "\t Thursday  & casual    & 197296   \\\\\n",
       "\t Wednesday & casual    & 197487   \\\\\n",
       "\t Monday    & casual    & 198486   \\\\\n",
       "\t Friday    & casual    & 260362   \\\\\n",
       "\t Sunday    & casual    & 349935   \\\\\n",
       "\t Saturday  & casual    & 434633   \\\\\n",
       "\\end{tabular}\n"
      ],
      "text/markdown": [
       "\n",
       "| weekday | user_status | number |\n",
       "|---|---|---|\n",
       "| Tuesday   | casual    | 190303    |\n",
       "| Thursday  | casual    | 197296    |\n",
       "| Wednesday | casual    | 197487    |\n",
       "| Monday    | casual    | 198486    |\n",
       "| Friday    | casual    | 260362    |\n",
       "| Sunday    | casual    | 349935    |\n",
       "| Saturday  | casual    | 434633    |\n",
       "\n"
      ],
      "text/plain": [
       "  weekday   user_status number\n",
       "1 Tuesday   casual      190303\n",
       "2 Thursday  casual      197296\n",
       "3 Wednesday casual      197487\n",
       "4 Monday    casual      198486\n",
       "5 Friday    casual      260362\n",
       "6 Sunday    casual      349935\n",
       "7 Saturday  casual      434633"
      ]
     },
     "metadata": {},
     "output_type": "display_data"
    }
   ],
   "source": [
    "sort_casual_ride <- casual_ride %>% \n",
    "  arrange(number)\n",
    "\n",
    "sort_casual_ride"
   ]
  },
  {
   "cell_type": "code",
   "execution_count": 30,
   "id": "4ee2b01d",
   "metadata": {},
   "outputs": [],
   "source": [
    "library('ggplot2')"
   ]
  },
  {
   "cell_type": "code",
   "execution_count": 31,
   "id": "71ff91a0",
   "metadata": {},
   "outputs": [
    {
     "data": {
      "image/png": "[encoded data removed]",
      "text/plain": [
       "plot without title"
      ]
     },
     "metadata": {},
     "output_type": "display_data"
    }
   ],
   "source": [
    "ggplot(sort_casual_ride, aes(x=weekday, y=number, color =weekday, fill= weekday)) + \n",
    "  labs(title = 'Number of Casual Riders vs Days of the week', \n",
    "       caption = 'Data analyzed by Edeh Emeka')+ \n",
    "  geom_bar(stat = \"identity\")+\n",
    "  theme(legend.position=\"none\")\n"
   ]
  },
  {
   "cell_type": "code",
   "execution_count": 32,
   "id": "1902956f",
   "metadata": {},
   "outputs": [
    {
     "data": {
      "text/html": [
       "<table>\n",
       "<thead><tr><th scope=col>weekday</th><th scope=col>user_status</th><th scope=col>number</th></tr></thead>\n",
       "<tbody>\n",
       "\t<tr><td>Sunday   </td><td>member   </td><td>294362   </td></tr>\n",
       "\t<tr><td>Monday   </td><td>member   </td><td>311776   </td></tr>\n",
       "\t<tr><td>Thursday </td><td>member   </td><td>338472   </td></tr>\n",
       "\t<tr><td>Tuesday  </td><td>member   </td><td>339835   </td></tr>\n",
       "\t<tr><td>Friday   </td><td>member   </td><td>344595   </td></tr>\n",
       "\t<tr><td>Saturday </td><td>member   </td><td>352335   </td></tr>\n",
       "\t<tr><td>Wednesday</td><td>member   </td><td>357522   </td></tr>\n",
       "</tbody>\n",
       "</table>\n"
      ],
      "text/latex": [
       "\\begin{tabular}{r|lll}\n",
       " weekday & user\\_status & number\\\\\n",
       "\\hline\n",
       "\t Sunday    & member    & 294362   \\\\\n",
       "\t Monday    & member    & 311776   \\\\\n",
       "\t Thursday  & member    & 338472   \\\\\n",
       "\t Tuesday   & member    & 339835   \\\\\n",
       "\t Friday    & member    & 344595   \\\\\n",
       "\t Saturday  & member    & 352335   \\\\\n",
       "\t Wednesday & member    & 357522   \\\\\n",
       "\\end{tabular}\n"
      ],
      "text/markdown": [
       "\n",
       "| weekday | user_status | number |\n",
       "|---|---|---|\n",
       "| Sunday    | member    | 294362    |\n",
       "| Monday    | member    | 311776    |\n",
       "| Thursday  | member    | 338472    |\n",
       "| Tuesday   | member    | 339835    |\n",
       "| Friday    | member    | 344595    |\n",
       "| Saturday  | member    | 352335    |\n",
       "| Wednesday | member    | 357522    |\n",
       "\n"
      ],
      "text/plain": [
       "  weekday   user_status number\n",
       "1 Sunday    member      294362\n",
       "2 Monday    member      311776\n",
       "3 Thursday  member      338472\n",
       "4 Tuesday   member      339835\n",
       "5 Friday    member      344595\n",
       "6 Saturday  member      352335\n",
       "7 Wednesday member      357522"
      ]
     },
     "metadata": {},
     "output_type": "display_data"
    }
   ],
   "source": [
    "sort_member_ride <- member_ride %>% \n",
    "  arrange(number)\n",
    "\n",
    "sort_member_ride"
   ]
  },
  {
   "cell_type": "code",
   "execution_count": 33,
   "id": "6acaf8a1",
   "metadata": {},
   "outputs": [
    {
     "data": {
      "image/png": "[encoded data removed]",
      "text/plain": [
       "plot without title"
      ]
     },
     "metadata": {},
     "output_type": "display_data"
    }
   ],
   "source": [
    "ggplot(sort_member_ride, aes(x=weekday, y=number, color =weekday, fill = weekday)) + \n",
    "  labs(title = 'Number of member Riders vs Days of the week', \n",
    "       caption = 'Data analyzed by Edeh Emeka')+ \n",
    "  geom_bar(stat = \"identity\")+\n",
    "  theme(legend.position=\"none\")"
   ]
  },
  {
   "cell_type": "markdown",
   "id": "e96e288a",
   "metadata": {},
   "source": [
    "From the above graph, it is evident that majority of the casual riders, close to 60%, prefer riding over the weekend, Fridays, Saturdays and Sundays as against the member/registered riders that are almost evenly distributed across the weeks.\n",
    "about 60% of casual trips take place over the weekend.  \n",
    "\n",
    "In trying to extract the months of these rides, i ran the following codes,\n",
    "exported the outcome to SQL in order to aggregate the user counts with their\n",
    "respective months."
   ]
  },
  {
   "cell_type": "code",
   "execution_count": 35,
   "id": "361c43ac",
   "metadata": {},
   "outputs": [
    {
     "data": {
      "text/html": [
       "<table>\n",
       "<thead><tr><th scope=col>ride_id</th><th scope=col>bike_type</th><th scope=col>start_time</th><th scope=col>end_time</th><th scope=col>start_station_name</th><th scope=col>start_station_id</th><th scope=col>end_station_name</th><th scope=col>end_station_id</th><th scope=col>start_lat</th><th scope=col>start_lng</th><th scope=col>end_lat</th><th scope=col>end_lng</th><th scope=col>user_status</th><th scope=col>trip_duration</th><th scope=col>weekday</th><th scope=col>month</th></tr></thead>\n",
       "<tbody>\n",
       "\t<tr><td>6C992BD37A98A63F                                                    </td><td>classic_bike                                                        </td><td>2021-04-12 18:25:36                                                 </td><td>2021-04-12 18:56:55                                                 </td><td><span style=white-space:pre-wrap>State St &amp; Pearson St   </span></td><td>TA1307000061                                                        </td><td>Southport Ave &amp; Waveland Ave                                    </td><td><span style=white-space:pre-wrap>13235       </span>                </td><td>41.89745                                                            </td><td>-87.62872                                                           </td><td>41.94815                                                            </td><td>-87.66394                                                           </td><td>member                                                              </td><td>1879s (~31.32 minutes)                                              </td><td><span style=white-space:pre-wrap>Monday  </span>                    </td><td>04                                                                  </td></tr>\n",
       "\t<tr><td>1E0145613A209000                                                        </td><td>docked_bike                                                             </td><td>2021-04-27 17:27:11                                                     </td><td>2021-04-27 18:31:29                                                     </td><td>Dorchester Ave &amp; 49th St                                            </td><td>KA1503000069                                                            </td><td><span style=white-space:pre-wrap>Dorchester Ave &amp; 49th St    </span></td><td>KA1503000069                                                            </td><td>41.80577                                                                </td><td>-87.59246                                                               </td><td>41.80577                                                                </td><td>-87.59246                                                               </td><td>casual                                                                  </td><td>3858s (~1.07 hours)                                                     </td><td>Tuesday                                                                 </td><td>04                                                                      </td></tr>\n",
       "\t<tr><td>E498E15508A80BAD                                                        </td><td>docked_bike                                                             </td><td>2021-04-03 12:42:45                                                     </td><td>2021-04-07 11:40:24                                                     </td><td><span style=white-space:pre-wrap>Loomis Blvd &amp; 84th St   </span>    </td><td><span style=white-space:pre-wrap>20121       </span>                    </td><td><span style=white-space:pre-wrap>Loomis Blvd &amp; 84th St       </span></td><td><span style=white-space:pre-wrap>20121       </span>                    </td><td>41.74149                                                                </td><td>-87.65841                                                               </td><td>41.74149                                                                </td><td>-87.65841                                                               </td><td>casual                                                                  </td><td>341859s (~3.96 days)                                                    </td><td>Saturday                                                                </td><td>04                                                                      </td></tr>\n",
       "\t<tr><td>1887262AD101C604                                    </td><td>classic_bike                                        </td><td>2021-04-17 09:17:42                                 </td><td>2021-04-17 09:42:48                                 </td><td>Honore St &amp; Division St                         </td><td>TA1305000034                                        </td><td>Southport Ave &amp; Waveland Ave                    </td><td><span style=white-space:pre-wrap>13235       </span></td><td>41.90312                                            </td><td>-87.67394                                           </td><td>41.94815                                            </td><td>-87.66394                                           </td><td>member                                              </td><td>1506s (~25.1 minutes)                               </td><td>Saturday                                            </td><td>04                                                  </td></tr>\n",
       "\t<tr><td>C123548CAB2A32A5                                                        </td><td>docked_bike                                                             </td><td>2021-04-03 12:42:25                                                     </td><td>2021-04-03 14:13:42                                                     </td><td><span style=white-space:pre-wrap>Loomis Blvd &amp; 84th St   </span>    </td><td><span style=white-space:pre-wrap>20121       </span>                    </td><td><span style=white-space:pre-wrap>Loomis Blvd &amp; 84th St       </span></td><td><span style=white-space:pre-wrap>20121       </span>                    </td><td>41.74149                                                                </td><td>-87.65841                                                               </td><td>41.74149                                                                </td><td>-87.65841                                                               </td><td>casual                                                                  </td><td>5477s (~1.52 hours)                                                     </td><td>Saturday                                                                </td><td>04                                                                      </td></tr>\n",
       "\t<tr><td>097E76F3651B1AC1                                                        </td><td>classic_bike                                                            </td><td>2021-04-25 18:43:18                                                     </td><td>2021-04-25 18:43:59                                                     </td><td><span style=white-space:pre-wrap>Clinton St &amp; Polk St    </span>    </td><td><span style=white-space:pre-wrap>15542       </span>                    </td><td><span style=white-space:pre-wrap>Clinton St &amp; Polk St        </span></td><td><span style=white-space:pre-wrap>15542       </span>                    </td><td>41.87147                                                                </td><td>-87.64095                                                               </td><td>41.87147                                                                </td><td>-87.64095                                                               </td><td>casual                                                                  </td><td>41s                                                                     </td><td><span style=white-space:pre-wrap>Sunday  </span>                        </td><td>04                                                                      </td></tr>\n",
       "</tbody>\n",
       "</table>\n"
      ],
      "text/latex": [
       "\\begin{tabular}{r|llllllllllllllll}\n",
       " ride\\_id & bike\\_type & start\\_time & end\\_time & start\\_station\\_name & start\\_station\\_id & end\\_station\\_name & end\\_station\\_id & start\\_lat & start\\_lng & end\\_lat & end\\_lng & user\\_status & trip\\_duration & weekday & month\\\\\n",
       "\\hline\n",
       "\t 6C992BD37A98A63F                        & classic\\_bike                          & 2021-04-12 18:25:36                     & 2021-04-12 18:56:55                     & State St \\& Pearson St                 & TA1307000061                            & Southport Ave \\& Waveland Ave          & 13235                                   & 41.89745                                & -87.62872                               & 41.94815                                & -87.66394                               & member                                  & 1879s (\\textasciitilde{}31.32 minutes) & Monday                                  & 04                                     \\\\\n",
       "\t 1E0145613A209000                     & docked\\_bike                        & 2021-04-27 17:27:11                  & 2021-04-27 18:31:29                  & Dorchester Ave \\& 49th St           & KA1503000069                         & Dorchester Ave \\& 49th St           & KA1503000069                         & 41.80577                             & -87.59246                            & 41.80577                             & -87.59246                            & casual                               & 3858s (\\textasciitilde{}1.07 hours) & Tuesday                              & 04                                  \\\\\n",
       "\t E498E15508A80BAD                      & docked\\_bike                         & 2021-04-03 12:42:45                   & 2021-04-07 11:40:24                   & Loomis Blvd \\& 84th St               & 20121                                 & Loomis Blvd \\& 84th St               & 20121                                 & 41.74149                              & -87.65841                             & 41.74149                              & -87.65841                             & casual                                & 341859s (\\textasciitilde{}3.96 days) & Saturday                              & 04                                   \\\\\n",
       "\t 1887262AD101C604                       & classic\\_bike                         & 2021-04-17 09:17:42                    & 2021-04-17 09:42:48                    & Honore St \\& Division St              & TA1305000034                           & Southport Ave \\& Waveland Ave         & 13235                                  & 41.90312                               & -87.67394                              & 41.94815                               & -87.66394                              & member                                 & 1506s (\\textasciitilde{}25.1 minutes) & Saturday                               & 04                                    \\\\\n",
       "\t C123548CAB2A32A5                     & docked\\_bike                        & 2021-04-03 12:42:25                  & 2021-04-03 14:13:42                  & Loomis Blvd \\& 84th St              & 20121                                & Loomis Blvd \\& 84th St              & 20121                                & 41.74149                             & -87.65841                            & 41.74149                             & -87.65841                            & casual                               & 5477s (\\textasciitilde{}1.52 hours) & Saturday                             & 04                                  \\\\\n",
       "\t 097E76F3651B1AC1               & classic\\_bike                 & 2021-04-25 18:43:18            & 2021-04-25 18:43:59            & Clinton St \\& Polk St         & 15542                          & Clinton St \\& Polk St         & 15542                          & 41.87147                       & -87.64095                      & 41.87147                       & -87.64095                      & casual                         & 41s                            & Sunday                         & 04                            \\\\\n",
       "\\end{tabular}\n"
      ],
      "text/markdown": [
       "\n",
       "| ride_id | bike_type | start_time | end_time | start_station_name | start_station_id | end_station_name | end_station_id | start_lat | start_lng | end_lat | end_lng | user_status | trip_duration | weekday | month |\n",
       "|---|---|---|---|---|---|---|---|---|---|---|---|---|---|---|---|\n",
       "| 6C992BD37A98A63F             | classic_bike                 | 2021-04-12 18:25:36          | 2021-04-12 18:56:55          | State St & Pearson St        | TA1307000061                 | Southport Ave & Waveland Ave | 13235                        | 41.89745                     | -87.62872                    | 41.94815                     | -87.66394                    | member                       | 1879s (~31.32 minutes)       | Monday                       | 04                           |\n",
       "| 1E0145613A209000             | docked_bike                  | 2021-04-27 17:27:11          | 2021-04-27 18:31:29          | Dorchester Ave & 49th St     | KA1503000069                 | Dorchester Ave & 49th St     | KA1503000069                 | 41.80577                     | -87.59246                    | 41.80577                     | -87.59246                    | casual                       | 3858s (~1.07 hours)          | Tuesday                      | 04                           |\n",
       "| E498E15508A80BAD             | docked_bike                  | 2021-04-03 12:42:45          | 2021-04-07 11:40:24          | Loomis Blvd & 84th St        | 20121                        | Loomis Blvd & 84th St        | 20121                        | 41.74149                     | -87.65841                    | 41.74149                     | -87.65841                    | casual                       | 341859s (~3.96 days)         | Saturday                     | 04                           |\n",
       "| 1887262AD101C604             | classic_bike                 | 2021-04-17 09:17:42          | 2021-04-17 09:42:48          | Honore St & Division St      | TA1305000034                 | Southport Ave & Waveland Ave | 13235                        | 41.90312                     | -87.67394                    | 41.94815                     | -87.66394                    | member                       | 1506s (~25.1 minutes)        | Saturday                     | 04                           |\n",
       "| C123548CAB2A32A5             | docked_bike                  | 2021-04-03 12:42:25          | 2021-04-03 14:13:42          | Loomis Blvd & 84th St        | 20121                        | Loomis Blvd & 84th St        | 20121                        | 41.74149                     | -87.65841                    | 41.74149                     | -87.65841                    | casual                       | 5477s (~1.52 hours)          | Saturday                     | 04                           |\n",
       "| 097E76F3651B1AC1             | classic_bike                 | 2021-04-25 18:43:18          | 2021-04-25 18:43:59          | Clinton St & Polk St         | 15542                        | Clinton St & Polk St         | 15542                        | 41.87147                     | -87.64095                    | 41.87147                     | -87.64095                    | casual                       | 41s                          | Sunday                       | 04                           |\n",
       "\n"
      ],
      "text/plain": [
       "  ride_id          bike_type    start_time          end_time           \n",
       "1 6C992BD37A98A63F classic_bike 2021-04-12 18:25:36 2021-04-12 18:56:55\n",
       "2 1E0145613A209000 docked_bike  2021-04-27 17:27:11 2021-04-27 18:31:29\n",
       "3 E498E15508A80BAD docked_bike  2021-04-03 12:42:45 2021-04-07 11:40:24\n",
       "4 1887262AD101C604 classic_bike 2021-04-17 09:17:42 2021-04-17 09:42:48\n",
       "5 C123548CAB2A32A5 docked_bike  2021-04-03 12:42:25 2021-04-03 14:13:42\n",
       "6 097E76F3651B1AC1 classic_bike 2021-04-25 18:43:18 2021-04-25 18:43:59\n",
       "  start_station_name       start_station_id end_station_name            \n",
       "1 State St & Pearson St    TA1307000061     Southport Ave & Waveland Ave\n",
       "2 Dorchester Ave & 49th St KA1503000069     Dorchester Ave & 49th St    \n",
       "3 Loomis Blvd & 84th St    20121            Loomis Blvd & 84th St       \n",
       "4 Honore St & Division St  TA1305000034     Southport Ave & Waveland Ave\n",
       "5 Loomis Blvd & 84th St    20121            Loomis Blvd & 84th St       \n",
       "6 Clinton St & Polk St     15542            Clinton St & Polk St        \n",
       "  end_station_id start_lat start_lng end_lat  end_lng   user_status\n",
       "1 13235          41.89745  -87.62872 41.94815 -87.66394 member     \n",
       "2 KA1503000069   41.80577  -87.59246 41.80577 -87.59246 casual     \n",
       "3 20121          41.74149  -87.65841 41.74149 -87.65841 casual     \n",
       "4 13235          41.90312  -87.67394 41.94815 -87.66394 member     \n",
       "5 20121          41.74149  -87.65841 41.74149 -87.65841 casual     \n",
       "6 15542          41.87147  -87.64095 41.87147 -87.64095 casual     \n",
       "  trip_duration          weekday  month\n",
       "1 1879s (~31.32 minutes) Monday   04   \n",
       "2 3858s (~1.07 hours)    Tuesday  04   \n",
       "3 341859s (~3.96 days)   Saturday 04   \n",
       "4 1506s (~25.1 minutes)  Saturday 04   \n",
       "5 5477s (~1.52 hours)    Saturday 04   \n",
       "6 41s                    Sunday   04   "
      ]
     },
     "metadata": {},
     "output_type": "display_data"
    }
   ],
   "source": [
    "as_month<- cleaned_trip %>% \n",
    "  mutate(month=format(cleaned_trip$end_time, \"%m\"))\n",
    "head(as_month)"
   ]
  },
  {
   "cell_type": "markdown",
   "id": "d7f8fae6",
   "metadata": {},
   "source": [
    "Since the month(number) is in character format, i have to convert it to a numeric format by running the code below."
   ]
  },
  {
   "cell_type": "code",
   "execution_count": 36,
   "id": "44383bbc",
   "metadata": {},
   "outputs": [
    {
     "name": "stdout",
     "output_type": "stream",
     "text": [
      "Classes 'tbl_df', 'tbl' and 'data.frame':\t4167399 obs. of  17 variables:\n",
      " $ ride_id           : chr  \"6C992BD37A98A63F\" \"1E0145613A209000\" \"E498E15508A80BAD\" \"1887262AD101C604\" ...\n",
      " $ bike_type         : chr  \"classic_bike\" \"docked_bike\" \"docked_bike\" \"classic_bike\" ...\n",
      " $ start_time        : POSIXct, format: \"2021-04-12 18:25:36\" \"2021-04-27 17:27:11\" ...\n",
      " $ end_time          : POSIXct, format: \"2021-04-12 18:56:55\" \"2021-04-27 18:31:29\" ...\n",
      " $ start_station_name: chr  \"State St & Pearson St\" \"Dorchester Ave & 49th St\" \"Loomis Blvd & 84th St\" \"Honore St & Division St\" ...\n",
      " $ start_station_id  : chr  \"TA1307000061\" \"KA1503000069\" \"20121\" \"TA1305000034\" ...\n",
      " $ end_station_name  : chr  \"Southport Ave & Waveland Ave\" \"Dorchester Ave & 49th St\" \"Loomis Blvd & 84th St\" \"Southport Ave & Waveland Ave\" ...\n",
      " $ end_station_id    : chr  \"13235\" \"KA1503000069\" \"20121\" \"13235\" ...\n",
      " $ start_lat         : num  41.9 41.8 41.7 41.9 41.7 ...\n",
      " $ start_lng         : num  -87.6 -87.6 -87.7 -87.7 -87.7 ...\n",
      " $ end_lat           : num  41.9 41.8 41.7 41.9 41.7 ...\n",
      " $ end_lng           : num  -87.7 -87.6 -87.7 -87.7 -87.7 ...\n",
      " $ user_status       : chr  \"member\" \"casual\" \"casual\" \"member\" ...\n",
      " $ trip_duration     :Formal class 'Duration' [package \"lubridate\"] with 1 slot\n",
      "  .. ..@ .Data: num  1879 3858 341859 1506 5477 ...\n",
      " $ weekday           : chr  \"Monday\" \"Tuesday\" \"Saturday\" \"Saturday\" ...\n",
      " $ month             : chr  \"04\" \"04\" \"04\" \"04\" ...\n",
      " $ month_num         : num  4 4 4 4 4 4 4 4 4 4 ...\n"
     ]
    }
   ],
   "source": [
    "month_as_num <- as_month %>% \n",
    "  mutate(month_num = as.numeric(as_month$month))\n",
    "\n",
    "str(month_as_num)"
   ]
  },
  {
   "cell_type": "markdown",
   "id": "2d0c0a93",
   "metadata": {},
   "source": [
    "I will convert the numeric month to month names by running the code below."
   ]
  },
  {
   "cell_type": "code",
   "execution_count": 38,
   "id": "77404724",
   "metadata": {},
   "outputs": [
    {
     "data": {
      "text/html": [
       "<table>\n",
       "<thead><tr><th scope=col>ride_id</th><th scope=col>bike_type</th><th scope=col>start_time</th><th scope=col>end_time</th><th scope=col>start_station_name</th><th scope=col>start_station_id</th><th scope=col>end_station_name</th><th scope=col>end_station_id</th><th scope=col>start_lat</th><th scope=col>start_lng</th><th scope=col>end_lat</th><th scope=col>end_lng</th><th scope=col>user_status</th><th scope=col>trip_duration</th><th scope=col>weekday</th><th scope=col>month</th><th scope=col>month_num</th><th scope=col>month_l</th></tr></thead>\n",
       "<tbody>\n",
       "\t<tr><td>6C992BD37A98A63F                                                    </td><td>classic_bike                                                        </td><td>2021-04-12 18:25:36                                                 </td><td>2021-04-12 18:56:55                                                 </td><td><span style=white-space:pre-wrap>State St &amp; Pearson St   </span></td><td>TA1307000061                                                        </td><td>Southport Ave &amp; Waveland Ave                                    </td><td><span style=white-space:pre-wrap>13235       </span>                </td><td>41.89745                                                            </td><td>-87.62872                                                           </td><td>41.94815                                                            </td><td>-87.66394                                                           </td><td>member                                                              </td><td>1879s (~31.32 minutes)                                              </td><td><span style=white-space:pre-wrap>Monday  </span>                    </td><td>04                                                                  </td><td>4                                                                   </td><td>April                                                               </td></tr>\n",
       "\t<tr><td>1E0145613A209000                                                        </td><td>docked_bike                                                             </td><td>2021-04-27 17:27:11                                                     </td><td>2021-04-27 18:31:29                                                     </td><td>Dorchester Ave &amp; 49th St                                            </td><td>KA1503000069                                                            </td><td><span style=white-space:pre-wrap>Dorchester Ave &amp; 49th St    </span></td><td>KA1503000069                                                            </td><td>41.80577                                                                </td><td>-87.59246                                                               </td><td>41.80577                                                                </td><td>-87.59246                                                               </td><td>casual                                                                  </td><td>3858s (~1.07 hours)                                                     </td><td>Tuesday                                                                 </td><td>04                                                                      </td><td>4                                                                       </td><td>April                                                                   </td></tr>\n",
       "\t<tr><td>E498E15508A80BAD                                                        </td><td>docked_bike                                                             </td><td>2021-04-03 12:42:45                                                     </td><td>2021-04-07 11:40:24                                                     </td><td><span style=white-space:pre-wrap>Loomis Blvd &amp; 84th St   </span>    </td><td><span style=white-space:pre-wrap>20121       </span>                    </td><td><span style=white-space:pre-wrap>Loomis Blvd &amp; 84th St       </span></td><td><span style=white-space:pre-wrap>20121       </span>                    </td><td>41.74149                                                                </td><td>-87.65841                                                               </td><td>41.74149                                                                </td><td>-87.65841                                                               </td><td>casual                                                                  </td><td>341859s (~3.96 days)                                                    </td><td>Saturday                                                                </td><td>04                                                                      </td><td>4                                                                       </td><td>April                                                                   </td></tr>\n",
       "\t<tr><td>1887262AD101C604                                    </td><td>classic_bike                                        </td><td>2021-04-17 09:17:42                                 </td><td>2021-04-17 09:42:48                                 </td><td>Honore St &amp; Division St                         </td><td>TA1305000034                                        </td><td>Southport Ave &amp; Waveland Ave                    </td><td><span style=white-space:pre-wrap>13235       </span></td><td>41.90312                                            </td><td>-87.67394                                           </td><td>41.94815                                            </td><td>-87.66394                                           </td><td>member                                              </td><td>1506s (~25.1 minutes)                               </td><td>Saturday                                            </td><td>04                                                  </td><td>4                                                   </td><td>April                                               </td></tr>\n",
       "\t<tr><td>C123548CAB2A32A5                                                        </td><td>docked_bike                                                             </td><td>2021-04-03 12:42:25                                                     </td><td>2021-04-03 14:13:42                                                     </td><td><span style=white-space:pre-wrap>Loomis Blvd &amp; 84th St   </span>    </td><td><span style=white-space:pre-wrap>20121       </span>                    </td><td><span style=white-space:pre-wrap>Loomis Blvd &amp; 84th St       </span></td><td><span style=white-space:pre-wrap>20121       </span>                    </td><td>41.74149                                                                </td><td>-87.65841                                                               </td><td>41.74149                                                                </td><td>-87.65841                                                               </td><td>casual                                                                  </td><td>5477s (~1.52 hours)                                                     </td><td>Saturday                                                                </td><td>04                                                                      </td><td>4                                                                       </td><td>April                                                                   </td></tr>\n",
       "\t<tr><td>097E76F3651B1AC1                                                        </td><td>classic_bike                                                            </td><td>2021-04-25 18:43:18                                                     </td><td>2021-04-25 18:43:59                                                     </td><td><span style=white-space:pre-wrap>Clinton St &amp; Polk St    </span>    </td><td><span style=white-space:pre-wrap>15542       </span>                    </td><td><span style=white-space:pre-wrap>Clinton St &amp; Polk St        </span></td><td><span style=white-space:pre-wrap>15542       </span>                    </td><td>41.87147                                                                </td><td>-87.64095                                                               </td><td>41.87147                                                                </td><td>-87.64095                                                               </td><td>casual                                                                  </td><td>41s                                                                     </td><td><span style=white-space:pre-wrap>Sunday  </span>                        </td><td>04                                                                      </td><td>4                                                                       </td><td>April                                                                   </td></tr>\n",
       "</tbody>\n",
       "</table>\n"
      ],
      "text/latex": [
       "\\begin{tabular}{r|llllllllllllllllll}\n",
       " ride\\_id & bike\\_type & start\\_time & end\\_time & start\\_station\\_name & start\\_station\\_id & end\\_station\\_name & end\\_station\\_id & start\\_lat & start\\_lng & end\\_lat & end\\_lng & user\\_status & trip\\_duration & weekday & month & month\\_num & month\\_l\\\\\n",
       "\\hline\n",
       "\t 6C992BD37A98A63F                        & classic\\_bike                          & 2021-04-12 18:25:36                     & 2021-04-12 18:56:55                     & State St \\& Pearson St                 & TA1307000061                            & Southport Ave \\& Waveland Ave          & 13235                                   & 41.89745                                & -87.62872                               & 41.94815                                & -87.66394                               & member                                  & 1879s (\\textasciitilde{}31.32 minutes) & Monday                                  & 04                                      & 4                                       & April                                  \\\\\n",
       "\t 1E0145613A209000                     & docked\\_bike                        & 2021-04-27 17:27:11                  & 2021-04-27 18:31:29                  & Dorchester Ave \\& 49th St           & KA1503000069                         & Dorchester Ave \\& 49th St           & KA1503000069                         & 41.80577                             & -87.59246                            & 41.80577                             & -87.59246                            & casual                               & 3858s (\\textasciitilde{}1.07 hours) & Tuesday                              & 04                                   & 4                                    & April                               \\\\\n",
       "\t E498E15508A80BAD                      & docked\\_bike                         & 2021-04-03 12:42:45                   & 2021-04-07 11:40:24                   & Loomis Blvd \\& 84th St               & 20121                                 & Loomis Blvd \\& 84th St               & 20121                                 & 41.74149                              & -87.65841                             & 41.74149                              & -87.65841                             & casual                                & 341859s (\\textasciitilde{}3.96 days) & Saturday                              & 04                                    & 4                                     & April                                \\\\\n",
       "\t 1887262AD101C604                       & classic\\_bike                         & 2021-04-17 09:17:42                    & 2021-04-17 09:42:48                    & Honore St \\& Division St              & TA1305000034                           & Southport Ave \\& Waveland Ave         & 13235                                  & 41.90312                               & -87.67394                              & 41.94815                               & -87.66394                              & member                                 & 1506s (\\textasciitilde{}25.1 minutes) & Saturday                               & 04                                     & 4                                      & April                                 \\\\\n",
       "\t C123548CAB2A32A5                     & docked\\_bike                        & 2021-04-03 12:42:25                  & 2021-04-03 14:13:42                  & Loomis Blvd \\& 84th St              & 20121                                & Loomis Blvd \\& 84th St              & 20121                                & 41.74149                             & -87.65841                            & 41.74149                             & -87.65841                            & casual                               & 5477s (\\textasciitilde{}1.52 hours) & Saturday                             & 04                                   & 4                                    & April                               \\\\\n",
       "\t 097E76F3651B1AC1               & classic\\_bike                 & 2021-04-25 18:43:18            & 2021-04-25 18:43:59            & Clinton St \\& Polk St         & 15542                          & Clinton St \\& Polk St         & 15542                          & 41.87147                       & -87.64095                      & 41.87147                       & -87.64095                      & casual                         & 41s                            & Sunday                         & 04                             & 4                              & April                         \\\\\n",
       "\\end{tabular}\n"
      ],
      "text/markdown": [
       "\n",
       "| ride_id | bike_type | start_time | end_time | start_station_name | start_station_id | end_station_name | end_station_id | start_lat | start_lng | end_lat | end_lng | user_status | trip_duration | weekday | month | month_num | month_l |\n",
       "|---|---|---|---|---|---|---|---|---|---|---|---|---|---|---|---|---|---|\n",
       "| 6C992BD37A98A63F             | classic_bike                 | 2021-04-12 18:25:36          | 2021-04-12 18:56:55          | State St & Pearson St        | TA1307000061                 | Southport Ave & Waveland Ave | 13235                        | 41.89745                     | -87.62872                    | 41.94815                     | -87.66394                    | member                       | 1879s (~31.32 minutes)       | Monday                       | 04                           | 4                            | April                        |\n",
       "| 1E0145613A209000             | docked_bike                  | 2021-04-27 17:27:11          | 2021-04-27 18:31:29          | Dorchester Ave & 49th St     | KA1503000069                 | Dorchester Ave & 49th St     | KA1503000069                 | 41.80577                     | -87.59246                    | 41.80577                     | -87.59246                    | casual                       | 3858s (~1.07 hours)          | Tuesday                      | 04                           | 4                            | April                        |\n",
       "| E498E15508A80BAD             | docked_bike                  | 2021-04-03 12:42:45          | 2021-04-07 11:40:24          | Loomis Blvd & 84th St        | 20121                        | Loomis Blvd & 84th St        | 20121                        | 41.74149                     | -87.65841                    | 41.74149                     | -87.65841                    | casual                       | 341859s (~3.96 days)         | Saturday                     | 04                           | 4                            | April                        |\n",
       "| 1887262AD101C604             | classic_bike                 | 2021-04-17 09:17:42          | 2021-04-17 09:42:48          | Honore St & Division St      | TA1305000034                 | Southport Ave & Waveland Ave | 13235                        | 41.90312                     | -87.67394                    | 41.94815                     | -87.66394                    | member                       | 1506s (~25.1 minutes)        | Saturday                     | 04                           | 4                            | April                        |\n",
       "| C123548CAB2A32A5             | docked_bike                  | 2021-04-03 12:42:25          | 2021-04-03 14:13:42          | Loomis Blvd & 84th St        | 20121                        | Loomis Blvd & 84th St        | 20121                        | 41.74149                     | -87.65841                    | 41.74149                     | -87.65841                    | casual                       | 5477s (~1.52 hours)          | Saturday                     | 04                           | 4                            | April                        |\n",
       "| 097E76F3651B1AC1             | classic_bike                 | 2021-04-25 18:43:18          | 2021-04-25 18:43:59          | Clinton St & Polk St         | 15542                        | Clinton St & Polk St         | 15542                        | 41.87147                     | -87.64095                    | 41.87147                     | -87.64095                    | casual                       | 41s                          | Sunday                       | 04                           | 4                            | April                        |\n",
       "\n"
      ],
      "text/plain": [
       "  ride_id          bike_type    start_time          end_time           \n",
       "1 6C992BD37A98A63F classic_bike 2021-04-12 18:25:36 2021-04-12 18:56:55\n",
       "2 1E0145613A209000 docked_bike  2021-04-27 17:27:11 2021-04-27 18:31:29\n",
       "3 E498E15508A80BAD docked_bike  2021-04-03 12:42:45 2021-04-07 11:40:24\n",
       "4 1887262AD101C604 classic_bike 2021-04-17 09:17:42 2021-04-17 09:42:48\n",
       "5 C123548CAB2A32A5 docked_bike  2021-04-03 12:42:25 2021-04-03 14:13:42\n",
       "6 097E76F3651B1AC1 classic_bike 2021-04-25 18:43:18 2021-04-25 18:43:59\n",
       "  start_station_name       start_station_id end_station_name            \n",
       "1 State St & Pearson St    TA1307000061     Southport Ave & Waveland Ave\n",
       "2 Dorchester Ave & 49th St KA1503000069     Dorchester Ave & 49th St    \n",
       "3 Loomis Blvd & 84th St    20121            Loomis Blvd & 84th St       \n",
       "4 Honore St & Division St  TA1305000034     Southport Ave & Waveland Ave\n",
       "5 Loomis Blvd & 84th St    20121            Loomis Blvd & 84th St       \n",
       "6 Clinton St & Polk St     15542            Clinton St & Polk St        \n",
       "  end_station_id start_lat start_lng end_lat  end_lng   user_status\n",
       "1 13235          41.89745  -87.62872 41.94815 -87.66394 member     \n",
       "2 KA1503000069   41.80577  -87.59246 41.80577 -87.59246 casual     \n",
       "3 20121          41.74149  -87.65841 41.74149 -87.65841 casual     \n",
       "4 13235          41.90312  -87.67394 41.94815 -87.66394 member     \n",
       "5 20121          41.74149  -87.65841 41.74149 -87.65841 casual     \n",
       "6 15542          41.87147  -87.64095 41.87147 -87.64095 casual     \n",
       "  trip_duration          weekday  month month_num month_l\n",
       "1 1879s (~31.32 minutes) Monday   04    4         April  \n",
       "2 3858s (~1.07 hours)    Tuesday  04    4         April  \n",
       "3 341859s (~3.96 days)   Saturday 04    4         April  \n",
       "4 1506s (~25.1 minutes)  Saturday 04    4         April  \n",
       "5 5477s (~1.52 hours)    Saturday 04    4         April  \n",
       "6 41s                    Sunday   04    4         April  "
      ]
     },
     "metadata": {},
     "output_type": "display_data"
    }
   ],
   "source": [
    "month_letter <- month_as_num %>% \n",
    "  mutate(month_l = month.name[month_as_num$month_num])\n",
    "head(month_letter)"
   ]
  },
  {
   "cell_type": "code",
   "execution_count": 40,
   "id": "b1100042",
   "metadata": {},
   "outputs": [
    {
     "data": {
      "text/html": [
       "<table>\n",
       "<thead><tr><th scope=col>month_l</th><th scope=col>user_status</th><th scope=col>number</th></tr></thead>\n",
       "<tbody>\n",
       "\t<tr><td>April    </td><td>casual   </td><td>120375   </td></tr>\n",
       "\t<tr><td>April    </td><td>member   </td><td>177773   </td></tr>\n",
       "\t<tr><td>August   </td><td>casual   </td><td>283262   </td></tr>\n",
       "\t<tr><td>August   </td><td>member   </td><td>325550   </td></tr>\n",
       "\t<tr><td>December </td><td>casual   </td><td> 24489   </td></tr>\n",
       "\t<tr><td>December </td><td>member   </td><td> 89096   </td></tr>\n",
       "\t<tr><td>February </td><td>casual   </td><td>  8608   </td></tr>\n",
       "\t<tr><td>February </td><td>member   </td><td> 34383   </td></tr>\n",
       "\t<tr><td>January  </td><td>casual   </td><td> 14698   </td></tr>\n",
       "\t<tr><td>January  </td><td>member   </td><td> 68823   </td></tr>\n",
       "\t<tr><td>July     </td><td>casual   </td><td>369139   </td></tr>\n",
       "\t<tr><td>July     </td><td>member   </td><td>322868   </td></tr>\n",
       "\t<tr><td>June     </td><td>casual   </td><td>304223   </td></tr>\n",
       "\t<tr><td>June     </td><td>member   </td><td>304566   </td></tr>\n",
       "\t<tr><td>March    </td><td>casual   </td><td> 75633   </td></tr>\n",
       "\t<tr><td>March    </td><td>member   </td><td>130040   </td></tr>\n",
       "\t<tr><td>May      </td><td>casual   </td><td>216745   </td></tr>\n",
       "\t<tr><td>May      </td><td>member   </td><td>234179   </td></tr>\n",
       "\t<tr><td>November </td><td>casual   </td><td> 73130   </td></tr>\n",
       "\t<tr><td>November </td><td>member   </td><td>150024   </td></tr>\n",
       "\t<tr><td>October  </td><td>casual   </td><td>122821   </td></tr>\n",
       "\t<tr><td>October  </td><td>member   </td><td>216492   </td></tr>\n",
       "\t<tr><td>September</td><td>casual   </td><td>215379   </td></tr>\n",
       "\t<tr><td>September</td><td>member   </td><td>285103   </td></tr>\n",
       "</tbody>\n",
       "</table>\n"
      ],
      "text/latex": [
       "\\begin{tabular}{r|lll}\n",
       " month\\_l & user\\_status & number\\\\\n",
       "\\hline\n",
       "\t April     & casual    & 120375   \\\\\n",
       "\t April     & member    & 177773   \\\\\n",
       "\t August    & casual    & 283262   \\\\\n",
       "\t August    & member    & 325550   \\\\\n",
       "\t December  & casual    &  24489   \\\\\n",
       "\t December  & member    &  89096   \\\\\n",
       "\t February  & casual    &   8608   \\\\\n",
       "\t February  & member    &  34383   \\\\\n",
       "\t January   & casual    &  14698   \\\\\n",
       "\t January   & member    &  68823   \\\\\n",
       "\t July      & casual    & 369139   \\\\\n",
       "\t July      & member    & 322868   \\\\\n",
       "\t June      & casual    & 304223   \\\\\n",
       "\t June      & member    & 304566   \\\\\n",
       "\t March     & casual    &  75633   \\\\\n",
       "\t March     & member    & 130040   \\\\\n",
       "\t May       & casual    & 216745   \\\\\n",
       "\t May       & member    & 234179   \\\\\n",
       "\t November  & casual    &  73130   \\\\\n",
       "\t November  & member    & 150024   \\\\\n",
       "\t October   & casual    & 122821   \\\\\n",
       "\t October   & member    & 216492   \\\\\n",
       "\t September & casual    & 215379   \\\\\n",
       "\t September & member    & 285103   \\\\\n",
       "\\end{tabular}\n"
      ],
      "text/markdown": [
       "\n",
       "| month_l | user_status | number |\n",
       "|---|---|---|\n",
       "| April     | casual    | 120375    |\n",
       "| April     | member    | 177773    |\n",
       "| August    | casual    | 283262    |\n",
       "| August    | member    | 325550    |\n",
       "| December  | casual    |  24489    |\n",
       "| December  | member    |  89096    |\n",
       "| February  | casual    |   8608    |\n",
       "| February  | member    |  34383    |\n",
       "| January   | casual    |  14698    |\n",
       "| January   | member    |  68823    |\n",
       "| July      | casual    | 369139    |\n",
       "| July      | member    | 322868    |\n",
       "| June      | casual    | 304223    |\n",
       "| June      | member    | 304566    |\n",
       "| March     | casual    |  75633    |\n",
       "| March     | member    | 130040    |\n",
       "| May       | casual    | 216745    |\n",
       "| May       | member    | 234179    |\n",
       "| November  | casual    |  73130    |\n",
       "| November  | member    | 150024    |\n",
       "| October   | casual    | 122821    |\n",
       "| October   | member    | 216492    |\n",
       "| September | casual    | 215379    |\n",
       "| September | member    | 285103    |\n",
       "\n"
      ],
      "text/plain": [
       "   month_l   user_status number\n",
       "1  April     casual      120375\n",
       "2  April     member      177773\n",
       "3  August    casual      283262\n",
       "4  August    member      325550\n",
       "5  December  casual       24489\n",
       "6  December  member       89096\n",
       "7  February  casual        8608\n",
       "8  February  member       34383\n",
       "9  January   casual       14698\n",
       "10 January   member       68823\n",
       "11 July      casual      369139\n",
       "12 July      member      322868\n",
       "13 June      casual      304223\n",
       "14 June      member      304566\n",
       "15 March     casual       75633\n",
       "16 March     member      130040\n",
       "17 May       casual      216745\n",
       "18 May       member      234179\n",
       "19 November  casual       73130\n",
       "20 November  member      150024\n",
       "21 October   casual      122821\n",
       "22 October   member      216492\n",
       "23 September casual      215379\n",
       "24 September member      285103"
      ]
     },
     "metadata": {},
     "output_type": "display_data"
    }
   ],
   "source": [
    "month_of_ride<- month_letter %>% \n",
    "  group_by(month_l, user_status) %>% \n",
    "  summarize(number = table(month_l))\n",
    "\n",
    "month_of_ride"
   ]
  },
  {
   "cell_type": "markdown",
   "id": "67938cfb",
   "metadata": {},
   "source": [
    "I will export the above outcome to a csv file for further analysis in SQL in order to aggregate the user counts with their corresponding months.  write.csv(month_of_ride, \"month_of_ride.csv\")"
   ]
  },
  {
   "cell_type": "markdown",
   "id": "2cb82c2f",
   "metadata": {},
   "source": [
    "I will extract the data for the two different user types, casual and member, using the sql command below.\n",
    "\n",
    "SELECT * FROM month_of_ride WHERE user_status = \"member\"\n",
    "\n",
    "SELECT * FROM month_of_ride WHERE user_status = \"casual\"\n",
    "\n",
    "\n",
    "Next, i will import and sort the results of the above commands in a descending order.\n"
   ]
  },
  {
   "cell_type": "code",
   "execution_count": 41,
   "id": "ff5802d5",
   "metadata": {},
   "outputs": [],
   "source": [
    "member_month <-read.csv(\"C:\\\\Users\\\\EDEH EMEKA NWEKE\\\\Desktop\\\\member_month_of_ride.csv\")\n",
    "casual_month <-read.csv(\"C:\\\\Users\\\\EDEH EMEKA NWEKE\\\\Desktop\\\\casual_month_of_ride.csv\")"
   ]
  },
  {
   "cell_type": "code",
   "execution_count": 42,
   "id": "94e83471",
   "metadata": {},
   "outputs": [
    {
     "data": {
      "text/html": [
       "<table>\n",
       "<thead><tr><th scope=col>month_l</th><th scope=col>user_status</th><th scope=col>number</th></tr></thead>\n",
       "<tbody>\n",
       "\t<tr><td>February </td><td>member   </td><td> 34383   </td></tr>\n",
       "\t<tr><td>January  </td><td>member   </td><td> 68823   </td></tr>\n",
       "\t<tr><td>December </td><td>member   </td><td> 89096   </td></tr>\n",
       "\t<tr><td>March    </td><td>member   </td><td>130040   </td></tr>\n",
       "\t<tr><td>November </td><td>member   </td><td>150024   </td></tr>\n",
       "\t<tr><td>April    </td><td>member   </td><td>177773   </td></tr>\n",
       "\t<tr><td>October  </td><td>member   </td><td>216492   </td></tr>\n",
       "\t<tr><td>May      </td><td>member   </td><td>234179   </td></tr>\n",
       "\t<tr><td>September</td><td>member   </td><td>285103   </td></tr>\n",
       "\t<tr><td>June     </td><td>member   </td><td>304566   </td></tr>\n",
       "\t<tr><td>July     </td><td>member   </td><td>322868   </td></tr>\n",
       "\t<tr><td>August   </td><td>member   </td><td>325550   </td></tr>\n",
       "</tbody>\n",
       "</table>\n"
      ],
      "text/latex": [
       "\\begin{tabular}{r|lll}\n",
       " month\\_l & user\\_status & number\\\\\n",
       "\\hline\n",
       "\t February  & member    &  34383   \\\\\n",
       "\t January   & member    &  68823   \\\\\n",
       "\t December  & member    &  89096   \\\\\n",
       "\t March     & member    & 130040   \\\\\n",
       "\t November  & member    & 150024   \\\\\n",
       "\t April     & member    & 177773   \\\\\n",
       "\t October   & member    & 216492   \\\\\n",
       "\t May       & member    & 234179   \\\\\n",
       "\t September & member    & 285103   \\\\\n",
       "\t June      & member    & 304566   \\\\\n",
       "\t July      & member    & 322868   \\\\\n",
       "\t August    & member    & 325550   \\\\\n",
       "\\end{tabular}\n"
      ],
      "text/markdown": [
       "\n",
       "| month_l | user_status | number |\n",
       "|---|---|---|\n",
       "| February  | member    |  34383    |\n",
       "| January   | member    |  68823    |\n",
       "| December  | member    |  89096    |\n",
       "| March     | member    | 130040    |\n",
       "| November  | member    | 150024    |\n",
       "| April     | member    | 177773    |\n",
       "| October   | member    | 216492    |\n",
       "| May       | member    | 234179    |\n",
       "| September | member    | 285103    |\n",
       "| June      | member    | 304566    |\n",
       "| July      | member    | 322868    |\n",
       "| August    | member    | 325550    |\n",
       "\n"
      ],
      "text/plain": [
       "   month_l   user_status number\n",
       "1  February  member       34383\n",
       "2  January   member       68823\n",
       "3  December  member       89096\n",
       "4  March     member      130040\n",
       "5  November  member      150024\n",
       "6  April     member      177773\n",
       "7  October   member      216492\n",
       "8  May       member      234179\n",
       "9  September member      285103\n",
       "10 June      member      304566\n",
       "11 July      member      322868\n",
       "12 August    member      325550"
      ]
     },
     "metadata": {},
     "output_type": "display_data"
    }
   ],
   "source": [
    "sort_member_month <- member_month %>% \n",
    "  arrange(number)\n",
    "\n",
    "sort_member_month"
   ]
  },
  {
   "cell_type": "code",
   "execution_count": 43,
   "id": "651761ae",
   "metadata": {},
   "outputs": [
    {
     "data": {
      "text/html": [
       "<table>\n",
       "<thead><tr><th scope=col>month_l</th><th scope=col>user_status</th><th scope=col>number</th></tr></thead>\n",
       "<tbody>\n",
       "\t<tr><td>February </td><td>casual   </td><td>  8608   </td></tr>\n",
       "\t<tr><td>January  </td><td>casual   </td><td> 14698   </td></tr>\n",
       "\t<tr><td>December </td><td>casual   </td><td> 24489   </td></tr>\n",
       "\t<tr><td>November </td><td>casual   </td><td> 73130   </td></tr>\n",
       "\t<tr><td>March    </td><td>casual   </td><td> 75633   </td></tr>\n",
       "\t<tr><td>April    </td><td>casual   </td><td>120375   </td></tr>\n",
       "\t<tr><td>October  </td><td>casual   </td><td>122821   </td></tr>\n",
       "\t<tr><td>September</td><td>casual   </td><td>215379   </td></tr>\n",
       "\t<tr><td>May      </td><td>casual   </td><td>216745   </td></tr>\n",
       "\t<tr><td>August   </td><td>casual   </td><td>283262   </td></tr>\n",
       "\t<tr><td>June     </td><td>casual   </td><td>304223   </td></tr>\n",
       "\t<tr><td>July     </td><td>casual   </td><td>369139   </td></tr>\n",
       "</tbody>\n",
       "</table>\n"
      ],
      "text/latex": [
       "\\begin{tabular}{r|lll}\n",
       " month\\_l & user\\_status & number\\\\\n",
       "\\hline\n",
       "\t February  & casual    &   8608   \\\\\n",
       "\t January   & casual    &  14698   \\\\\n",
       "\t December  & casual    &  24489   \\\\\n",
       "\t November  & casual    &  73130   \\\\\n",
       "\t March     & casual    &  75633   \\\\\n",
       "\t April     & casual    & 120375   \\\\\n",
       "\t October   & casual    & 122821   \\\\\n",
       "\t September & casual    & 215379   \\\\\n",
       "\t May       & casual    & 216745   \\\\\n",
       "\t August    & casual    & 283262   \\\\\n",
       "\t June      & casual    & 304223   \\\\\n",
       "\t July      & casual    & 369139   \\\\\n",
       "\\end{tabular}\n"
      ],
      "text/markdown": [
       "\n",
       "| month_l | user_status | number |\n",
       "|---|---|---|\n",
       "| February  | casual    |   8608    |\n",
       "| January   | casual    |  14698    |\n",
       "| December  | casual    |  24489    |\n",
       "| November  | casual    |  73130    |\n",
       "| March     | casual    |  75633    |\n",
       "| April     | casual    | 120375    |\n",
       "| October   | casual    | 122821    |\n",
       "| September | casual    | 215379    |\n",
       "| May       | casual    | 216745    |\n",
       "| August    | casual    | 283262    |\n",
       "| June      | casual    | 304223    |\n",
       "| July      | casual    | 369139    |\n",
       "\n"
      ],
      "text/plain": [
       "   month_l   user_status number\n",
       "1  February  casual        8608\n",
       "2  January   casual       14698\n",
       "3  December  casual       24489\n",
       "4  November  casual       73130\n",
       "5  March     casual       75633\n",
       "6  April     casual      120375\n",
       "7  October   casual      122821\n",
       "8  September casual      215379\n",
       "9  May       casual      216745\n",
       "10 August    casual      283262\n",
       "11 June      casual      304223\n",
       "12 July      casual      369139"
      ]
     },
     "metadata": {},
     "output_type": "display_data"
    }
   ],
   "source": [
    "sort_casual_month <- casual_month %>% \n",
    "  arrange(number)\n",
    "\n",
    "sort_casual_month"
   ]
  },
  {
   "cell_type": "markdown",
   "id": "564cbfbb",
   "metadata": {},
   "source": [
    "I will further present the above results graphically for clearer picture."
   ]
  },
  {
   "cell_type": "code",
   "execution_count": 44,
   "id": "cb2e7271",
   "metadata": {},
   "outputs": [
    {
     "data": {
      "image/png": "[encoded data removed]",
      "text/plain": [
       "plot without title"
      ]
     },
     "metadata": {},
     "output_type": "display_data"
    }
   ],
   "source": [
    "ggplot(sort_member_month, aes(x=month_l, y=number, color =month_l, fill = month_l)) + \n",
    "  labs(title = 'Number of member Rides vs Months of the year', \n",
    "       caption = 'Data analyzed by Edeh Emeka')+ \n",
    "  geom_bar(stat = \"identity\")+\n",
    "  theme(legend.position=\"none\")"
   ]
  },
  {
   "cell_type": "code",
   "execution_count": 45,
   "id": "543d1591",
   "metadata": {},
   "outputs": [
    {
     "data": {
      "image/png": "[encoded data removed]",
      "text/plain": [
       "plot without title"
      ]
     },
     "metadata": {},
     "output_type": "display_data"
    }
   ],
   "source": [
    "ggplot(sort_casual_month, aes(x=month_l, y=number, color =month_l, fill = month_l)) + \n",
    "  labs(title = 'Number of casual Rides vs Months of the year', \n",
    "       caption = 'Data analyzed by Edeh Emeka')+ \n",
    "  geom_bar(stat = \"identity\")+\n",
    "  theme(legend.position=\"none\")"
   ]
  },
  {
   "cell_type": "markdown",
   "id": "93178154",
   "metadata": {},
   "source": [
    "From the above graphs, it is evident that casual riders are mostly active in the summer months of June, July and August.\n",
    "\n",
    "### ACT\n",
    "\n",
    "Here are my three observations and recommendations in order to convert casual riders to annual riders.  \n",
    "\n",
    "**Observations**  \n",
    "1. Casual users are mostly active on weekends (Fridays, Saturdays and Sundays)as against annual/member users that are almost evenly active all through the week.  \n",
    "2. on the average, Casual users tend to ride for about 25 minutes longer than the member/annual users.  \n",
    "3. Casual users are mostly active during the summer months (June, July, August) while annual/member users are active in all the months bar winter months.  \n",
    "\n",
    "**Recommendations**  \n",
    "1. Offer membership exclusive incentives/packages for weekend rides.  \n",
    "2. Offer discounted special summer packages to members.  \n",
    "3. Offer special discounts for rides that last longer than 15 minutes.  \n",
    "\n",
    "\n",
    "\n",
    "Edeh Emeka N.   \n",
    "2021-08-26\n",
    "  \n",
    "    "
   ]
  },
  {
   "cell_type": "code",
   "execution_count": null,
   "id": "8180413d",
   "metadata": {},
   "outputs": [],
   "source": []
  }
 ],
 "metadata": {
  "kernelspec": {
   "display_name": "R",
   "language": "R",
   "name": "ir"
  },
  "language_info": {
   "codemirror_mode": "r",
   "file_extension": ".r",
   "mimetype": "text/x-r-source",
   "name": "R",
   "pygments_lexer": "r",
   "version": "3.6.1"
  }
 },
 "nbformat": 4,
 "nbformat_minor": 5
}
